{
  "nbformat": 4,
  "nbformat_minor": 0,
  "metadata": {
    "colab": {
      "name": "numerai_round_264.ipynb",
      "provenance": [],
      "authorship_tag": "ABX9TyNOVaUpg+Mp0g8trwxfhJqh",
      "include_colab_link": true
    },
    "kernelspec": {
      "name": "python3",
      "display_name": "Python 3"
    },
    "language_info": {
      "name": "python"
    }
  },
  "cells": [
    {
      "cell_type": "markdown",
      "metadata": {
        "id": "view-in-github",
        "colab_type": "text"
      },
      "source": [
        "<a href=\"https://colab.research.google.com/github/anuj0456/deep_learning_for_coders/blob/master/numerai/numerai_round_264.ipynb\" target=\"_parent\"><img src=\"https://colab.research.google.com/assets/colab-badge.svg\" alt=\"Open In Colab\"/></a>"
      ]
    },
    {
      "cell_type": "code",
      "metadata": {
        "colab": {
          "base_uri": "https://localhost:8080/"
        },
        "id": "zZq3_uLGO2sk",
        "outputId": "8af6caa7-08cc-42fb-c6a7-c82031e6ffe8"
      },
      "source": [
        "from google.colab import drive\n",
        "drive.mount('/content/drive')"
      ],
      "execution_count": 3,
      "outputs": [
        {
          "output_type": "stream",
          "text": [
            "Drive already mounted at /content/drive; to attempt to forcibly remount, call drive.mount(\"/content/drive\", force_remount=True).\n"
          ],
          "name": "stdout"
        }
      ]
    },
    {
      "cell_type": "code",
      "metadata": {
        "colab": {
          "base_uri": "https://localhost:8080/"
        },
        "id": "5Cq2-WgdPOT_",
        "outputId": "810f52e0-de70-45b0-e379-e270c409cfe9"
      },
      "source": [
        "!unzip /content/drive/MyDrive/ML/numerai/numerai_datasets.zip"
      ],
      "execution_count": 4,
      "outputs": [
        {
          "output_type": "stream",
          "text": [
            "Archive:  /content/drive/MyDrive/ML/numerai/numerai_datasets.zip\n",
            "replace numerai_training_data.csv? [y]es, [n]o, [A]ll, [N]one, [r]ename: N\n"
          ],
          "name": "stdout"
        }
      ]
    },
    {
      "cell_type": "code",
      "metadata": {
        "id": "BGfUENAKPtIt"
      },
      "source": [
        "import numpy as np\n",
        "import pandas as pd\n",
        "import xgboost as xgb \n",
        "import tensorflow as tf\n",
        "import lightgbm as lgbm\n",
        "from xgboost import DMatrix\n",
        "from functools import partial\n",
        "import matplotlib.pyplot as plt\n",
        "from lightgbm import LGBMRegressor\n",
        "from sklearn.model_selection import KFold\n",
        "from sklearn.metrics import mean_squared_error\n",
        "from sklearn.preprocessing import LabelEncoder"
      ],
      "execution_count": 5,
      "outputs": []
    },
    {
      "cell_type": "code",
      "metadata": {
        "colab": {
          "base_uri": "https://localhost:8080/",
          "height": 253
        },
        "id": "xU0T_uo3RtK8",
        "outputId": "d01d1317-19d1-4035-ee12-44248b54fdc2"
      },
      "source": [
        "df_train = pd.read_csv(\"numerai_training_data.csv\")\n",
        "df_train.head()"
      ],
      "execution_count": 6,
      "outputs": [
        {
          "output_type": "execute_result",
          "data": {
            "text/html": [
              "<div>\n",
              "<style scoped>\n",
              "    .dataframe tbody tr th:only-of-type {\n",
              "        vertical-align: middle;\n",
              "    }\n",
              "\n",
              "    .dataframe tbody tr th {\n",
              "        vertical-align: top;\n",
              "    }\n",
              "\n",
              "    .dataframe thead th {\n",
              "        text-align: right;\n",
              "    }\n",
              "</style>\n",
              "<table border=\"1\" class=\"dataframe\">\n",
              "  <thead>\n",
              "    <tr style=\"text-align: right;\">\n",
              "      <th></th>\n",
              "      <th>id</th>\n",
              "      <th>era</th>\n",
              "      <th>data_type</th>\n",
              "      <th>feature_intelligence1</th>\n",
              "      <th>feature_intelligence2</th>\n",
              "      <th>feature_intelligence3</th>\n",
              "      <th>feature_intelligence4</th>\n",
              "      <th>feature_intelligence5</th>\n",
              "      <th>feature_intelligence6</th>\n",
              "      <th>feature_intelligence7</th>\n",
              "      <th>feature_intelligence8</th>\n",
              "      <th>feature_intelligence9</th>\n",
              "      <th>feature_intelligence10</th>\n",
              "      <th>feature_intelligence11</th>\n",
              "      <th>feature_intelligence12</th>\n",
              "      <th>feature_charisma1</th>\n",
              "      <th>feature_charisma2</th>\n",
              "      <th>feature_charisma3</th>\n",
              "      <th>feature_charisma4</th>\n",
              "      <th>feature_charisma5</th>\n",
              "      <th>feature_charisma6</th>\n",
              "      <th>feature_charisma7</th>\n",
              "      <th>feature_charisma8</th>\n",
              "      <th>feature_charisma9</th>\n",
              "      <th>feature_charisma10</th>\n",
              "      <th>feature_charisma11</th>\n",
              "      <th>feature_charisma12</th>\n",
              "      <th>feature_charisma13</th>\n",
              "      <th>feature_charisma14</th>\n",
              "      <th>feature_charisma15</th>\n",
              "      <th>feature_charisma16</th>\n",
              "      <th>feature_charisma17</th>\n",
              "      <th>feature_charisma18</th>\n",
              "      <th>feature_charisma19</th>\n",
              "      <th>feature_charisma20</th>\n",
              "      <th>feature_charisma21</th>\n",
              "      <th>feature_charisma22</th>\n",
              "      <th>feature_charisma23</th>\n",
              "      <th>feature_charisma24</th>\n",
              "      <th>feature_charisma25</th>\n",
              "      <th>...</th>\n",
              "      <th>feature_wisdom8</th>\n",
              "      <th>feature_wisdom9</th>\n",
              "      <th>feature_wisdom10</th>\n",
              "      <th>feature_wisdom11</th>\n",
              "      <th>feature_wisdom12</th>\n",
              "      <th>feature_wisdom13</th>\n",
              "      <th>feature_wisdom14</th>\n",
              "      <th>feature_wisdom15</th>\n",
              "      <th>feature_wisdom16</th>\n",
              "      <th>feature_wisdom17</th>\n",
              "      <th>feature_wisdom18</th>\n",
              "      <th>feature_wisdom19</th>\n",
              "      <th>feature_wisdom20</th>\n",
              "      <th>feature_wisdom21</th>\n",
              "      <th>feature_wisdom22</th>\n",
              "      <th>feature_wisdom23</th>\n",
              "      <th>feature_wisdom24</th>\n",
              "      <th>feature_wisdom25</th>\n",
              "      <th>feature_wisdom26</th>\n",
              "      <th>feature_wisdom27</th>\n",
              "      <th>feature_wisdom28</th>\n",
              "      <th>feature_wisdom29</th>\n",
              "      <th>feature_wisdom30</th>\n",
              "      <th>feature_wisdom31</th>\n",
              "      <th>feature_wisdom32</th>\n",
              "      <th>feature_wisdom33</th>\n",
              "      <th>feature_wisdom34</th>\n",
              "      <th>feature_wisdom35</th>\n",
              "      <th>feature_wisdom36</th>\n",
              "      <th>feature_wisdom37</th>\n",
              "      <th>feature_wisdom38</th>\n",
              "      <th>feature_wisdom39</th>\n",
              "      <th>feature_wisdom40</th>\n",
              "      <th>feature_wisdom41</th>\n",
              "      <th>feature_wisdom42</th>\n",
              "      <th>feature_wisdom43</th>\n",
              "      <th>feature_wisdom44</th>\n",
              "      <th>feature_wisdom45</th>\n",
              "      <th>feature_wisdom46</th>\n",
              "      <th>target</th>\n",
              "    </tr>\n",
              "  </thead>\n",
              "  <tbody>\n",
              "    <tr>\n",
              "      <th>0</th>\n",
              "      <td>n000315175b67977</td>\n",
              "      <td>era1</td>\n",
              "      <td>train</td>\n",
              "      <td>0.00</td>\n",
              "      <td>0.50</td>\n",
              "      <td>0.25</td>\n",
              "      <td>0.00</td>\n",
              "      <td>0.5</td>\n",
              "      <td>0.25</td>\n",
              "      <td>0.25</td>\n",
              "      <td>0.25</td>\n",
              "      <td>0.75</td>\n",
              "      <td>0.75</td>\n",
              "      <td>0.25</td>\n",
              "      <td>0.25</td>\n",
              "      <td>1.00</td>\n",
              "      <td>0.75</td>\n",
              "      <td>0.5</td>\n",
              "      <td>1.0</td>\n",
              "      <td>0.5</td>\n",
              "      <td>0.00</td>\n",
              "      <td>0.50</td>\n",
              "      <td>0.50</td>\n",
              "      <td>0.00</td>\n",
              "      <td>0.0</td>\n",
              "      <td>0.00</td>\n",
              "      <td>1.00</td>\n",
              "      <td>0.25</td>\n",
              "      <td>0.00</td>\n",
              "      <td>0.50</td>\n",
              "      <td>0.25</td>\n",
              "      <td>0.75</td>\n",
              "      <td>0.50</td>\n",
              "      <td>1.00</td>\n",
              "      <td>0.75</td>\n",
              "      <td>0.75</td>\n",
              "      <td>0.5</td>\n",
              "      <td>0.50</td>\n",
              "      <td>0.75</td>\n",
              "      <td>0.5</td>\n",
              "      <td>...</td>\n",
              "      <td>0.75</td>\n",
              "      <td>0.75</td>\n",
              "      <td>0.75</td>\n",
              "      <td>0.50</td>\n",
              "      <td>1.00</td>\n",
              "      <td>1.00</td>\n",
              "      <td>0.50</td>\n",
              "      <td>0.75</td>\n",
              "      <td>0.5</td>\n",
              "      <td>0.25</td>\n",
              "      <td>0.25</td>\n",
              "      <td>0.75</td>\n",
              "      <td>0.50</td>\n",
              "      <td>1.00</td>\n",
              "      <td>0.5</td>\n",
              "      <td>0.75</td>\n",
              "      <td>0.75</td>\n",
              "      <td>0.25</td>\n",
              "      <td>0.50</td>\n",
              "      <td>1.00</td>\n",
              "      <td>0.75</td>\n",
              "      <td>0.50</td>\n",
              "      <td>0.50</td>\n",
              "      <td>1.00</td>\n",
              "      <td>0.25</td>\n",
              "      <td>0.5</td>\n",
              "      <td>0.50</td>\n",
              "      <td>0.50</td>\n",
              "      <td>0.75</td>\n",
              "      <td>1.00</td>\n",
              "      <td>1.00</td>\n",
              "      <td>1.00</td>\n",
              "      <td>0.75</td>\n",
              "      <td>0.50</td>\n",
              "      <td>0.75</td>\n",
              "      <td>0.50</td>\n",
              "      <td>1.00</td>\n",
              "      <td>0.50</td>\n",
              "      <td>0.75</td>\n",
              "      <td>0.50</td>\n",
              "    </tr>\n",
              "    <tr>\n",
              "      <th>1</th>\n",
              "      <td>n0014af834a96cdd</td>\n",
              "      <td>era1</td>\n",
              "      <td>train</td>\n",
              "      <td>0.00</td>\n",
              "      <td>0.00</td>\n",
              "      <td>0.00</td>\n",
              "      <td>0.25</td>\n",
              "      <td>0.5</td>\n",
              "      <td>0.00</td>\n",
              "      <td>0.00</td>\n",
              "      <td>0.25</td>\n",
              "      <td>0.50</td>\n",
              "      <td>0.50</td>\n",
              "      <td>0.00</td>\n",
              "      <td>0.50</td>\n",
              "      <td>0.00</td>\n",
              "      <td>0.50</td>\n",
              "      <td>0.5</td>\n",
              "      <td>0.5</td>\n",
              "      <td>0.5</td>\n",
              "      <td>0.50</td>\n",
              "      <td>0.25</td>\n",
              "      <td>0.25</td>\n",
              "      <td>0.50</td>\n",
              "      <td>0.0</td>\n",
              "      <td>1.00</td>\n",
              "      <td>0.50</td>\n",
              "      <td>0.50</td>\n",
              "      <td>0.50</td>\n",
              "      <td>0.75</td>\n",
              "      <td>0.50</td>\n",
              "      <td>0.50</td>\n",
              "      <td>0.75</td>\n",
              "      <td>0.25</td>\n",
              "      <td>0.50</td>\n",
              "      <td>0.75</td>\n",
              "      <td>0.5</td>\n",
              "      <td>0.25</td>\n",
              "      <td>0.75</td>\n",
              "      <td>0.5</td>\n",
              "      <td>...</td>\n",
              "      <td>0.25</td>\n",
              "      <td>0.25</td>\n",
              "      <td>0.25</td>\n",
              "      <td>1.00</td>\n",
              "      <td>1.00</td>\n",
              "      <td>0.50</td>\n",
              "      <td>0.50</td>\n",
              "      <td>0.50</td>\n",
              "      <td>0.0</td>\n",
              "      <td>0.25</td>\n",
              "      <td>1.00</td>\n",
              "      <td>0.50</td>\n",
              "      <td>1.00</td>\n",
              "      <td>1.00</td>\n",
              "      <td>0.5</td>\n",
              "      <td>0.50</td>\n",
              "      <td>0.50</td>\n",
              "      <td>1.00</td>\n",
              "      <td>0.25</td>\n",
              "      <td>0.75</td>\n",
              "      <td>1.00</td>\n",
              "      <td>0.25</td>\n",
              "      <td>0.25</td>\n",
              "      <td>1.00</td>\n",
              "      <td>0.50</td>\n",
              "      <td>0.5</td>\n",
              "      <td>0.50</td>\n",
              "      <td>0.75</td>\n",
              "      <td>0.75</td>\n",
              "      <td>0.75</td>\n",
              "      <td>1.00</td>\n",
              "      <td>1.00</td>\n",
              "      <td>0.00</td>\n",
              "      <td>0.00</td>\n",
              "      <td>0.75</td>\n",
              "      <td>0.25</td>\n",
              "      <td>0.00</td>\n",
              "      <td>0.25</td>\n",
              "      <td>1.00</td>\n",
              "      <td>0.25</td>\n",
              "    </tr>\n",
              "    <tr>\n",
              "      <th>2</th>\n",
              "      <td>n001c93979ac41d4</td>\n",
              "      <td>era1</td>\n",
              "      <td>train</td>\n",
              "      <td>0.25</td>\n",
              "      <td>0.50</td>\n",
              "      <td>0.25</td>\n",
              "      <td>0.25</td>\n",
              "      <td>1.0</td>\n",
              "      <td>0.75</td>\n",
              "      <td>0.75</td>\n",
              "      <td>0.25</td>\n",
              "      <td>0.00</td>\n",
              "      <td>0.25</td>\n",
              "      <td>0.50</td>\n",
              "      <td>1.00</td>\n",
              "      <td>0.50</td>\n",
              "      <td>0.75</td>\n",
              "      <td>0.5</td>\n",
              "      <td>0.5</td>\n",
              "      <td>1.0</td>\n",
              "      <td>0.50</td>\n",
              "      <td>0.50</td>\n",
              "      <td>0.50</td>\n",
              "      <td>0.25</td>\n",
              "      <td>0.0</td>\n",
              "      <td>0.25</td>\n",
              "      <td>0.75</td>\n",
              "      <td>0.75</td>\n",
              "      <td>0.75</td>\n",
              "      <td>0.50</td>\n",
              "      <td>0.75</td>\n",
              "      <td>0.50</td>\n",
              "      <td>0.25</td>\n",
              "      <td>0.50</td>\n",
              "      <td>0.75</td>\n",
              "      <td>0.25</td>\n",
              "      <td>0.5</td>\n",
              "      <td>0.50</td>\n",
              "      <td>0.75</td>\n",
              "      <td>0.5</td>\n",
              "      <td>...</td>\n",
              "      <td>0.25</td>\n",
              "      <td>1.00</td>\n",
              "      <td>1.00</td>\n",
              "      <td>1.00</td>\n",
              "      <td>0.50</td>\n",
              "      <td>1.00</td>\n",
              "      <td>1.00</td>\n",
              "      <td>1.00</td>\n",
              "      <td>0.5</td>\n",
              "      <td>1.00</td>\n",
              "      <td>0.00</td>\n",
              "      <td>1.00</td>\n",
              "      <td>1.00</td>\n",
              "      <td>0.50</td>\n",
              "      <td>1.0</td>\n",
              "      <td>0.75</td>\n",
              "      <td>1.00</td>\n",
              "      <td>0.00</td>\n",
              "      <td>0.50</td>\n",
              "      <td>0.75</td>\n",
              "      <td>0.00</td>\n",
              "      <td>1.00</td>\n",
              "      <td>0.50</td>\n",
              "      <td>0.50</td>\n",
              "      <td>0.75</td>\n",
              "      <td>1.0</td>\n",
              "      <td>0.75</td>\n",
              "      <td>1.00</td>\n",
              "      <td>0.25</td>\n",
              "      <td>0.50</td>\n",
              "      <td>0.25</td>\n",
              "      <td>0.50</td>\n",
              "      <td>0.00</td>\n",
              "      <td>0.00</td>\n",
              "      <td>0.50</td>\n",
              "      <td>1.00</td>\n",
              "      <td>0.00</td>\n",
              "      <td>0.25</td>\n",
              "      <td>0.75</td>\n",
              "      <td>0.25</td>\n",
              "    </tr>\n",
              "    <tr>\n",
              "      <th>3</th>\n",
              "      <td>n0034e4143f22a13</td>\n",
              "      <td>era1</td>\n",
              "      <td>train</td>\n",
              "      <td>1.00</td>\n",
              "      <td>0.00</td>\n",
              "      <td>0.00</td>\n",
              "      <td>0.50</td>\n",
              "      <td>0.5</td>\n",
              "      <td>0.25</td>\n",
              "      <td>0.25</td>\n",
              "      <td>0.75</td>\n",
              "      <td>0.25</td>\n",
              "      <td>0.50</td>\n",
              "      <td>0.50</td>\n",
              "      <td>0.50</td>\n",
              "      <td>0.75</td>\n",
              "      <td>0.50</td>\n",
              "      <td>1.0</td>\n",
              "      <td>0.5</td>\n",
              "      <td>0.5</td>\n",
              "      <td>0.00</td>\n",
              "      <td>1.00</td>\n",
              "      <td>0.00</td>\n",
              "      <td>0.75</td>\n",
              "      <td>0.0</td>\n",
              "      <td>0.50</td>\n",
              "      <td>0.50</td>\n",
              "      <td>0.50</td>\n",
              "      <td>0.50</td>\n",
              "      <td>0.00</td>\n",
              "      <td>0.50</td>\n",
              "      <td>0.50</td>\n",
              "      <td>0.75</td>\n",
              "      <td>0.75</td>\n",
              "      <td>0.50</td>\n",
              "      <td>0.25</td>\n",
              "      <td>0.5</td>\n",
              "      <td>0.50</td>\n",
              "      <td>0.50</td>\n",
              "      <td>0.5</td>\n",
              "      <td>...</td>\n",
              "      <td>1.00</td>\n",
              "      <td>1.00</td>\n",
              "      <td>0.75</td>\n",
              "      <td>0.75</td>\n",
              "      <td>1.00</td>\n",
              "      <td>0.75</td>\n",
              "      <td>0.75</td>\n",
              "      <td>0.75</td>\n",
              "      <td>1.0</td>\n",
              "      <td>0.75</td>\n",
              "      <td>1.00</td>\n",
              "      <td>0.75</td>\n",
              "      <td>1.00</td>\n",
              "      <td>0.75</td>\n",
              "      <td>1.0</td>\n",
              "      <td>0.00</td>\n",
              "      <td>0.50</td>\n",
              "      <td>0.75</td>\n",
              "      <td>1.00</td>\n",
              "      <td>0.75</td>\n",
              "      <td>1.00</td>\n",
              "      <td>0.75</td>\n",
              "      <td>1.00</td>\n",
              "      <td>1.00</td>\n",
              "      <td>0.00</td>\n",
              "      <td>0.5</td>\n",
              "      <td>0.75</td>\n",
              "      <td>0.75</td>\n",
              "      <td>1.00</td>\n",
              "      <td>0.75</td>\n",
              "      <td>1.00</td>\n",
              "      <td>1.00</td>\n",
              "      <td>0.75</td>\n",
              "      <td>0.75</td>\n",
              "      <td>1.00</td>\n",
              "      <td>1.00</td>\n",
              "      <td>0.75</td>\n",
              "      <td>1.00</td>\n",
              "      <td>1.00</td>\n",
              "      <td>0.25</td>\n",
              "    </tr>\n",
              "    <tr>\n",
              "      <th>4</th>\n",
              "      <td>n00679d1a636062f</td>\n",
              "      <td>era1</td>\n",
              "      <td>train</td>\n",
              "      <td>0.25</td>\n",
              "      <td>0.25</td>\n",
              "      <td>0.25</td>\n",
              "      <td>0.25</td>\n",
              "      <td>0.0</td>\n",
              "      <td>0.25</td>\n",
              "      <td>0.50</td>\n",
              "      <td>0.25</td>\n",
              "      <td>0.25</td>\n",
              "      <td>0.50</td>\n",
              "      <td>0.25</td>\n",
              "      <td>0.25</td>\n",
              "      <td>0.75</td>\n",
              "      <td>0.50</td>\n",
              "      <td>0.0</td>\n",
              "      <td>0.5</td>\n",
              "      <td>0.5</td>\n",
              "      <td>0.25</td>\n",
              "      <td>0.00</td>\n",
              "      <td>0.50</td>\n",
              "      <td>0.00</td>\n",
              "      <td>0.5</td>\n",
              "      <td>0.25</td>\n",
              "      <td>0.50</td>\n",
              "      <td>0.50</td>\n",
              "      <td>0.50</td>\n",
              "      <td>0.50</td>\n",
              "      <td>0.50</td>\n",
              "      <td>0.50</td>\n",
              "      <td>0.50</td>\n",
              "      <td>0.75</td>\n",
              "      <td>0.50</td>\n",
              "      <td>0.25</td>\n",
              "      <td>0.5</td>\n",
              "      <td>0.50</td>\n",
              "      <td>0.50</td>\n",
              "      <td>0.5</td>\n",
              "      <td>...</td>\n",
              "      <td>1.00</td>\n",
              "      <td>0.25</td>\n",
              "      <td>0.75</td>\n",
              "      <td>1.00</td>\n",
              "      <td>0.75</td>\n",
              "      <td>0.00</td>\n",
              "      <td>0.00</td>\n",
              "      <td>0.75</td>\n",
              "      <td>0.5</td>\n",
              "      <td>1.00</td>\n",
              "      <td>0.50</td>\n",
              "      <td>0.75</td>\n",
              "      <td>0.25</td>\n",
              "      <td>0.50</td>\n",
              "      <td>0.0</td>\n",
              "      <td>0.50</td>\n",
              "      <td>0.50</td>\n",
              "      <td>0.50</td>\n",
              "      <td>0.75</td>\n",
              "      <td>0.75</td>\n",
              "      <td>0.50</td>\n",
              "      <td>0.75</td>\n",
              "      <td>0.25</td>\n",
              "      <td>0.75</td>\n",
              "      <td>0.50</td>\n",
              "      <td>0.5</td>\n",
              "      <td>0.25</td>\n",
              "      <td>0.25</td>\n",
              "      <td>0.75</td>\n",
              "      <td>0.50</td>\n",
              "      <td>0.75</td>\n",
              "      <td>0.75</td>\n",
              "      <td>0.25</td>\n",
              "      <td>0.50</td>\n",
              "      <td>0.75</td>\n",
              "      <td>0.00</td>\n",
              "      <td>0.50</td>\n",
              "      <td>0.25</td>\n",
              "      <td>0.75</td>\n",
              "      <td>0.75</td>\n",
              "    </tr>\n",
              "  </tbody>\n",
              "</table>\n",
              "<p>5 rows × 314 columns</p>\n",
              "</div>"
            ],
            "text/plain": [
              "                 id   era data_type  ...  feature_wisdom45  feature_wisdom46  target\n",
              "0  n000315175b67977  era1     train  ...              0.50              0.75    0.50\n",
              "1  n0014af834a96cdd  era1     train  ...              0.25              1.00    0.25\n",
              "2  n001c93979ac41d4  era1     train  ...              0.25              0.75    0.25\n",
              "3  n0034e4143f22a13  era1     train  ...              1.00              1.00    0.25\n",
              "4  n00679d1a636062f  era1     train  ...              0.25              0.75    0.75\n",
              "\n",
              "[5 rows x 314 columns]"
            ]
          },
          "metadata": {
            "tags": []
          },
          "execution_count": 6
        }
      ]
    },
    {
      "cell_type": "code",
      "metadata": {
        "colab": {
          "base_uri": "https://localhost:8080/",
          "height": 253
        },
        "id": "pqXUZYBMSJ2Q",
        "outputId": "04588067-a1a9-4c6a-fc63-8a0266357a87"
      },
      "source": [
        "df_test = pd.read_csv(\"numerai_tournament_data.csv\")\n",
        "df_test.head()"
      ],
      "execution_count": 7,
      "outputs": [
        {
          "output_type": "execute_result",
          "data": {
            "text/html": [
              "<div>\n",
              "<style scoped>\n",
              "    .dataframe tbody tr th:only-of-type {\n",
              "        vertical-align: middle;\n",
              "    }\n",
              "\n",
              "    .dataframe tbody tr th {\n",
              "        vertical-align: top;\n",
              "    }\n",
              "\n",
              "    .dataframe thead th {\n",
              "        text-align: right;\n",
              "    }\n",
              "</style>\n",
              "<table border=\"1\" class=\"dataframe\">\n",
              "  <thead>\n",
              "    <tr style=\"text-align: right;\">\n",
              "      <th></th>\n",
              "      <th>id</th>\n",
              "      <th>era</th>\n",
              "      <th>data_type</th>\n",
              "      <th>feature_intelligence1</th>\n",
              "      <th>feature_intelligence2</th>\n",
              "      <th>feature_intelligence3</th>\n",
              "      <th>feature_intelligence4</th>\n",
              "      <th>feature_intelligence5</th>\n",
              "      <th>feature_intelligence6</th>\n",
              "      <th>feature_intelligence7</th>\n",
              "      <th>feature_intelligence8</th>\n",
              "      <th>feature_intelligence9</th>\n",
              "      <th>feature_intelligence10</th>\n",
              "      <th>feature_intelligence11</th>\n",
              "      <th>feature_intelligence12</th>\n",
              "      <th>feature_charisma1</th>\n",
              "      <th>feature_charisma2</th>\n",
              "      <th>feature_charisma3</th>\n",
              "      <th>feature_charisma4</th>\n",
              "      <th>feature_charisma5</th>\n",
              "      <th>feature_charisma6</th>\n",
              "      <th>feature_charisma7</th>\n",
              "      <th>feature_charisma8</th>\n",
              "      <th>feature_charisma9</th>\n",
              "      <th>feature_charisma10</th>\n",
              "      <th>feature_charisma11</th>\n",
              "      <th>feature_charisma12</th>\n",
              "      <th>feature_charisma13</th>\n",
              "      <th>feature_charisma14</th>\n",
              "      <th>feature_charisma15</th>\n",
              "      <th>feature_charisma16</th>\n",
              "      <th>feature_charisma17</th>\n",
              "      <th>feature_charisma18</th>\n",
              "      <th>feature_charisma19</th>\n",
              "      <th>feature_charisma20</th>\n",
              "      <th>feature_charisma21</th>\n",
              "      <th>feature_charisma22</th>\n",
              "      <th>feature_charisma23</th>\n",
              "      <th>feature_charisma24</th>\n",
              "      <th>feature_charisma25</th>\n",
              "      <th>...</th>\n",
              "      <th>feature_wisdom8</th>\n",
              "      <th>feature_wisdom9</th>\n",
              "      <th>feature_wisdom10</th>\n",
              "      <th>feature_wisdom11</th>\n",
              "      <th>feature_wisdom12</th>\n",
              "      <th>feature_wisdom13</th>\n",
              "      <th>feature_wisdom14</th>\n",
              "      <th>feature_wisdom15</th>\n",
              "      <th>feature_wisdom16</th>\n",
              "      <th>feature_wisdom17</th>\n",
              "      <th>feature_wisdom18</th>\n",
              "      <th>feature_wisdom19</th>\n",
              "      <th>feature_wisdom20</th>\n",
              "      <th>feature_wisdom21</th>\n",
              "      <th>feature_wisdom22</th>\n",
              "      <th>feature_wisdom23</th>\n",
              "      <th>feature_wisdom24</th>\n",
              "      <th>feature_wisdom25</th>\n",
              "      <th>feature_wisdom26</th>\n",
              "      <th>feature_wisdom27</th>\n",
              "      <th>feature_wisdom28</th>\n",
              "      <th>feature_wisdom29</th>\n",
              "      <th>feature_wisdom30</th>\n",
              "      <th>feature_wisdom31</th>\n",
              "      <th>feature_wisdom32</th>\n",
              "      <th>feature_wisdom33</th>\n",
              "      <th>feature_wisdom34</th>\n",
              "      <th>feature_wisdom35</th>\n",
              "      <th>feature_wisdom36</th>\n",
              "      <th>feature_wisdom37</th>\n",
              "      <th>feature_wisdom38</th>\n",
              "      <th>feature_wisdom39</th>\n",
              "      <th>feature_wisdom40</th>\n",
              "      <th>feature_wisdom41</th>\n",
              "      <th>feature_wisdom42</th>\n",
              "      <th>feature_wisdom43</th>\n",
              "      <th>feature_wisdom44</th>\n",
              "      <th>feature_wisdom45</th>\n",
              "      <th>feature_wisdom46</th>\n",
              "      <th>target</th>\n",
              "    </tr>\n",
              "  </thead>\n",
              "  <tbody>\n",
              "    <tr>\n",
              "      <th>0</th>\n",
              "      <td>n0003aa52cab36c2</td>\n",
              "      <td>era121</td>\n",
              "      <td>validation</td>\n",
              "      <td>0.25</td>\n",
              "      <td>0.75</td>\n",
              "      <td>0.50</td>\n",
              "      <td>0.50</td>\n",
              "      <td>0.0</td>\n",
              "      <td>0.75</td>\n",
              "      <td>0.5</td>\n",
              "      <td>0.25</td>\n",
              "      <td>0.50</td>\n",
              "      <td>0.5</td>\n",
              "      <td>0.25</td>\n",
              "      <td>0.0</td>\n",
              "      <td>0.25</td>\n",
              "      <td>0.50</td>\n",
              "      <td>0.25</td>\n",
              "      <td>0.00</td>\n",
              "      <td>0.25</td>\n",
              "      <td>1.00</td>\n",
              "      <td>1.00</td>\n",
              "      <td>0.25</td>\n",
              "      <td>1.00</td>\n",
              "      <td>1.00</td>\n",
              "      <td>0.25</td>\n",
              "      <td>0.25</td>\n",
              "      <td>0.0</td>\n",
              "      <td>0.50</td>\n",
              "      <td>0.25</td>\n",
              "      <td>0.75</td>\n",
              "      <td>0.00</td>\n",
              "      <td>0.50</td>\n",
              "      <td>0.25</td>\n",
              "      <td>0.25</td>\n",
              "      <td>0.25</td>\n",
              "      <td>0.50</td>\n",
              "      <td>0.00</td>\n",
              "      <td>0.50</td>\n",
              "      <td>1.00</td>\n",
              "      <td>...</td>\n",
              "      <td>0.00</td>\n",
              "      <td>0.0</td>\n",
              "      <td>0.25</td>\n",
              "      <td>0.5</td>\n",
              "      <td>0.25</td>\n",
              "      <td>0.25</td>\n",
              "      <td>0.00</td>\n",
              "      <td>0.25</td>\n",
              "      <td>0.00</td>\n",
              "      <td>0.25</td>\n",
              "      <td>0.50</td>\n",
              "      <td>0.50</td>\n",
              "      <td>0.50</td>\n",
              "      <td>0.50</td>\n",
              "      <td>0.00</td>\n",
              "      <td>0.25</td>\n",
              "      <td>0.75</td>\n",
              "      <td>0.25</td>\n",
              "      <td>0.25</td>\n",
              "      <td>0.50</td>\n",
              "      <td>0.25</td>\n",
              "      <td>0.00</td>\n",
              "      <td>0.25</td>\n",
              "      <td>0.50</td>\n",
              "      <td>0.25</td>\n",
              "      <td>0.5</td>\n",
              "      <td>0.25</td>\n",
              "      <td>0.25</td>\n",
              "      <td>1.00</td>\n",
              "      <td>0.75</td>\n",
              "      <td>0.75</td>\n",
              "      <td>0.75</td>\n",
              "      <td>1.00</td>\n",
              "      <td>0.75</td>\n",
              "      <td>0.50</td>\n",
              "      <td>0.5</td>\n",
              "      <td>1.0</td>\n",
              "      <td>0.00</td>\n",
              "      <td>0.00</td>\n",
              "      <td>0.25</td>\n",
              "    </tr>\n",
              "    <tr>\n",
              "      <th>1</th>\n",
              "      <td>n000920ed083903f</td>\n",
              "      <td>era121</td>\n",
              "      <td>validation</td>\n",
              "      <td>0.75</td>\n",
              "      <td>0.50</td>\n",
              "      <td>0.75</td>\n",
              "      <td>1.00</td>\n",
              "      <td>0.5</td>\n",
              "      <td>0.00</td>\n",
              "      <td>0.0</td>\n",
              "      <td>0.75</td>\n",
              "      <td>0.25</td>\n",
              "      <td>0.0</td>\n",
              "      <td>0.75</td>\n",
              "      <td>0.5</td>\n",
              "      <td>0.00</td>\n",
              "      <td>0.25</td>\n",
              "      <td>0.50</td>\n",
              "      <td>0.00</td>\n",
              "      <td>1.00</td>\n",
              "      <td>0.25</td>\n",
              "      <td>0.25</td>\n",
              "      <td>1.00</td>\n",
              "      <td>1.00</td>\n",
              "      <td>0.25</td>\n",
              "      <td>0.75</td>\n",
              "      <td>0.00</td>\n",
              "      <td>0.0</td>\n",
              "      <td>0.75</td>\n",
              "      <td>1.00</td>\n",
              "      <td>1.00</td>\n",
              "      <td>0.00</td>\n",
              "      <td>0.25</td>\n",
              "      <td>0.00</td>\n",
              "      <td>0.00</td>\n",
              "      <td>0.25</td>\n",
              "      <td>0.25</td>\n",
              "      <td>0.25</td>\n",
              "      <td>0.00</td>\n",
              "      <td>1.00</td>\n",
              "      <td>...</td>\n",
              "      <td>0.50</td>\n",
              "      <td>0.5</td>\n",
              "      <td>0.25</td>\n",
              "      <td>1.0</td>\n",
              "      <td>0.50</td>\n",
              "      <td>0.25</td>\n",
              "      <td>0.00</td>\n",
              "      <td>0.25</td>\n",
              "      <td>0.50</td>\n",
              "      <td>0.25</td>\n",
              "      <td>1.00</td>\n",
              "      <td>0.25</td>\n",
              "      <td>0.00</td>\n",
              "      <td>0.50</td>\n",
              "      <td>0.75</td>\n",
              "      <td>0.75</td>\n",
              "      <td>0.50</td>\n",
              "      <td>1.00</td>\n",
              "      <td>1.00</td>\n",
              "      <td>0.25</td>\n",
              "      <td>0.50</td>\n",
              "      <td>0.25</td>\n",
              "      <td>0.50</td>\n",
              "      <td>0.50</td>\n",
              "      <td>0.50</td>\n",
              "      <td>0.5</td>\n",
              "      <td>0.25</td>\n",
              "      <td>0.25</td>\n",
              "      <td>0.75</td>\n",
              "      <td>0.50</td>\n",
              "      <td>0.50</td>\n",
              "      <td>0.50</td>\n",
              "      <td>0.75</td>\n",
              "      <td>1.00</td>\n",
              "      <td>0.75</td>\n",
              "      <td>0.5</td>\n",
              "      <td>0.5</td>\n",
              "      <td>0.50</td>\n",
              "      <td>0.50</td>\n",
              "      <td>0.50</td>\n",
              "    </tr>\n",
              "    <tr>\n",
              "      <th>2</th>\n",
              "      <td>n0038e640522c4a6</td>\n",
              "      <td>era121</td>\n",
              "      <td>validation</td>\n",
              "      <td>1.00</td>\n",
              "      <td>0.00</td>\n",
              "      <td>0.00</td>\n",
              "      <td>1.00</td>\n",
              "      <td>1.0</td>\n",
              "      <td>1.00</td>\n",
              "      <td>1.0</td>\n",
              "      <td>1.00</td>\n",
              "      <td>0.50</td>\n",
              "      <td>0.5</td>\n",
              "      <td>1.00</td>\n",
              "      <td>1.0</td>\n",
              "      <td>1.00</td>\n",
              "      <td>0.75</td>\n",
              "      <td>0.50</td>\n",
              "      <td>0.50</td>\n",
              "      <td>1.00</td>\n",
              "      <td>1.00</td>\n",
              "      <td>0.50</td>\n",
              "      <td>0.50</td>\n",
              "      <td>0.00</td>\n",
              "      <td>1.00</td>\n",
              "      <td>0.50</td>\n",
              "      <td>1.00</td>\n",
              "      <td>0.5</td>\n",
              "      <td>1.00</td>\n",
              "      <td>0.50</td>\n",
              "      <td>1.00</td>\n",
              "      <td>0.25</td>\n",
              "      <td>1.00</td>\n",
              "      <td>1.00</td>\n",
              "      <td>1.00</td>\n",
              "      <td>0.50</td>\n",
              "      <td>1.00</td>\n",
              "      <td>1.00</td>\n",
              "      <td>0.75</td>\n",
              "      <td>1.00</td>\n",
              "      <td>...</td>\n",
              "      <td>0.25</td>\n",
              "      <td>0.5</td>\n",
              "      <td>0.00</td>\n",
              "      <td>0.0</td>\n",
              "      <td>0.00</td>\n",
              "      <td>0.25</td>\n",
              "      <td>0.25</td>\n",
              "      <td>0.00</td>\n",
              "      <td>0.50</td>\n",
              "      <td>0.00</td>\n",
              "      <td>0.00</td>\n",
              "      <td>0.00</td>\n",
              "      <td>0.25</td>\n",
              "      <td>0.00</td>\n",
              "      <td>0.25</td>\n",
              "      <td>0.50</td>\n",
              "      <td>0.00</td>\n",
              "      <td>0.00</td>\n",
              "      <td>0.00</td>\n",
              "      <td>0.00</td>\n",
              "      <td>0.00</td>\n",
              "      <td>0.00</td>\n",
              "      <td>0.50</td>\n",
              "      <td>0.00</td>\n",
              "      <td>0.75</td>\n",
              "      <td>0.0</td>\n",
              "      <td>0.00</td>\n",
              "      <td>0.25</td>\n",
              "      <td>0.00</td>\n",
              "      <td>0.00</td>\n",
              "      <td>0.00</td>\n",
              "      <td>0.00</td>\n",
              "      <td>0.50</td>\n",
              "      <td>0.25</td>\n",
              "      <td>0.00</td>\n",
              "      <td>0.0</td>\n",
              "      <td>0.5</td>\n",
              "      <td>0.50</td>\n",
              "      <td>0.00</td>\n",
              "      <td>1.00</td>\n",
              "    </tr>\n",
              "    <tr>\n",
              "      <th>3</th>\n",
              "      <td>n004ac94a87dc54b</td>\n",
              "      <td>era121</td>\n",
              "      <td>validation</td>\n",
              "      <td>0.75</td>\n",
              "      <td>1.00</td>\n",
              "      <td>1.00</td>\n",
              "      <td>0.50</td>\n",
              "      <td>0.0</td>\n",
              "      <td>0.00</td>\n",
              "      <td>0.0</td>\n",
              "      <td>0.50</td>\n",
              "      <td>0.75</td>\n",
              "      <td>1.0</td>\n",
              "      <td>0.75</td>\n",
              "      <td>0.0</td>\n",
              "      <td>0.50</td>\n",
              "      <td>0.00</td>\n",
              "      <td>0.50</td>\n",
              "      <td>0.75</td>\n",
              "      <td>0.50</td>\n",
              "      <td>0.75</td>\n",
              "      <td>0.25</td>\n",
              "      <td>0.75</td>\n",
              "      <td>0.25</td>\n",
              "      <td>0.75</td>\n",
              "      <td>0.25</td>\n",
              "      <td>0.75</td>\n",
              "      <td>1.0</td>\n",
              "      <td>0.50</td>\n",
              "      <td>0.50</td>\n",
              "      <td>0.75</td>\n",
              "      <td>0.50</td>\n",
              "      <td>1.00</td>\n",
              "      <td>0.50</td>\n",
              "      <td>0.25</td>\n",
              "      <td>0.75</td>\n",
              "      <td>0.25</td>\n",
              "      <td>0.75</td>\n",
              "      <td>0.25</td>\n",
              "      <td>0.75</td>\n",
              "      <td>...</td>\n",
              "      <td>0.00</td>\n",
              "      <td>0.0</td>\n",
              "      <td>0.00</td>\n",
              "      <td>0.0</td>\n",
              "      <td>0.00</td>\n",
              "      <td>0.00</td>\n",
              "      <td>0.00</td>\n",
              "      <td>0.00</td>\n",
              "      <td>0.25</td>\n",
              "      <td>0.00</td>\n",
              "      <td>0.25</td>\n",
              "      <td>0.00</td>\n",
              "      <td>0.00</td>\n",
              "      <td>0.25</td>\n",
              "      <td>0.00</td>\n",
              "      <td>0.00</td>\n",
              "      <td>0.00</td>\n",
              "      <td>0.00</td>\n",
              "      <td>0.75</td>\n",
              "      <td>0.00</td>\n",
              "      <td>0.00</td>\n",
              "      <td>0.25</td>\n",
              "      <td>0.25</td>\n",
              "      <td>0.00</td>\n",
              "      <td>0.00</td>\n",
              "      <td>0.0</td>\n",
              "      <td>0.00</td>\n",
              "      <td>0.00</td>\n",
              "      <td>0.00</td>\n",
              "      <td>0.00</td>\n",
              "      <td>0.00</td>\n",
              "      <td>0.00</td>\n",
              "      <td>0.00</td>\n",
              "      <td>0.25</td>\n",
              "      <td>0.00</td>\n",
              "      <td>0.0</td>\n",
              "      <td>0.0</td>\n",
              "      <td>0.25</td>\n",
              "      <td>0.25</td>\n",
              "      <td>0.50</td>\n",
              "    </tr>\n",
              "    <tr>\n",
              "      <th>4</th>\n",
              "      <td>n0052fe97ea0c05f</td>\n",
              "      <td>era121</td>\n",
              "      <td>validation</td>\n",
              "      <td>0.25</td>\n",
              "      <td>0.50</td>\n",
              "      <td>0.50</td>\n",
              "      <td>0.25</td>\n",
              "      <td>1.0</td>\n",
              "      <td>0.50</td>\n",
              "      <td>0.5</td>\n",
              "      <td>0.25</td>\n",
              "      <td>0.25</td>\n",
              "      <td>0.5</td>\n",
              "      <td>0.50</td>\n",
              "      <td>1.0</td>\n",
              "      <td>1.00</td>\n",
              "      <td>1.00</td>\n",
              "      <td>1.00</td>\n",
              "      <td>0.75</td>\n",
              "      <td>0.50</td>\n",
              "      <td>0.50</td>\n",
              "      <td>0.50</td>\n",
              "      <td>0.75</td>\n",
              "      <td>0.00</td>\n",
              "      <td>0.00</td>\n",
              "      <td>0.00</td>\n",
              "      <td>0.25</td>\n",
              "      <td>0.0</td>\n",
              "      <td>0.00</td>\n",
              "      <td>0.75</td>\n",
              "      <td>0.25</td>\n",
              "      <td>1.00</td>\n",
              "      <td>0.25</td>\n",
              "      <td>1.00</td>\n",
              "      <td>0.75</td>\n",
              "      <td>0.00</td>\n",
              "      <td>1.00</td>\n",
              "      <td>0.75</td>\n",
              "      <td>0.75</td>\n",
              "      <td>0.75</td>\n",
              "      <td>...</td>\n",
              "      <td>0.00</td>\n",
              "      <td>0.5</td>\n",
              "      <td>0.50</td>\n",
              "      <td>0.0</td>\n",
              "      <td>0.75</td>\n",
              "      <td>0.50</td>\n",
              "      <td>0.75</td>\n",
              "      <td>0.25</td>\n",
              "      <td>0.25</td>\n",
              "      <td>0.25</td>\n",
              "      <td>0.00</td>\n",
              "      <td>0.25</td>\n",
              "      <td>0.50</td>\n",
              "      <td>0.25</td>\n",
              "      <td>1.00</td>\n",
              "      <td>1.00</td>\n",
              "      <td>1.00</td>\n",
              "      <td>0.00</td>\n",
              "      <td>0.25</td>\n",
              "      <td>0.00</td>\n",
              "      <td>0.00</td>\n",
              "      <td>0.25</td>\n",
              "      <td>0.25</td>\n",
              "      <td>0.75</td>\n",
              "      <td>1.00</td>\n",
              "      <td>1.0</td>\n",
              "      <td>0.75</td>\n",
              "      <td>0.75</td>\n",
              "      <td>0.50</td>\n",
              "      <td>0.50</td>\n",
              "      <td>0.50</td>\n",
              "      <td>0.75</td>\n",
              "      <td>0.00</td>\n",
              "      <td>0.00</td>\n",
              "      <td>0.75</td>\n",
              "      <td>1.0</td>\n",
              "      <td>0.0</td>\n",
              "      <td>0.25</td>\n",
              "      <td>1.00</td>\n",
              "      <td>0.75</td>\n",
              "    </tr>\n",
              "  </tbody>\n",
              "</table>\n",
              "<p>5 rows × 314 columns</p>\n",
              "</div>"
            ],
            "text/plain": [
              "                 id     era  ... feature_wisdom46  target\n",
              "0  n0003aa52cab36c2  era121  ...             0.00    0.25\n",
              "1  n000920ed083903f  era121  ...             0.50    0.50\n",
              "2  n0038e640522c4a6  era121  ...             0.00    1.00\n",
              "3  n004ac94a87dc54b  era121  ...             0.25    0.50\n",
              "4  n0052fe97ea0c05f  era121  ...             1.00    0.75\n",
              "\n",
              "[5 rows x 314 columns]"
            ]
          },
          "metadata": {
            "tags": []
          },
          "execution_count": 7
        }
      ]
    },
    {
      "cell_type": "code",
      "metadata": {
        "colab": {
          "base_uri": "https://localhost:8080/"
        },
        "id": "j90FD7LrGwD4",
        "outputId": "83bd1b8d-743b-432e-aad5-c8b9d270227d"
      },
      "source": [
        "print(df_train.shape)\n",
        "print(df_test.shape)"
      ],
      "execution_count": 8,
      "outputs": [
        {
          "output_type": "stream",
          "text": [
            "(501808, 314)\n",
            "(1725602, 314)\n"
          ],
          "name": "stdout"
        }
      ]
    },
    {
      "cell_type": "code",
      "metadata": {
        "id": "emic3zRjHCsx",
        "colab": {
          "base_uri": "https://localhost:8080/"
        },
        "outputId": "6882e680-d029-47de-cbcd-80f6fcaf26fe"
      },
      "source": [
        "# There's 310 features\n",
        "features = [c for c in df_train if c.startswith(\"feature\")]\n",
        "df_train[\"erano\"] = df_train.era.str.slice(3).astype(int)\n",
        "eras = df_train.erano\n",
        "target = \"target\"\n",
        "len(features)"
      ],
      "execution_count": 9,
      "outputs": [
        {
          "output_type": "execute_result",
          "data": {
            "text/plain": [
              "310"
            ]
          },
          "metadata": {
            "tags": []
          },
          "execution_count": 9
        }
      ]
    },
    {
      "cell_type": "code",
      "metadata": {
        "colab": {
          "base_uri": "https://localhost:8080/"
        },
        "id": "YlaZsny4crxh",
        "outputId": "235d59e3-2f0f-4ebb-b21b-b61bae5b41c3"
      },
      "source": [
        "# The features are grouped together into 6 types\n",
        "feature_groups = {g: [c for c in df_train if c.startswith(f\"feature_{g}\")]\n",
        "    for g in [\"intelligence\", \"wisdom\", \"charisma\", \"dexterity\", \"strength\", \"constitution\"]\n",
        "}\n",
        "feature_groups"
      ],
      "execution_count": 11,
      "outputs": [
        {
          "output_type": "execute_result",
          "data": {
            "text/plain": [
              "{'charisma': ['feature_charisma1',\n",
              "  'feature_charisma2',\n",
              "  'feature_charisma3',\n",
              "  'feature_charisma4',\n",
              "  'feature_charisma5',\n",
              "  'feature_charisma6',\n",
              "  'feature_charisma7',\n",
              "  'feature_charisma8',\n",
              "  'feature_charisma9',\n",
              "  'feature_charisma10',\n",
              "  'feature_charisma11',\n",
              "  'feature_charisma12',\n",
              "  'feature_charisma13',\n",
              "  'feature_charisma14',\n",
              "  'feature_charisma15',\n",
              "  'feature_charisma16',\n",
              "  'feature_charisma17',\n",
              "  'feature_charisma18',\n",
              "  'feature_charisma19',\n",
              "  'feature_charisma20',\n",
              "  'feature_charisma21',\n",
              "  'feature_charisma22',\n",
              "  'feature_charisma23',\n",
              "  'feature_charisma24',\n",
              "  'feature_charisma25',\n",
              "  'feature_charisma26',\n",
              "  'feature_charisma27',\n",
              "  'feature_charisma28',\n",
              "  'feature_charisma29',\n",
              "  'feature_charisma30',\n",
              "  'feature_charisma31',\n",
              "  'feature_charisma32',\n",
              "  'feature_charisma33',\n",
              "  'feature_charisma34',\n",
              "  'feature_charisma35',\n",
              "  'feature_charisma36',\n",
              "  'feature_charisma37',\n",
              "  'feature_charisma38',\n",
              "  'feature_charisma39',\n",
              "  'feature_charisma40',\n",
              "  'feature_charisma41',\n",
              "  'feature_charisma42',\n",
              "  'feature_charisma43',\n",
              "  'feature_charisma44',\n",
              "  'feature_charisma45',\n",
              "  'feature_charisma46',\n",
              "  'feature_charisma47',\n",
              "  'feature_charisma48',\n",
              "  'feature_charisma49',\n",
              "  'feature_charisma50',\n",
              "  'feature_charisma51',\n",
              "  'feature_charisma52',\n",
              "  'feature_charisma53',\n",
              "  'feature_charisma54',\n",
              "  'feature_charisma55',\n",
              "  'feature_charisma56',\n",
              "  'feature_charisma57',\n",
              "  'feature_charisma58',\n",
              "  'feature_charisma59',\n",
              "  'feature_charisma60',\n",
              "  'feature_charisma61',\n",
              "  'feature_charisma62',\n",
              "  'feature_charisma63',\n",
              "  'feature_charisma64',\n",
              "  'feature_charisma65',\n",
              "  'feature_charisma66',\n",
              "  'feature_charisma67',\n",
              "  'feature_charisma68',\n",
              "  'feature_charisma69',\n",
              "  'feature_charisma70',\n",
              "  'feature_charisma71',\n",
              "  'feature_charisma72',\n",
              "  'feature_charisma73',\n",
              "  'feature_charisma74',\n",
              "  'feature_charisma75',\n",
              "  'feature_charisma76',\n",
              "  'feature_charisma77',\n",
              "  'feature_charisma78',\n",
              "  'feature_charisma79',\n",
              "  'feature_charisma80',\n",
              "  'feature_charisma81',\n",
              "  'feature_charisma82',\n",
              "  'feature_charisma83',\n",
              "  'feature_charisma84',\n",
              "  'feature_charisma85',\n",
              "  'feature_charisma86'],\n",
              " 'constitution': ['feature_constitution1',\n",
              "  'feature_constitution2',\n",
              "  'feature_constitution3',\n",
              "  'feature_constitution4',\n",
              "  'feature_constitution5',\n",
              "  'feature_constitution6',\n",
              "  'feature_constitution7',\n",
              "  'feature_constitution8',\n",
              "  'feature_constitution9',\n",
              "  'feature_constitution10',\n",
              "  'feature_constitution11',\n",
              "  'feature_constitution12',\n",
              "  'feature_constitution13',\n",
              "  'feature_constitution14',\n",
              "  'feature_constitution15',\n",
              "  'feature_constitution16',\n",
              "  'feature_constitution17',\n",
              "  'feature_constitution18',\n",
              "  'feature_constitution19',\n",
              "  'feature_constitution20',\n",
              "  'feature_constitution21',\n",
              "  'feature_constitution22',\n",
              "  'feature_constitution23',\n",
              "  'feature_constitution24',\n",
              "  'feature_constitution25',\n",
              "  'feature_constitution26',\n",
              "  'feature_constitution27',\n",
              "  'feature_constitution28',\n",
              "  'feature_constitution29',\n",
              "  'feature_constitution30',\n",
              "  'feature_constitution31',\n",
              "  'feature_constitution32',\n",
              "  'feature_constitution33',\n",
              "  'feature_constitution34',\n",
              "  'feature_constitution35',\n",
              "  'feature_constitution36',\n",
              "  'feature_constitution37',\n",
              "  'feature_constitution38',\n",
              "  'feature_constitution39',\n",
              "  'feature_constitution40',\n",
              "  'feature_constitution41',\n",
              "  'feature_constitution42',\n",
              "  'feature_constitution43',\n",
              "  'feature_constitution44',\n",
              "  'feature_constitution45',\n",
              "  'feature_constitution46',\n",
              "  'feature_constitution47',\n",
              "  'feature_constitution48',\n",
              "  'feature_constitution49',\n",
              "  'feature_constitution50',\n",
              "  'feature_constitution51',\n",
              "  'feature_constitution52',\n",
              "  'feature_constitution53',\n",
              "  'feature_constitution54',\n",
              "  'feature_constitution55',\n",
              "  'feature_constitution56',\n",
              "  'feature_constitution57',\n",
              "  'feature_constitution58',\n",
              "  'feature_constitution59',\n",
              "  'feature_constitution60',\n",
              "  'feature_constitution61',\n",
              "  'feature_constitution62',\n",
              "  'feature_constitution63',\n",
              "  'feature_constitution64',\n",
              "  'feature_constitution65',\n",
              "  'feature_constitution66',\n",
              "  'feature_constitution67',\n",
              "  'feature_constitution68',\n",
              "  'feature_constitution69',\n",
              "  'feature_constitution70',\n",
              "  'feature_constitution71',\n",
              "  'feature_constitution72',\n",
              "  'feature_constitution73',\n",
              "  'feature_constitution74',\n",
              "  'feature_constitution75',\n",
              "  'feature_constitution76',\n",
              "  'feature_constitution77',\n",
              "  'feature_constitution78',\n",
              "  'feature_constitution79',\n",
              "  'feature_constitution80',\n",
              "  'feature_constitution81',\n",
              "  'feature_constitution82',\n",
              "  'feature_constitution83',\n",
              "  'feature_constitution84',\n",
              "  'feature_constitution85',\n",
              "  'feature_constitution86',\n",
              "  'feature_constitution87',\n",
              "  'feature_constitution88',\n",
              "  'feature_constitution89',\n",
              "  'feature_constitution90',\n",
              "  'feature_constitution91',\n",
              "  'feature_constitution92',\n",
              "  'feature_constitution93',\n",
              "  'feature_constitution94',\n",
              "  'feature_constitution95',\n",
              "  'feature_constitution96',\n",
              "  'feature_constitution97',\n",
              "  'feature_constitution98',\n",
              "  'feature_constitution99',\n",
              "  'feature_constitution100',\n",
              "  'feature_constitution101',\n",
              "  'feature_constitution102',\n",
              "  'feature_constitution103',\n",
              "  'feature_constitution104',\n",
              "  'feature_constitution105',\n",
              "  'feature_constitution106',\n",
              "  'feature_constitution107',\n",
              "  'feature_constitution108',\n",
              "  'feature_constitution109',\n",
              "  'feature_constitution110',\n",
              "  'feature_constitution111',\n",
              "  'feature_constitution112',\n",
              "  'feature_constitution113',\n",
              "  'feature_constitution114'],\n",
              " 'dexterity': ['feature_dexterity1',\n",
              "  'feature_dexterity2',\n",
              "  'feature_dexterity3',\n",
              "  'feature_dexterity4',\n",
              "  'feature_dexterity5',\n",
              "  'feature_dexterity6',\n",
              "  'feature_dexterity7',\n",
              "  'feature_dexterity8',\n",
              "  'feature_dexterity9',\n",
              "  'feature_dexterity10',\n",
              "  'feature_dexterity11',\n",
              "  'feature_dexterity12',\n",
              "  'feature_dexterity13',\n",
              "  'feature_dexterity14'],\n",
              " 'intelligence': ['feature_intelligence1',\n",
              "  'feature_intelligence2',\n",
              "  'feature_intelligence3',\n",
              "  'feature_intelligence4',\n",
              "  'feature_intelligence5',\n",
              "  'feature_intelligence6',\n",
              "  'feature_intelligence7',\n",
              "  'feature_intelligence8',\n",
              "  'feature_intelligence9',\n",
              "  'feature_intelligence10',\n",
              "  'feature_intelligence11',\n",
              "  'feature_intelligence12'],\n",
              " 'strength': ['feature_strength1',\n",
              "  'feature_strength2',\n",
              "  'feature_strength3',\n",
              "  'feature_strength4',\n",
              "  'feature_strength5',\n",
              "  'feature_strength6',\n",
              "  'feature_strength7',\n",
              "  'feature_strength8',\n",
              "  'feature_strength9',\n",
              "  'feature_strength10',\n",
              "  'feature_strength11',\n",
              "  'feature_strength12',\n",
              "  'feature_strength13',\n",
              "  'feature_strength14',\n",
              "  'feature_strength15',\n",
              "  'feature_strength16',\n",
              "  'feature_strength17',\n",
              "  'feature_strength18',\n",
              "  'feature_strength19',\n",
              "  'feature_strength20',\n",
              "  'feature_strength21',\n",
              "  'feature_strength22',\n",
              "  'feature_strength23',\n",
              "  'feature_strength24',\n",
              "  'feature_strength25',\n",
              "  'feature_strength26',\n",
              "  'feature_strength27',\n",
              "  'feature_strength28',\n",
              "  'feature_strength29',\n",
              "  'feature_strength30',\n",
              "  'feature_strength31',\n",
              "  'feature_strength32',\n",
              "  'feature_strength33',\n",
              "  'feature_strength34',\n",
              "  'feature_strength35',\n",
              "  'feature_strength36',\n",
              "  'feature_strength37',\n",
              "  'feature_strength38'],\n",
              " 'wisdom': ['feature_wisdom1',\n",
              "  'feature_wisdom2',\n",
              "  'feature_wisdom3',\n",
              "  'feature_wisdom4',\n",
              "  'feature_wisdom5',\n",
              "  'feature_wisdom6',\n",
              "  'feature_wisdom7',\n",
              "  'feature_wisdom8',\n",
              "  'feature_wisdom9',\n",
              "  'feature_wisdom10',\n",
              "  'feature_wisdom11',\n",
              "  'feature_wisdom12',\n",
              "  'feature_wisdom13',\n",
              "  'feature_wisdom14',\n",
              "  'feature_wisdom15',\n",
              "  'feature_wisdom16',\n",
              "  'feature_wisdom17',\n",
              "  'feature_wisdom18',\n",
              "  'feature_wisdom19',\n",
              "  'feature_wisdom20',\n",
              "  'feature_wisdom21',\n",
              "  'feature_wisdom22',\n",
              "  'feature_wisdom23',\n",
              "  'feature_wisdom24',\n",
              "  'feature_wisdom25',\n",
              "  'feature_wisdom26',\n",
              "  'feature_wisdom27',\n",
              "  'feature_wisdom28',\n",
              "  'feature_wisdom29',\n",
              "  'feature_wisdom30',\n",
              "  'feature_wisdom31',\n",
              "  'feature_wisdom32',\n",
              "  'feature_wisdom33',\n",
              "  'feature_wisdom34',\n",
              "  'feature_wisdom35',\n",
              "  'feature_wisdom36',\n",
              "  'feature_wisdom37',\n",
              "  'feature_wisdom38',\n",
              "  'feature_wisdom39',\n",
              "  'feature_wisdom40',\n",
              "  'feature_wisdom41',\n",
              "  'feature_wisdom42',\n",
              "  'feature_wisdom43',\n",
              "  'feature_wisdom44',\n",
              "  'feature_wisdom45',\n",
              "  'feature_wisdom46']}"
            ]
          },
          "metadata": {
            "tags": []
          },
          "execution_count": 11
        }
      ]
    },
    {
      "cell_type": "code",
      "metadata": {
        "id": "vkq4uy9Fc0xR"
      },
      "source": [
        "# The models should be scored based on the rank-correlation (spearman) with the target\n",
        "def numerai_score(y_true, y_pred):\n",
        "    rank_pred = y_pred.groupby(eras).apply(lambda x: x.rank(pct=True, method=\"first\"))\n",
        "    return numpy.corrcoef(y_true, rank_pred)[0,1]\n",
        "\n",
        "# It can also be convenient while working to evaluate based on the regular (pearson) correlation\n",
        "def correlation_score(y_true, y_pred):\n",
        "    return numpy.corrcoef(y_true, y_pred)[0,1]"
      ],
      "execution_count": 10,
      "outputs": []
    },
    {
      "cell_type": "code",
      "metadata": {
        "id": "Bq8ufVwkc2JL"
      },
      "source": [
        "# There are 120 eras numbered from 1 to 120\n",
        "eras.describe()"
      ],
      "execution_count": null,
      "outputs": []
    },
    {
      "cell_type": "code",
      "metadata": {
        "id": "J9tt3jP2dTMt"
      },
      "source": [
        "# The earlier eras are smaller, but generally each era is 4000-5000 rows\n",
        "df.groupby(eras).size().plot()"
      ],
      "execution_count": null,
      "outputs": []
    },
    {
      "cell_type": "code",
      "metadata": {
        "id": "aEofP4IadTtx"
      },
      "source": [
        "# The target is discrete and takes on 5 different values\n",
        "df.groupby(target).size()"
      ],
      "execution_count": null,
      "outputs": []
    },
    {
      "cell_type": "code",
      "metadata": {
        "id": "hFUaTPSIdnPs"
      },
      "source": [
        "feature_corrs = df[features].corr()"
      ],
      "execution_count": null,
      "outputs": []
    },
    {
      "cell_type": "code",
      "metadata": {
        "id": "f5cMlW-Udq20"
      },
      "source": [
        "feature_corrs.stack().head()"
      ],
      "execution_count": null,
      "outputs": []
    },
    {
      "cell_type": "code",
      "metadata": {
        "id": "cjHLi73edqzH"
      },
      "source": [
        "tdf = feature_corrs.stack()\n",
        "tdf = tdf[tdf.index.get_level_values(0) < tdf.index.get_level_values(1)]\n",
        "tdf.sort_values()"
      ],
      "execution_count": null,
      "outputs": []
    },
    {
      "cell_type": "markdown",
      "metadata": {
        "id": "0p3yZabS_svW"
      },
      "source": [
        "### The correlation can change over time\n",
        "You can see this by comparing feature correlations on the first half and second half on the training set"
      ]
    },
    {
      "cell_type": "code",
      "metadata": {
        "id": "l01-z7jkdqvm"
      },
      "source": [
        "df1 = df[eras<=eras.median()]\n",
        "df2 = df[eras>eras.median()]"
      ],
      "execution_count": null,
      "outputs": []
    },
    {
      "cell_type": "code",
      "metadata": {
        "id": "vpRgvTTAdqnn"
      },
      "source": [
        "corr1 = df1[features].corr().unstack()\n",
        "corr1 = corr1[corr1.index.get_level_values(0) < corr1.index.get_level_values(1)]"
      ],
      "execution_count": null,
      "outputs": []
    },
    {
      "cell_type": "code",
      "metadata": {
        "id": "XBU1JtVVd3uI"
      },
      "source": [
        "corr2 = df2[features].corr().unstack()\n",
        "corr2 = corr2[corr2.index.get_level_values(0) < corr2.index.get_level_values(1)]"
      ],
      "execution_count": null,
      "outputs": []
    },
    {
      "cell_type": "code",
      "metadata": {
        "id": "p5vRFjihd5e5"
      },
      "source": [
        "tdf = pandas.DataFrame({\n",
        "    \"corr1\": corr1,\n",
        "    \"corr2\": corr2,\n",
        "})\n",
        "tdf[\"corr_diff\"] = tdf.corr2 - tdf.corr1\n",
        "tdf.sort_values(by=\"corr_diff\")"
      ],
      "execution_count": null,
      "outputs": []
    },
    {
      "cell_type": "markdown",
      "metadata": {
        "id": "O7SSB9_2_svY"
      },
      "source": [
        "## Some features are predictive on their own"
      ]
    },
    {
      "cell_type": "code",
      "metadata": {
        "id": "ATMtqPbSd_lT"
      },
      "source": [
        "feature_scores = {\n",
        "    feature: numerai_score(df[target], df[feature])\n",
        "    for feature in features\n",
        "}"
      ],
      "execution_count": null,
      "outputs": []
    },
    {
      "cell_type": "code",
      "metadata": {
        "id": "fh2ETQjZeBQ7"
      },
      "source": [
        "pandas.Series(feature_scores).sort_values()"
      ],
      "execution_count": null,
      "outputs": []
    },
    {
      "cell_type": "code",
      "metadata": {
        "id": "eXbd-OnReDTk"
      },
      "source": [
        "# Single features do not work consistently though\n",
        "by_era_correlation = pandas.Series({\n",
        "    era: numpy.corrcoef(tdf[target], tdf[\"feature_strength34\"])[0,1]\n",
        "    for era, tdf in df.groupby(eras)\n",
        "})\n",
        "by_era_correlation.plot()"
      ],
      "execution_count": null,
      "outputs": []
    },
    {
      "cell_type": "code",
      "metadata": {
        "id": "epU8yopdeFZT"
      },
      "source": [
        "# With a rolling 10 era average you can see some trends\n",
        "by_era_correlation.rolling(10).mean().plot()"
      ],
      "execution_count": null,
      "outputs": []
    },
    {
      "cell_type": "markdown",
      "metadata": {
        "id": "K5aU9jS4_svZ"
      },
      "source": [
        "# Gotcha: MSE looks worse than correlation out of sample\n",
        "Models will generally be overconfident, so even if they are good at ranking rows, the Mean-Squared-Error of the residuals could be larger than event the Mean-Squared-Error of the target (r-squared<0)"
      ]
    },
    {
      "cell_type": "code",
      "metadata": {
        "id": "0yUX08LmeIug"
      },
      "source": [
        "df1 = df[eras<=eras.median()]\n",
        "df2 = df[eras>eras.median()]"
      ],
      "execution_count": null,
      "outputs": []
    },
    {
      "cell_type": "code",
      "metadata": {
        "id": "smLdOvbdeMOP"
      },
      "source": [
        "linear1 = linear_model.LinearRegression()\n",
        "linear1.fit(df1[features], df1[target])\n",
        "linear2 = linear_model.LinearRegression()\n",
        "linear2.fit(df2[features], df2[target])"
      ],
      "execution_count": null,
      "outputs": []
    },
    {
      "cell_type": "code",
      "metadata": {
        "id": "6h4vH2cuePyl"
      },
      "source": [
        "# Note in particular that the R-squared of (train_on_1, eval_on_2) is slightly negative!\n",
        "r2 = [\n",
        "    [\n",
        "        model.score(dfX[features], dfX[target])\n",
        "        for dfX in [df1, df2]\n",
        "    ]\n",
        "    for model in [linear1, linear2]\n",
        "]\n",
        "pandas.DataFrame(r2, columns=[\"eval_on_1\", \"eval_on_2\"], index=[\"train_on_1\", \"train_on_2\"])"
      ],
      "execution_count": null,
      "outputs": []
    },
    {
      "cell_type": "code",
      "metadata": {
        "id": "RmwSc9vJeR8L"
      },
      "source": [
        "# Note in particular that the correlation of (train_on_1, eval_on_2) is quite decent\n",
        "corrs = [\n",
        "    [\n",
        "        numerai_score(dfX[target], pandas.Series(model.predict(dfX[features]), index=dfX.index))\n",
        "        for dfX in [df1, df2]\n",
        "    ]\n",
        "    for model in [linear1, linear2]\n",
        "]\n",
        "pandas.DataFrame(corrs, columns=[\"eval_on_1\", \"eval_on_2\"], index=[\"train_on_1\", \"train_on_2\"])"
      ],
      "execution_count": null,
      "outputs": []
    },
    {
      "cell_type": "code",
      "metadata": {
        "id": "7jcxUwoJeURZ"
      },
      "source": [
        "xgb1 = xgboost.XGBRegressor()\n",
        "xgb1.fit(df1[features], df1[target])\n",
        "xgb2 = xgboost.XGBRegressor()\n",
        "xgb2.fit(df2[features], df2[target])"
      ],
      "execution_count": null,
      "outputs": []
    },
    {
      "cell_type": "code",
      "metadata": {
        "id": "jPQe_BSKeWCZ"
      },
      "source": [
        "r2 = [\n",
        "    [\n",
        "        model.score(dfX[features], dfX[target])\n",
        "        for dfX in [df1, df2]\n",
        "    ]\n",
        "    for model in [xgb1, xgb2]\n",
        "]\n",
        "pandas.DataFrame(r2, columns=[\"eval_on_1\", \"eval_on_2\"], index=[\"train_on_1\", \"train_on_2\"])"
      ],
      "execution_count": null,
      "outputs": []
    },
    {
      "cell_type": "code",
      "metadata": {
        "id": "3PbkppsXeXyb"
      },
      "source": [
        "corrs = [\n",
        "    [\n",
        "        numerai_score(dfX[target], pandas.Series(model.predict(dfX[features]), index=dfX.index))\n",
        "        for dfX in [df1, df2]\n",
        "    ]\n",
        "    for model in [xgb1, xgb2]\n",
        "]\n",
        "pandas.DataFrame(corrs, columns=[\"eval_on_1\", \"eval_on_2\"], index=[\"train_on_1\", \"train_on_2\"])"
      ],
      "execution_count": null,
      "outputs": []
    },
    {
      "cell_type": "markdown",
      "metadata": {
        "id": "3G7f24ol_svd"
      },
      "source": [
        "# Gotcha:  {0, 1} are noticeably different from {0.25, 0.75}\n",
        "This makes training a classifier one-versus-rest behave counterintuitively.\n",
        "\n",
        "Specifically, the 0-vs-rest and 1-vs-rest classifiers seem to learn how to pick out extreme targets, and their predictions are the most correlated"
      ]
    },
    {
      "cell_type": "code",
      "metadata": {
        "id": "1q3B10mr_svd",
        "outputId": "2dcc438f-58b7-46f8-e0f9-2e117e7e37ca"
      },
      "source": [
        "# Train a standard logistic regression as a classifier\n",
        "logistic = linear_model.LogisticRegression()\n",
        "logistic.fit(df[features], (df[target]*4).astype(int))\n",
        "logistic.score(df[features], (df[target]*4).astype(int))"
      ],
      "execution_count": null,
      "outputs": [
        {
          "output_type": "stream",
          "text": [
            "/home/ubuntu/.local/lib/python3.6/site-packages/scikit_learn-0.21.2-py3.6-linux-x86_64.egg/sklearn/linear_model/logistic.py:432: FutureWarning: Default solver will be changed to 'lbfgs' in 0.22. Specify a solver to silence this warning.\n",
            "  FutureWarning)\n",
            "/home/ubuntu/.local/lib/python3.6/site-packages/scikit_learn-0.21.2-py3.6-linux-x86_64.egg/sklearn/linear_model/logistic.py:469: FutureWarning: Default multi_class will be changed to 'auto' in 0.22. Specify the multi_class option to silence this warning.\n",
            "  \"this warning.\", FutureWarning)\n"
          ],
          "name": "stderr"
        },
        {
          "output_type": "execute_result",
          "data": {
            "text/plain": [
              "0.2623872078563913"
            ]
          },
          "metadata": {
            "tags": []
          },
          "execution_count": 29
        }
      ]
    },
    {
      "cell_type": "code",
      "metadata": {
        "id": "sy_UKXs-_svd",
        "outputId": "f7a84fc5-8618-4cc9-aa36-7678876355cb"
      },
      "source": [
        "# The first and last class are highly correlated\n",
        "corrs=numpy.corrcoef(logistic.predict_proba(df[features]).T)\n",
        "plt.imshow(corrs, vmin=-1, vmax=1, cmap=\"RdYlGn\")\n",
        "corrs"
      ],
      "execution_count": null,
      "outputs": [
        {
          "output_type": "execute_result",
          "data": {
            "text/plain": [
              "array([[ 1.        , -0.88666303, -0.93134968, -0.95005346,  0.87165725],\n",
              "       [-0.88666303,  1.        ,  0.8862373 ,  0.8450147 , -0.948354  ],\n",
              "       [-0.93134968,  0.8862373 ,  1.        ,  0.86030322, -0.95002613],\n",
              "       [-0.95005346,  0.8450147 ,  0.86030322,  1.        , -0.86180891],\n",
              "       [ 0.87165725, -0.948354  , -0.95002613, -0.86180891,  1.        ]])"
            ]
          },
          "metadata": {
            "tags": []
          },
          "execution_count": 30
        },
        {
          "output_type": "display_data",
          "data": {
            "image/png": "[encoded data removed]",
            "text/plain": [
              "<Figure size 432x288 with 1 Axes>"
            ]
          },
          "metadata": {
            "tags": [],
            "needs_background": "light"
          }
        }
      ]
    },
    {
      "cell_type": "code",
      "metadata": {
        "id": "uj-01qwS_sve",
        "outputId": "15140c86-6cd0-4373-a01a-c13164d3495f"
      },
      "source": [
        "# In-sample correlation is 5.4%\n",
        "preds = pandas.Series(logistic.predict_proba(df[features]).dot(logistic.classes_), index=df.index)\n",
        "numerai_score(df[target], preds)"
      ],
      "execution_count": null,
      "outputs": [
        {
          "output_type": "execute_result",
          "data": {
            "text/plain": [
              "0.054008721403805166"
            ]
          },
          "metadata": {
            "tags": []
          },
          "execution_count": 31
        }
      ]
    },
    {
      "cell_type": "code",
      "metadata": {
        "id": "JO9B8aMb_sve",
        "outputId": "16f28ed6-df7e-493c-f155-6d6a76d31d32"
      },
      "source": [
        "# A standard linear model has a slightly higher correlation\n",
        "linear = linear_model.LinearRegression()\n",
        "linear.fit(df[features], df[target])\n",
        "linear.score(df[features], df[target])\n",
        "preds = pandas.Series(linear.predict(df[features]), index=df.index)\n",
        "numerai_score(df[target], preds)"
      ],
      "execution_count": null,
      "outputs": [
        {
          "output_type": "execute_result",
          "data": {
            "text/plain": [
              "0.0541934330359845"
            ]
          },
          "metadata": {
            "tags": []
          },
          "execution_count": 32
        }
      ]
    },
    {
      "cell_type": "markdown",
      "metadata": {
        "id": "ZnZJGYIi_svf"
      },
      "source": [
        "# Gotcha: eras are homogenous, but different from each other\n",
        "##  Random cross-validation will look much better than cross-validating by era\n",
        "\n",
        "Even for a simple linear model, taking a random shuffle reports a correlation of 4.3%, but a time series split reports a lower score of 3.4%"
      ]
    },
    {
      "cell_type": "code",
      "metadata": {
        "id": "_BlO2XBo_svf"
      },
      "source": [
        "crossvalidators = [\n",
        "    model_selection.KFold(5),\n",
        "    model_selection.KFold(5, shuffle=True),\n",
        "    model_selection.GroupKFold(5),\n",
        "    model_selection.TimeSeriesSplit(5)\n",
        "]"
      ],
      "execution_count": null,
      "outputs": []
    },
    {
      "cell_type": "code",
      "metadata": {
        "id": "mczsSsic_svf"
      },
      "source": [
        "def correlation_score(y_true, y_pred):\n",
        "    return numpy.corrcoef(y_true, y_pred)[0,1]"
      ],
      "execution_count": null,
      "outputs": []
    },
    {
      "cell_type": "code",
      "metadata": {
        "id": "d-8UtSeU_svf",
        "outputId": "dcc69da9-a684-4229-fb38-81c09753ecc9"
      },
      "source": [
        "for cv in crossvalidators:\n",
        "    print(cv)\n",
        "    print(numpy.mean(\n",
        "            model_selection.cross_val_score(\n",
        "            linear_model.LinearRegression(),\n",
        "            df[features],\n",
        "            df[target],\n",
        "            cv=cv,\n",
        "            n_jobs=1,\n",
        "            groups=eras,\n",
        "            scoring=metrics.make_scorer(correlation_score, greater_is_better=True)\n",
        "        )))\n",
        "    print()"
      ],
      "execution_count": null,
      "outputs": [
        {
          "output_type": "stream",
          "text": [
            "KFold(n_splits=5, random_state=None, shuffle=False)\n",
            "0.03658489467457003\n",
            "\n",
            "KFold(n_splits=5, random_state=None, shuffle=True)\n",
            "0.04360860798952288\n",
            "\n",
            "GroupKFold(n_splits=5)\n",
            "0.038069863851659315\n",
            "\n",
            "TimeSeriesSplit(max_train_size=None, n_splits=5)\n",
            "0.033943838232674675\n",
            "\n"
          ],
          "name": "stdout"
        }
      ]
    },
    {
      "cell_type": "markdown",
      "metadata": {
        "id": "RGd1IMz6_svg"
      },
      "source": [
        "## Eras can be more or less applicable to other eras\n",
        "You can test this be splitting the eras into blocks of 10, training on each block, and evaluating on each other block."
      ]
    },
    {
      "cell_type": "code",
      "metadata": {
        "id": "HTOy9y-F_svg",
        "outputId": "982d5451-d2ec-40ea-bc4c-1dbce836f236"
      },
      "source": [
        "eras10 = (eras // 10) * 10\n",
        "eras10.value_counts()"
      ],
      "execution_count": null,
      "outputs": [
        {
          "output_type": "execute_result",
          "data": {
            "text/plain": [
              "50     48186\n",
              "60     46831\n",
              "100    46107\n",
              "90     45609\n",
              "110    45070\n",
              "80     43971\n",
              "40     43439\n",
              "30     41101\n",
              "70     40403\n",
              "20     37444\n",
              "10     34600\n",
              "0      24515\n",
              "120     4532\n",
              "Name: erano, dtype: int64"
            ]
          },
          "metadata": {
            "tags": []
          },
          "execution_count": 36
        }
      ]
    },
    {
      "cell_type": "code",
      "metadata": {
        "id": "mp0S8uex_svg",
        "outputId": "bab98fa5-4cde-4a55-a7cd-44fb82459580"
      },
      "source": [
        "results10 = []\n",
        "for train_era, tdf in df[eras10<120].groupby(eras10):\n",
        "    print(train_era)\n",
        "    model = linear_model.LinearRegression()\n",
        "    model.fit(tdf[features], tdf[target])\n",
        "    for test_era, tdf in df[eras10<120].groupby(eras10):\n",
        "        results10.append([\n",
        "            train_era,\n",
        "            test_era,\n",
        "            correlation_score(tdf[target], model.predict(tdf[features]))\n",
        "        ])"
      ],
      "execution_count": null,
      "outputs": [
        {
          "output_type": "stream",
          "text": [
            "0\n",
            "10\n",
            "20\n",
            "30\n",
            "40\n",
            "50\n",
            "60\n",
            "70\n",
            "80\n",
            "90\n",
            "100\n",
            "110\n"
          ],
          "name": "stdout"
        }
      ]
    },
    {
      "cell_type": "code",
      "metadata": {
        "id": "yPhU-0H5_svg",
        "outputId": "f1181880-e98d-4494-9287-16d97bfc567a"
      },
      "source": [
        "results_df = pandas.DataFrame(\n",
        "    results10,\n",
        "    columns=[\"train_era\", \"test_era\", \"score\"]\n",
        ").pivot(index=\"train_era\", columns=\"test_era\", values=\"score\")\n",
        "results_df"
      ],
      "execution_count": null,
      "outputs": [
        {
          "output_type": "execute_result",
          "data": {
            "text/html": [
              "<div>\n",
              "<style scoped>\n",
              "    .dataframe tbody tr th:only-of-type {\n",
              "        vertical-align: middle;\n",
              "    }\n",
              "\n",
              "    .dataframe tbody tr th {\n",
              "        vertical-align: top;\n",
              "    }\n",
              "\n",
              "    .dataframe thead th {\n",
              "        text-align: right;\n",
              "    }\n",
              "</style>\n",
              "<table border=\"1\" class=\"dataframe\">\n",
              "  <thead>\n",
              "    <tr style=\"text-align: right;\">\n",
              "      <th>test_era</th>\n",
              "      <th>0</th>\n",
              "      <th>10</th>\n",
              "      <th>20</th>\n",
              "      <th>30</th>\n",
              "      <th>40</th>\n",
              "      <th>50</th>\n",
              "      <th>60</th>\n",
              "      <th>70</th>\n",
              "      <th>80</th>\n",
              "      <th>90</th>\n",
              "      <th>100</th>\n",
              "      <th>110</th>\n",
              "    </tr>\n",
              "    <tr>\n",
              "      <th>train_era</th>\n",
              "      <th></th>\n",
              "      <th></th>\n",
              "      <th></th>\n",
              "      <th></th>\n",
              "      <th></th>\n",
              "      <th></th>\n",
              "      <th></th>\n",
              "      <th></th>\n",
              "      <th></th>\n",
              "      <th></th>\n",
              "      <th></th>\n",
              "      <th></th>\n",
              "    </tr>\n",
              "  </thead>\n",
              "  <tbody>\n",
              "    <tr>\n",
              "      <th>0</th>\n",
              "      <td>0.146423</td>\n",
              "      <td>0.036963</td>\n",
              "      <td>0.038011</td>\n",
              "      <td>0.034264</td>\n",
              "      <td>0.025910</td>\n",
              "      <td>0.009744</td>\n",
              "      <td>0.002876</td>\n",
              "      <td>0.037817</td>\n",
              "      <td>0.029892</td>\n",
              "      <td>0.033866</td>\n",
              "      <td>0.019426</td>\n",
              "      <td>0.004162</td>\n",
              "    </tr>\n",
              "    <tr>\n",
              "      <th>10</th>\n",
              "      <td>0.042831</td>\n",
              "      <td>0.119715</td>\n",
              "      <td>0.034830</td>\n",
              "      <td>0.033846</td>\n",
              "      <td>0.035863</td>\n",
              "      <td>0.003364</td>\n",
              "      <td>0.006552</td>\n",
              "      <td>0.033276</td>\n",
              "      <td>0.034233</td>\n",
              "      <td>0.038309</td>\n",
              "      <td>0.023926</td>\n",
              "      <td>0.014590</td>\n",
              "    </tr>\n",
              "    <tr>\n",
              "      <th>20</th>\n",
              "      <td>0.043862</td>\n",
              "      <td>0.040213</td>\n",
              "      <td>0.123154</td>\n",
              "      <td>0.036627</td>\n",
              "      <td>0.023993</td>\n",
              "      <td>0.009394</td>\n",
              "      <td>0.000732</td>\n",
              "      <td>0.027858</td>\n",
              "      <td>0.016508</td>\n",
              "      <td>0.035827</td>\n",
              "      <td>0.021159</td>\n",
              "      <td>0.007964</td>\n",
              "    </tr>\n",
              "    <tr>\n",
              "      <th>30</th>\n",
              "      <td>0.043145</td>\n",
              "      <td>0.040596</td>\n",
              "      <td>0.043468</td>\n",
              "      <td>0.108705</td>\n",
              "      <td>0.037635</td>\n",
              "      <td>0.023734</td>\n",
              "      <td>0.007650</td>\n",
              "      <td>0.046880</td>\n",
              "      <td>0.023781</td>\n",
              "      <td>0.039757</td>\n",
              "      <td>0.010581</td>\n",
              "      <td>0.010506</td>\n",
              "    </tr>\n",
              "    <tr>\n",
              "      <th>40</th>\n",
              "      <td>0.039806</td>\n",
              "      <td>0.044743</td>\n",
              "      <td>0.029963</td>\n",
              "      <td>0.037634</td>\n",
              "      <td>0.098834</td>\n",
              "      <td>0.014143</td>\n",
              "      <td>0.007886</td>\n",
              "      <td>0.035910</td>\n",
              "      <td>0.028617</td>\n",
              "      <td>0.031637</td>\n",
              "      <td>0.008431</td>\n",
              "      <td>0.019615</td>\n",
              "    </tr>\n",
              "    <tr>\n",
              "      <th>50</th>\n",
              "      <td>0.017756</td>\n",
              "      <td>0.006481</td>\n",
              "      <td>0.011675</td>\n",
              "      <td>0.025233</td>\n",
              "      <td>0.014928</td>\n",
              "      <td>0.106223</td>\n",
              "      <td>0.009696</td>\n",
              "      <td>0.017742</td>\n",
              "      <td>0.002873</td>\n",
              "      <td>0.018168</td>\n",
              "      <td>0.014381</td>\n",
              "      <td>0.016401</td>\n",
              "    </tr>\n",
              "    <tr>\n",
              "      <th>60</th>\n",
              "      <td>0.011671</td>\n",
              "      <td>0.016350</td>\n",
              "      <td>0.006663</td>\n",
              "      <td>0.009488</td>\n",
              "      <td>0.009990</td>\n",
              "      <td>0.009639</td>\n",
              "      <td>0.104522</td>\n",
              "      <td>0.017671</td>\n",
              "      <td>0.006228</td>\n",
              "      <td>0.003792</td>\n",
              "      <td>0.004541</td>\n",
              "      <td>0.010718</td>\n",
              "    </tr>\n",
              "    <tr>\n",
              "      <th>70</th>\n",
              "      <td>0.039278</td>\n",
              "      <td>0.036966</td>\n",
              "      <td>0.028348</td>\n",
              "      <td>0.034946</td>\n",
              "      <td>0.025443</td>\n",
              "      <td>0.006190</td>\n",
              "      <td>0.010160</td>\n",
              "      <td>0.129820</td>\n",
              "      <td>0.032531</td>\n",
              "      <td>0.035526</td>\n",
              "      <td>0.019330</td>\n",
              "      <td>0.008851</td>\n",
              "    </tr>\n",
              "    <tr>\n",
              "      <th>80</th>\n",
              "      <td>0.038294</td>\n",
              "      <td>0.038707</td>\n",
              "      <td>0.017229</td>\n",
              "      <td>0.020259</td>\n",
              "      <td>0.021633</td>\n",
              "      <td>0.000531</td>\n",
              "      <td>0.003182</td>\n",
              "      <td>0.034221</td>\n",
              "      <td>0.108331</td>\n",
              "      <td>0.030059</td>\n",
              "      <td>0.017398</td>\n",
              "      <td>0.006075</td>\n",
              "    </tr>\n",
              "    <tr>\n",
              "      <th>90</th>\n",
              "      <td>0.032509</td>\n",
              "      <td>0.035588</td>\n",
              "      <td>0.031530</td>\n",
              "      <td>0.032199</td>\n",
              "      <td>0.020467</td>\n",
              "      <td>0.009432</td>\n",
              "      <td>0.000152</td>\n",
              "      <td>0.032199</td>\n",
              "      <td>0.022233</td>\n",
              "      <td>0.120684</td>\n",
              "      <td>0.022538</td>\n",
              "      <td>0.014140</td>\n",
              "    </tr>\n",
              "    <tr>\n",
              "      <th>100</th>\n",
              "      <td>0.026869</td>\n",
              "      <td>0.021840</td>\n",
              "      <td>0.022120</td>\n",
              "      <td>0.007464</td>\n",
              "      <td>0.004211</td>\n",
              "      <td>0.014896</td>\n",
              "      <td>0.004660</td>\n",
              "      <td>0.023715</td>\n",
              "      <td>0.013903</td>\n",
              "      <td>0.027636</td>\n",
              "      <td>0.104936</td>\n",
              "      <td>0.013309</td>\n",
              "    </tr>\n",
              "    <tr>\n",
              "      <th>110</th>\n",
              "      <td>0.004968</td>\n",
              "      <td>0.022504</td>\n",
              "      <td>0.009028</td>\n",
              "      <td>0.011521</td>\n",
              "      <td>0.019793</td>\n",
              "      <td>0.014488</td>\n",
              "      <td>0.007307</td>\n",
              "      <td>0.015275</td>\n",
              "      <td>0.008017</td>\n",
              "      <td>0.023518</td>\n",
              "      <td>0.013382</td>\n",
              "      <td>0.093638</td>\n",
              "    </tr>\n",
              "  </tbody>\n",
              "</table>\n",
              "</div>"
            ],
            "text/plain": [
              "test_era        0         10        20        30        40        50   \\\n",
              "train_era                                                               \n",
              "0          0.146423  0.036963  0.038011  0.034264  0.025910  0.009744   \n",
              "10         0.042831  0.119715  0.034830  0.033846  0.035863  0.003364   \n",
              "20         0.043862  0.040213  0.123154  0.036627  0.023993  0.009394   \n",
              "30         0.043145  0.040596  0.043468  0.108705  0.037635  0.023734   \n",
              "40         0.039806  0.044743  0.029963  0.037634  0.098834  0.014143   \n",
              "50         0.017756  0.006481  0.011675  0.025233  0.014928  0.106223   \n",
              "60         0.011671  0.016350  0.006663  0.009488  0.009990  0.009639   \n",
              "70         0.039278  0.036966  0.028348  0.034946  0.025443  0.006190   \n",
              "80         0.038294  0.038707  0.017229  0.020259  0.021633  0.000531   \n",
              "90         0.032509  0.035588  0.031530  0.032199  0.020467  0.009432   \n",
              "100        0.026869  0.021840  0.022120  0.007464  0.004211  0.014896   \n",
              "110        0.004968  0.022504  0.009028  0.011521  0.019793  0.014488   \n",
              "\n",
              "test_era        60        70        80        90        100       110  \n",
              "train_era                                                              \n",
              "0          0.002876  0.037817  0.029892  0.033866  0.019426  0.004162  \n",
              "10         0.006552  0.033276  0.034233  0.038309  0.023926  0.014590  \n",
              "20         0.000732  0.027858  0.016508  0.035827  0.021159  0.007964  \n",
              "30         0.007650  0.046880  0.023781  0.039757  0.010581  0.010506  \n",
              "40         0.007886  0.035910  0.028617  0.031637  0.008431  0.019615  \n",
              "50         0.009696  0.017742  0.002873  0.018168  0.014381  0.016401  \n",
              "60         0.104522  0.017671  0.006228  0.003792  0.004541  0.010718  \n",
              "70         0.010160  0.129820  0.032531  0.035526  0.019330  0.008851  \n",
              "80         0.003182  0.034221  0.108331  0.030059  0.017398  0.006075  \n",
              "90         0.000152  0.032199  0.022233  0.120684  0.022538  0.014140  \n",
              "100        0.004660  0.023715  0.013903  0.027636  0.104936  0.013309  \n",
              "110        0.007307  0.015275  0.008017  0.023518  0.013382  0.093638  "
            ]
          },
          "metadata": {
            "tags": []
          },
          "execution_count": 38
        }
      ]
    },
    {
      "cell_type": "code",
      "metadata": {
        "id": "cGAI62pt_svh",
        "outputId": "6b5cc912-62e4-4c03-e718-780317fcceb7"
      },
      "source": [
        "# Each row here is the training block of eras, each column is a testing block of eras.\n",
        "# Note that there is a period in the middle that does not seem to be relevant to other eras, and the\n",
        "#  overall performance seems to decrease a bit over time.\n",
        "plt.figure(figsize=(15,15))\n",
        "plt.imshow(results_df, vmin=-0.04, vmax=0.04, cmap=\"RdYlGn\")\n"
      ],
      "execution_count": null,
      "outputs": [
        {
          "output_type": "execute_result",
          "data": {
            "text/plain": [
              "<matplotlib.image.AxesImage at 0x7f6732b723c8>"
            ]
          },
          "metadata": {
            "tags": []
          },
          "execution_count": 39
        },
        {
          "output_type": "display_data",
          "data": {
            "image/png": "[encoded data removed]",
            "text/plain": [
              "<Figure size 1080x1080 with 1 Axes>"
            ]
          },
          "metadata": {
            "tags": [],
            "needs_background": "light"
          }
        }
      ]
    },
    {
      "cell_type": "markdown",
      "metadata": {
        "pycharm": {
          "name": "#%% md\n"
        },
        "id": "fA7k8Gci_svh"
      },
      "source": [
        "Here is an advanced paper that talks about generalization.\n",
        "Eras can be thought about in the same way that \"distributions\" or \"environments\" are talked about here\n",
        "https://arxiv.org/pdf/1907.02893.pdf"
      ]
    },
    {
      "cell_type": "markdown",
      "metadata": {
        "id": "8L7eh8JQ_svh"
      },
      "source": [
        "## Gotcha: Since the signal-to-noise ratio is so low, models can take many more iterations than expected, and have scarily high in-sample performance"
      ]
    },
    {
      "cell_type": "code",
      "metadata": {
        "id": "xKF6PS2O_svi",
        "outputId": "2d0eeacc-3b7e-4afc-ca0e-fff6147cd749"
      },
      "source": [
        "def our_score(preds, dtrain):\n",
        "    return \"score\", -numpy.corrcoef(preds, dtrain.get_label())[0,1]\n",
        "\n",
        "dtrain = xgboost.DMatrix(df1[features], df1[target])\n",
        "dtest = xgboost.DMatrix(df2[features], df2[target])\n",
        "dall = xgboost.DMatrix(df[features], df[target])"
      ],
      "execution_count": null,
      "outputs": [
        {
          "output_type": "stream",
          "text": [
            "/home/ubuntu/.local/lib/python3.6/site-packages/xgboost-0.90-py3.6-linux-x86_64.egg/xgboost/core.py:587: FutureWarning: Series.base is deprecated and will be removed in a future version\n",
            "  if getattr(data, 'base', None) is not None and \\\n",
            "/home/ubuntu/.local/lib/python3.6/site-packages/xgboost-0.90-py3.6-linux-x86_64.egg/xgboost/core.py:588: FutureWarning: Series.base is deprecated and will be removed in a future version\n",
            "  data.base is not None and isinstance(data, np.ndarray) \\\n"
          ],
          "name": "stderr"
        }
      ]
    },
    {
      "cell_type": "code",
      "metadata": {
        "scrolled": false,
        "id": "Bte_kEXj_svi",
        "outputId": "9d5b1c38-e050-43a6-d0e4-22f9f5a83e43"
      },
      "source": [
        "param = {\n",
        "    'max_depth':3,\n",
        "    'eta':0.1,\n",
        "    'silent':1,\n",
        "    'objective':'reg:linear',\n",
        "    'eval_metric':'rmse',\n",
        "    'nthread': -1,\n",
        "}\n",
        "evals_result = {}\n",
        "bst = xgboost.train(\n",
        "    params=param,\n",
        "    dtrain=dtrain,\n",
        "    feval=our_score,\n",
        "    num_boost_round=1000,\n",
        "    evals=[(dtrain, 'train'), (dtest, 'test')],\n",
        "    evals_result=evals_result,\n",
        "    verbose_eval=10,\n",
        ")\n",
        "\n",
        "(0.5 - 0.57*pandas.DataFrame({k: v['score'] for k,v in evals_result.items()})).plot()"
      ],
      "execution_count": null,
      "outputs": [
        {
          "output_type": "stream",
          "text": [
            "[0]\ttrain-rmse:0.35289\ttest-rmse:0.353029\ttrain-score:-0.036672\ttest-score:-0.018971\n",
            "[10]\ttrain-rmse:0.352604\ttest-rmse:0.352907\ttrain-score:-0.060901\ttest-score:-0.030237\n",
            "[20]\ttrain-rmse:0.352406\ttest-rmse:0.352849\ttrain-score:-0.070733\ttest-score:-0.033376\n",
            "[30]\ttrain-rmse:0.352255\ttest-rmse:0.352824\ttrain-score:-0.077785\ttest-score:-0.034502\n",
            "[40]\ttrain-rmse:0.352109\ttest-rmse:0.352797\ttrain-score:-0.083381\ttest-score:-0.036086\n",
            "[50]\ttrain-rmse:0.351989\ttest-rmse:0.35279\ttrain-score:-0.088237\ttest-score:-0.036645\n",
            "[60]\ttrain-rmse:0.351874\ttest-rmse:0.352778\ttrain-score:-0.092579\ttest-score:-0.037602\n",
            "[70]\ttrain-rmse:0.351769\ttest-rmse:0.352774\ttrain-score:-0.096485\ttest-score:-0.038273\n",
            "[80]\ttrain-rmse:0.35167\ttest-rmse:0.352771\ttrain-score:-0.099683\ttest-score:-0.038777\n",
            "[90]\ttrain-rmse:0.351575\ttest-rmse:0.352775\ttrain-score:-0.103451\ttest-score:-0.038894\n",
            "[100]\ttrain-rmse:0.35148\ttest-rmse:0.352776\ttrain-score:-0.107079\ttest-score:-0.039126\n",
            "[110]\ttrain-rmse:0.351393\ttest-rmse:0.352776\ttrain-score:-0.11002\ttest-score:-0.039627\n",
            "[120]\ttrain-rmse:0.351305\ttest-rmse:0.352785\ttrain-score:-0.112903\ttest-score:-0.039542\n",
            "[130]\ttrain-rmse:0.35122\ttest-rmse:0.352789\ttrain-score:-0.115709\ttest-score:-0.039659\n",
            "[140]\ttrain-rmse:0.351144\ttest-rmse:0.352803\ttrain-score:-0.118515\ttest-score:-0.039389\n",
            "[150]\ttrain-rmse:0.351061\ttest-rmse:0.352807\ttrain-score:-0.120926\ttest-score:-0.039736\n",
            "[160]\ttrain-rmse:0.350985\ttest-rmse:0.352816\ttrain-score:-0.123161\ttest-score:-0.039757\n",
            "[170]\ttrain-rmse:0.350907\ttest-rmse:0.352826\ttrain-score:-0.125857\ttest-score:-0.039733\n",
            "[180]\ttrain-rmse:0.350827\ttest-rmse:0.352826\ttrain-score:-0.128098\ttest-score:-0.040137\n",
            "[190]\ttrain-rmse:0.350751\ttest-rmse:0.352831\ttrain-score:-0.130531\ttest-score:-0.040231\n",
            "[200]\ttrain-rmse:0.350673\ttest-rmse:0.352831\ttrain-score:-0.132826\ttest-score:-0.040608\n",
            "[210]\ttrain-rmse:0.350604\ttest-rmse:0.352845\ttrain-score:-0.134819\ttest-score:-0.040475\n",
            "[220]\ttrain-rmse:0.350537\ttest-rmse:0.352847\ttrain-score:-0.136791\ttest-score:-0.040637\n",
            "[230]\ttrain-rmse:0.350476\ttest-rmse:0.352851\ttrain-score:-0.138681\ttest-score:-0.040764\n",
            "[240]\ttrain-rmse:0.350404\ttest-rmse:0.352859\ttrain-score:-0.140549\ttest-score:-0.040961\n",
            "[250]\ttrain-rmse:0.350337\ttest-rmse:0.352864\ttrain-score:-0.142532\ttest-score:-0.041083\n",
            "[260]\ttrain-rmse:0.35027\ttest-rmse:0.352863\ttrain-score:-0.144547\ttest-score:-0.041357\n",
            "[270]\ttrain-rmse:0.350205\ttest-rmse:0.35287\ttrain-score:-0.146406\ttest-score:-0.041408\n",
            "[280]\ttrain-rmse:0.35014\ttest-rmse:0.352882\ttrain-score:-0.148137\ttest-score:-0.04123\n",
            "[290]\ttrain-rmse:0.350078\ttest-rmse:0.352895\ttrain-score:-0.149793\ttest-score:-0.041042\n",
            "[300]\ttrain-rmse:0.350016\ttest-rmse:0.352909\ttrain-score:-0.151378\ttest-score:-0.040826\n",
            "[310]\ttrain-rmse:0.349953\ttest-rmse:0.352918\ttrain-score:-0.152825\ttest-score:-0.040895\n",
            "[320]\ttrain-rmse:0.349893\ttest-rmse:0.352924\ttrain-score:-0.154626\ttest-score:-0.040873\n",
            "[330]\ttrain-rmse:0.34983\ttest-rmse:0.352933\ttrain-score:-0.156246\ttest-score:-0.040781\n",
            "[340]\ttrain-rmse:0.34977\ttest-rmse:0.352941\ttrain-score:-0.157914\ttest-score:-0.040768\n",
            "[350]\ttrain-rmse:0.34971\ttest-rmse:0.352946\ttrain-score:-0.159419\ttest-score:-0.040972\n",
            "[360]\ttrain-rmse:0.349644\ttest-rmse:0.352961\ttrain-score:-0.160967\ttest-score:-0.040753\n",
            "[370]\ttrain-rmse:0.349589\ttest-rmse:0.352969\ttrain-score:-0.162375\ttest-score:-0.040752\n",
            "[380]\ttrain-rmse:0.349524\ttest-rmse:0.352976\ttrain-score:-0.164134\ttest-score:-0.0407\n",
            "[390]\ttrain-rmse:0.349463\ttest-rmse:0.352984\ttrain-score:-0.16552\ttest-score:-0.040762\n",
            "[400]\ttrain-rmse:0.349405\ttest-rmse:0.35299\ttrain-score:-0.167064\ttest-score:-0.040765\n",
            "[410]\ttrain-rmse:0.349343\ttest-rmse:0.352991\ttrain-score:-0.168644\ttest-score:-0.040964\n",
            "[420]\ttrain-rmse:0.349281\ttest-rmse:0.352999\ttrain-score:-0.1703\ttest-score:-0.040965\n",
            "[430]\ttrain-rmse:0.349221\ttest-rmse:0.353008\ttrain-score:-0.171884\ttest-score:-0.040924\n",
            "[440]\ttrain-rmse:0.349163\ttest-rmse:0.353019\ttrain-score:-0.173448\ttest-score:-0.040691\n",
            "[450]\ttrain-rmse:0.349104\ttest-rmse:0.353026\ttrain-score:-0.174742\ttest-score:-0.040719\n",
            "[460]\ttrain-rmse:0.349048\ttest-rmse:0.353043\ttrain-score:-0.176047\ttest-score:-0.040515\n",
            "[470]\ttrain-rmse:0.348994\ttest-rmse:0.353047\ttrain-score:-0.177304\ttest-score:-0.040628\n",
            "[480]\ttrain-rmse:0.348935\ttest-rmse:0.35305\ttrain-score:-0.17878\ttest-score:-0.040625\n",
            "[490]\ttrain-rmse:0.348881\ttest-rmse:0.353052\ttrain-score:-0.180321\ttest-score:-0.040779\n",
            "[500]\ttrain-rmse:0.348828\ttest-rmse:0.353064\ttrain-score:-0.181524\ttest-score:-0.040672\n",
            "[510]\ttrain-rmse:0.348773\ttest-rmse:0.353077\ttrain-score:-0.182828\ttest-score:-0.040411\n",
            "[520]\ttrain-rmse:0.348719\ttest-rmse:0.35308\ttrain-score:-0.184195\ttest-score:-0.0406\n",
            "[530]\ttrain-rmse:0.348663\ttest-rmse:0.353082\ttrain-score:-0.185463\ttest-score:-0.04076\n",
            "[540]\ttrain-rmse:0.348611\ttest-rmse:0.353084\ttrain-score:-0.186865\ttest-score:-0.040852\n",
            "[550]\ttrain-rmse:0.348557\ttest-rmse:0.353097\ttrain-score:-0.188067\ttest-score:-0.040715\n",
            "[560]\ttrain-rmse:0.348504\ttest-rmse:0.353104\ttrain-score:-0.18931\ttest-score:-0.040648\n",
            "[570]\ttrain-rmse:0.348451\ttest-rmse:0.353117\ttrain-score:-0.190356\ttest-score:-0.040564\n",
            "[580]\ttrain-rmse:0.348394\ttest-rmse:0.353123\ttrain-score:-0.19196\ttest-score:-0.040462\n",
            "[590]\ttrain-rmse:0.348344\ttest-rmse:0.35313\ttrain-score:-0.193121\ttest-score:-0.040481\n",
            "[600]\ttrain-rmse:0.348292\ttest-rmse:0.353142\ttrain-score:-0.193977\ttest-score:-0.040508\n",
            "[610]\ttrain-rmse:0.348235\ttest-rmse:0.353146\ttrain-score:-0.195221\ttest-score:-0.040646\n",
            "[620]\ttrain-rmse:0.348188\ttest-rmse:0.353153\ttrain-score:-0.196006\ttest-score:-0.040727\n",
            "[630]\ttrain-rmse:0.348141\ttest-rmse:0.353165\ttrain-score:-0.197121\ttest-score:-0.040569\n",
            "[640]\ttrain-rmse:0.348087\ttest-rmse:0.353168\ttrain-score:-0.198471\ttest-score:-0.040639\n",
            "[650]\ttrain-rmse:0.348036\ttest-rmse:0.353176\ttrain-score:-0.199684\ttest-score:-0.040547\n",
            "[660]\ttrain-rmse:0.347984\ttest-rmse:0.353186\ttrain-score:-0.200591\ttest-score:-0.040485\n",
            "[670]\ttrain-rmse:0.347934\ttest-rmse:0.353189\ttrain-score:-0.201821\ttest-score:-0.040502\n",
            "[680]\ttrain-rmse:0.347882\ttest-rmse:0.353195\ttrain-score:-0.203078\ttest-score:-0.040522\n",
            "[690]\ttrain-rmse:0.347835\ttest-rmse:0.353195\ttrain-score:-0.204161\ttest-score:-0.040623\n",
            "[700]\ttrain-rmse:0.347782\ttest-rmse:0.353202\ttrain-score:-0.205183\ttest-score:-0.040715\n",
            "[710]\ttrain-rmse:0.347732\ttest-rmse:0.353208\ttrain-score:-0.206217\ttest-score:-0.040714\n",
            "[720]\ttrain-rmse:0.347682\ttest-rmse:0.353217\ttrain-score:-0.207257\ttest-score:-0.040665\n",
            "[730]\ttrain-rmse:0.347632\ttest-rmse:0.353234\ttrain-score:-0.208297\ttest-score:-0.040383\n",
            "[740]\ttrain-rmse:0.347586\ttest-rmse:0.353241\ttrain-score:-0.209288\ttest-score:-0.040378\n",
            "[750]\ttrain-rmse:0.347537\ttest-rmse:0.353253\ttrain-score:-0.210239\ttest-score:-0.040291\n",
            "[760]\ttrain-rmse:0.347484\ttest-rmse:0.353261\ttrain-score:-0.211296\ttest-score:-0.040235\n",
            "[770]\ttrain-rmse:0.347435\ttest-rmse:0.353268\ttrain-score:-0.212326\ttest-score:-0.04031\n",
            "[780]\ttrain-rmse:0.347387\ttest-rmse:0.353278\ttrain-score:-0.213435\ttest-score:-0.040124\n",
            "[790]\ttrain-rmse:0.347338\ttest-rmse:0.353287\ttrain-score:-0.214471\ttest-score:-0.040097\n",
            "[800]\ttrain-rmse:0.347293\ttest-rmse:0.353291\ttrain-score:-0.21549\ttest-score:-0.040079\n",
            "[810]\ttrain-rmse:0.347241\ttest-rmse:0.353298\ttrain-score:-0.216715\ttest-score:-0.040053\n",
            "[820]\ttrain-rmse:0.347193\ttest-rmse:0.353305\ttrain-score:-0.217609\ttest-score:-0.04\n",
            "[830]\ttrain-rmse:0.347147\ttest-rmse:0.353319\ttrain-score:-0.218521\ttest-score:-0.039874\n",
            "[840]\ttrain-rmse:0.347101\ttest-rmse:0.353329\ttrain-score:-0.219304\ttest-score:-0.039863\n",
            "[850]\ttrain-rmse:0.347051\ttest-rmse:0.353333\ttrain-score:-0.220362\ttest-score:-0.039835\n",
            "[860]\ttrain-rmse:0.347003\ttest-rmse:0.35334\ttrain-score:-0.221392\ttest-score:-0.039846\n",
            "[870]\ttrain-rmse:0.346957\ttest-rmse:0.353343\ttrain-score:-0.222233\ttest-score:-0.040043\n",
            "[880]\ttrain-rmse:0.346911\ttest-rmse:0.353349\ttrain-score:-0.223018\ttest-score:-0.040064\n",
            "[890]\ttrain-rmse:0.34686\ttest-rmse:0.353355\ttrain-score:-0.224135\ttest-score:-0.040005\n",
            "[900]\ttrain-rmse:0.346813\ttest-rmse:0.353365\ttrain-score:-0.224935\ttest-score:-0.04003\n",
            "[910]\ttrain-rmse:0.346767\ttest-rmse:0.353372\ttrain-score:-0.225785\ttest-score:-0.040029\n",
            "[920]\ttrain-rmse:0.346718\ttest-rmse:0.353377\ttrain-score:-0.22689\ttest-score:-0.040003\n",
            "[930]\ttrain-rmse:0.346673\ttest-rmse:0.353385\ttrain-score:-0.2276\ttest-score:-0.04013\n"
          ],
          "name": "stdout"
        },
        {
          "output_type": "stream",
          "text": [
            "[940]\ttrain-rmse:0.346621\ttest-rmse:0.353394\ttrain-score:-0.228575\ttest-score:-0.040005\n",
            "[950]\ttrain-rmse:0.346571\ttest-rmse:0.353398\ttrain-score:-0.229612\ttest-score:-0.040051\n",
            "[960]\ttrain-rmse:0.346527\ttest-rmse:0.353403\ttrain-score:-0.230449\ttest-score:-0.040087\n",
            "[970]\ttrain-rmse:0.346479\ttest-rmse:0.353415\ttrain-score:-0.231366\ttest-score:-0.039987\n",
            "[980]\ttrain-rmse:0.346428\ttest-rmse:0.353426\ttrain-score:-0.232327\ttest-score:-0.039943\n",
            "[990]\ttrain-rmse:0.34638\ttest-rmse:0.353433\ttrain-score:-0.233212\ttest-score:-0.039949\n",
            "[999]\ttrain-rmse:0.34634\ttest-rmse:0.353429\ttrain-score:-0.234118\ttest-score:-0.040008\n"
          ],
          "name": "stdout"
        },
        {
          "output_type": "execute_result",
          "data": {
            "text/plain": [
              "<matplotlib.axes._subplots.AxesSubplot at 0x7f6730428400>"
            ]
          },
          "metadata": {
            "tags": []
          },
          "execution_count": 41
        },
        {
          "output_type": "display_data",
          "data": {
            "image/png": "[encoded data removed]",
            "text/plain": [
              "<Figure size 432x288 with 1 Axes>"
            ]
          },
          "metadata": {
            "tags": [],
            "needs_background": "light"
          }
        }
      ]
    },
    {
      "cell_type": "code",
      "metadata": {
        "id": "Ga66THuE_svi",
        "outputId": "f464ec33-25b1-4e54-f617-19df94d90961"
      },
      "source": [
        "(-pandas.DataFrame({k: v['score'] for k,v in evals_result.items()})).plot(ylim=[0,0.045])"
      ],
      "execution_count": null,
      "outputs": [
        {
          "output_type": "execute_result",
          "data": {
            "text/plain": [
              "<matplotlib.axes._subplots.AxesSubplot at 0x7f673315a160>"
            ]
          },
          "metadata": {
            "tags": []
          },
          "execution_count": 42
        },
        {
          "output_type": "display_data",
          "data": {
            "image/png": "[encoded data removed]",
            "text/plain": [
              "<Figure size 432x288 with 1 Axes>"
            ]
          },
          "metadata": {
            "tags": [],
            "needs_background": "light"
          }
        }
      ]
    },
    {
      "cell_type": "markdown",
      "metadata": {
        "id": "3BXzsm4l_svj"
      },
      "source": [
        "# The results are sensitive to the choice of parameters, which should be picked through cross-validation"
      ]
    },
    {
      "cell_type": "code",
      "metadata": {
        "id": "YMy5v4Ni_svj"
      },
      "source": [
        "df1 = df[eras<=eras.median()]\n",
        "df2 = df[eras>eras.median()]"
      ],
      "execution_count": null,
      "outputs": []
    },
    {
      "cell_type": "code",
      "metadata": {
        "id": "3BuKBy07_svj"
      },
      "source": [
        "models = [\n",
        "    linear_model.LinearRegression(),\n",
        "] + [\n",
        "    linear_model.ElasticNet(alpha=alpha)\n",
        "    for alpha in [0.01, 0.005, 0.002, 0.001, 0.0005, 0.0002, 0.0001, 0.00005, 0.00002, 0.00001]\n",
        "] + [\n",
        "    xgboost.XGBRegressor(n_jobs=-1),\n",
        "    xgboost.XGBRegressor(n_jobs=-1, learning_rate=0.01, n_estimators=1000),\n",
        "    xgboost.XGBRegressor(n_jobs=-1, colsample_bytree=0.1, learning_rate=0.01, n_estimators=1000),\n",
        "    xgboost.XGBRegressor(n_jobs=-1, colsample_bytree=0.1, learning_rate=0.01, n_estimators=1000, max_depth=5),\n",
        "    xgboost.XGBRegressor(n_jobs=-1, colsample_bytree=0.1, learning_rate=0.001, n_estimators=10000, max_depth=5),\n",
        "]"
      ],
      "execution_count": null,
      "outputs": []
    },
    {
      "cell_type": "code",
      "metadata": {
        "scrolled": false,
        "id": "6vI8rOvN_svk",
        "outputId": "5ee6cfd7-6bd2-489d-fe13-5eaaf265d3d4"
      },
      "source": [
        "for model in models:\n",
        "    print(\" -- \", model)   \n",
        "    model.fit(df1[features], df1[target])\n",
        "    outsample = numerai_score(df2[target], pandas.Series(model.predict(df2[features]), index=df2.index))\n",
        "    insample = numerai_score(df1[target], pandas.Series(model.predict(df1[features]), index=df1.index))\n",
        "    print(\n",
        "        f\"outsample: {outsample}, insample: {insample}\"\n",
        "    )\n",
        "    print()"
      ],
      "execution_count": null,
      "outputs": [
        {
          "output_type": "stream",
          "text": [
            " --  LinearRegression(copy_X=True, fit_intercept=True, n_jobs=None, normalize=False)\n",
            "outsample: 0.03099809450665611, insample: 0.06588644281475838\n",
            "\n",
            " --  ElasticNet(alpha=0.01, copy_X=True, fit_intercept=True, l1_ratio=0.5,\n",
            "           max_iter=1000, normalize=False, positive=False, precompute=False,\n",
            "           random_state=None, selection='cyclic', tol=0.0001, warm_start=False)\n",
            "outsample: 0.001706090379087756, insample: 0.003084687498966189\n",
            "\n",
            " --  ElasticNet(alpha=0.005, copy_X=True, fit_intercept=True, l1_ratio=0.5,\n",
            "           max_iter=1000, normalize=False, positive=False, precompute=False,\n",
            "           random_state=None, selection='cyclic', tol=0.0001, warm_start=False)\n",
            "outsample: 0.001706090379087756, insample: 0.003084687498966189\n",
            "\n",
            " --  ElasticNet(alpha=0.002, copy_X=True, fit_intercept=True, l1_ratio=0.5,\n",
            "           max_iter=1000, normalize=False, positive=False, precompute=False,\n",
            "           random_state=None, selection='cyclic', tol=0.0001, warm_start=False)\n",
            "outsample: 0.02296653186992195, insample: 0.044022473132496145\n",
            "\n",
            " --  ElasticNet(alpha=0.001, copy_X=True, fit_intercept=True, l1_ratio=0.5,\n",
            "           max_iter=1000, normalize=False, positive=False, precompute=False,\n",
            "           random_state=None, selection='cyclic', tol=0.0001, warm_start=False)\n",
            "outsample: 0.02989318456886029, insample: 0.05184159813561343\n",
            "\n",
            " --  ElasticNet(alpha=0.0005, copy_X=True, fit_intercept=True, l1_ratio=0.5,\n",
            "           max_iter=1000, normalize=False, positive=False, precompute=False,\n",
            "           random_state=None, selection='cyclic', tol=0.0001, warm_start=False)\n",
            "outsample: 0.032645669091276176, insample: 0.057053818225275\n",
            "\n",
            " --  ElasticNet(alpha=0.0002, copy_X=True, fit_intercept=True, l1_ratio=0.5,\n",
            "           max_iter=1000, normalize=False, positive=False, precompute=False,\n",
            "           random_state=None, selection='cyclic', tol=0.0001, warm_start=False)\n",
            "outsample: 0.033010509057742096, insample: 0.061666479426053425\n",
            "\n",
            " --  ElasticNet(alpha=0.0001, copy_X=True, fit_intercept=True, l1_ratio=0.5,\n",
            "           max_iter=1000, normalize=False, positive=False, precompute=False,\n",
            "           random_state=None, selection='cyclic', tol=0.0001, warm_start=False)\n",
            "outsample: 0.03240338370856842, insample: 0.0635220041576513\n",
            "\n",
            " --  ElasticNet(alpha=5e-05, copy_X=True, fit_intercept=True, l1_ratio=0.5,\n",
            "           max_iter=1000, normalize=False, positive=False, precompute=False,\n",
            "           random_state=None, selection='cyclic', tol=0.0001, warm_start=False)\n",
            "outsample: 0.031880042570450504, insample: 0.06485026703936253\n",
            "\n",
            " --  ElasticNet(alpha=2e-05, copy_X=True, fit_intercept=True, l1_ratio=0.5,\n",
            "           max_iter=1000, normalize=False, positive=False, precompute=False,\n",
            "           random_state=None, selection='cyclic', tol=0.0001, warm_start=False)\n",
            "outsample: 0.03143702673815047, insample: 0.06560409030218367\n",
            "\n",
            " --  ElasticNet(alpha=1e-05, copy_X=True, fit_intercept=True, l1_ratio=0.5,\n",
            "           max_iter=1000, normalize=False, positive=False, precompute=False,\n",
            "           random_state=None, selection='cyclic', tol=0.0001, warm_start=False)\n",
            "outsample: 0.031247308413302647, insample: 0.06579475006648515\n",
            "\n",
            " --  XGBRegressor(base_score=0.5, booster='gbtree', colsample_bylevel=1,\n",
            "             colsample_bynode=1, colsample_bytree=1, gamma=0,\n",
            "             importance_type='gain', learning_rate=0.1, max_delta_step=0,\n",
            "             max_depth=3, min_child_weight=1, missing=None, n_estimators=100,\n",
            "             n_jobs=-1, nthread=None, objective='reg:linear', random_state=0,\n",
            "             reg_alpha=0, reg_lambda=1, scale_pos_weight=1, seed=None,\n",
            "             silent=None, subsample=1, verbosity=1)\n"
          ],
          "name": "stdout"
        },
        {
          "output_type": "stream",
          "text": [
            "/home/ubuntu/.local/lib/python3.6/site-packages/xgboost-0.90-py3.6-linux-x86_64.egg/xgboost/core.py:587: FutureWarning: Series.base is deprecated and will be removed in a future version\n",
            "  if getattr(data, 'base', None) is not None and \\\n",
            "/home/ubuntu/.local/lib/python3.6/site-packages/xgboost-0.90-py3.6-linux-x86_64.egg/xgboost/core.py:588: FutureWarning: Series.base is deprecated and will be removed in a future version\n",
            "  data.base is not None and isinstance(data, np.ndarray) \\\n"
          ],
          "name": "stderr"
        },
        {
          "output_type": "stream",
          "text": [
            "[18:59:47] WARNING: /workspace/src/objective/regression_obj.cu:152: reg:linear is now deprecated in favor of reg:squarederror.\n",
            "outsample: 0.03822459435002261, insample: 0.10372868743447641\n",
            "\n",
            " --  XGBRegressor(base_score=0.5, booster='gbtree', colsample_bylevel=1,\n",
            "             colsample_bynode=1, colsample_bytree=1, gamma=0,\n",
            "             importance_type='gain', learning_rate=0.01, max_delta_step=0,\n",
            "             max_depth=3, min_child_weight=1, missing=None, n_estimators=1000,\n",
            "             n_jobs=-1, nthread=None, objective='reg:linear', random_state=0,\n",
            "             reg_alpha=0, reg_lambda=1, scale_pos_weight=1, seed=None,\n",
            "             silent=None, subsample=1, verbosity=1)\n",
            "[19:02:34] WARNING: /workspace/src/objective/regression_obj.cu:152: reg:linear is now deprecated in favor of reg:squarederror.\n",
            "outsample: 0.0387815520050224, insample: 0.1055617044604215\n",
            "\n",
            " --  XGBRegressor(base_score=0.5, booster='gbtree', colsample_bylevel=1,\n",
            "             colsample_bynode=1, colsample_bytree=0.1, gamma=0,\n",
            "             importance_type='gain', learning_rate=0.01, max_delta_step=0,\n",
            "             max_depth=3, min_child_weight=1, missing=None, n_estimators=1000,\n",
            "             n_jobs=-1, nthread=None, objective='reg:linear', random_state=0,\n",
            "             reg_alpha=0, reg_lambda=1, scale_pos_weight=1, seed=None,\n",
            "             silent=None, subsample=1, verbosity=1)\n",
            "[19:28:26] WARNING: /workspace/src/objective/regression_obj.cu:152: reg:linear is now deprecated in favor of reg:squarederror.\n",
            "outsample: 0.040825170763223534, insample: 0.09738860291404573\n",
            "\n",
            " --  XGBRegressor(base_score=0.5, booster='gbtree', colsample_bylevel=1,\n",
            "             colsample_bynode=1, colsample_bytree=0.1, gamma=0,\n",
            "             importance_type='gain', learning_rate=0.01, max_delta_step=0,\n",
            "             max_depth=5, min_child_weight=1, missing=None, n_estimators=1000,\n",
            "             n_jobs=-1, nthread=None, objective='reg:linear', random_state=0,\n",
            "             reg_alpha=0, reg_lambda=1, scale_pos_weight=1, seed=None,\n",
            "             silent=None, subsample=1, verbosity=1)\n",
            "[19:36:21] WARNING: /workspace/src/objective/regression_obj.cu:152: reg:linear is now deprecated in favor of reg:squarederror.\n",
            "outsample: 0.043311203339638234, insample: 0.1998400250413849\n",
            "\n",
            " --  XGBRegressor(base_score=0.5, booster='gbtree', colsample_bylevel=1,\n",
            "             colsample_bynode=1, colsample_bytree=0.1, gamma=0,\n",
            "             importance_type='gain', learning_rate=0.001, max_delta_step=0,\n",
            "             max_depth=5, min_child_weight=1, missing=None, n_estimators=10000,\n",
            "             n_jobs=-1, nthread=None, objective='reg:linear', random_state=0,\n",
            "             reg_alpha=0, reg_lambda=1, scale_pos_weight=1, seed=None,\n",
            "             silent=None, subsample=1, verbosity=1)\n",
            "[19:46:55] WARNING: /workspace/src/objective/regression_obj.cu:152: reg:linear is now deprecated in favor of reg:squarederror.\n",
            "outsample: 0.04398737850050243, insample: 0.202515264502208\n",
            "\n"
          ],
          "name": "stdout"
        }
      ]
    },
    {
      "cell_type": "markdown",
      "metadata": {
        "id": "38xifdgH_svk"
      },
      "source": [
        "## Gotcha: Models with large exposures to individual features tend to perform poorly or inconsistently out of sample ## \n"
      ]
    },
    {
      "cell_type": "code",
      "metadata": {
        "id": "LIH5nau-_svk"
      },
      "source": [
        "import numpy as np\n",
        "import scipy"
      ],
      "execution_count": null,
      "outputs": []
    },
    {
      "cell_type": "code",
      "metadata": {
        "id": "xeKcsAbK_svl",
        "outputId": "80ef2683-0af1-4a41-c641-fd6733e947b0"
      },
      "source": [
        "# Train a standard xgboost on half the train eras\n",
        "xgb = xgboost.XGBRegressor(n_estimators=1000, max_depth=5, learning_rate=0.01, n_jobs=-1)\n",
        "xgb.fit(df1[features], df1[target])\n",
        "xgb_preds = xgb.predict(df2[features])"
      ],
      "execution_count": null,
      "outputs": [
        {
          "output_type": "stream",
          "text": [
            "[21:32:50] WARNING: /workspace/src/objective/regression_obj.cu:152: reg:linear is now deprecated in favor of reg:squarederror.\n"
          ],
          "name": "stdout"
        }
      ]
    },
    {
      "cell_type": "markdown",
      "metadata": {
        "id": "twJzjbB6_svl"
      },
      "source": [
        "### Our predictions have correlation > 0.2 in either direction for some single features!\n",
        "Sure hope those features continue to act as they have in the past!"
      ]
    },
    {
      "cell_type": "code",
      "metadata": {
        "id": "PTIneADK_svl",
        "outputId": "5de6a0ff-3707-4ac2-a9e1-b7da865996d6"
      },
      "source": [
        "corr_list = []\n",
        "for feature in features:\n",
        "    corr_list.append(numpy.corrcoef(df2[feature], xgb_preds)[0,1])\n",
        "corr_series = pandas.Series(corr_list, index=features)\n",
        "corr_series.describe()"
      ],
      "execution_count": null,
      "outputs": [
        {
          "output_type": "execute_result",
          "data": {
            "text/plain": [
              "count    310.000000\n",
              "mean       0.046897\n",
              "std        0.084379\n",
              "min       -0.271691\n",
              "25%        0.007401\n",
              "50%        0.044329\n",
              "75%        0.101984\n",
              "max        0.220213\n",
              "dtype: float64"
            ]
          },
          "metadata": {
            "tags": []
          },
          "execution_count": 48
        }
      ]
    },
    {
      "cell_type": "code",
      "metadata": {
        "id": "2MylAWzw_svl"
      },
      "source": [
        "from sklearn.preprocessing import MinMaxScaler\n",
        "def _neutralize(df, columns, by, proportion=1.0):\n",
        "    scores = df[columns]\n",
        "    exposures = df[by].values\n",
        "    scores = scores - proportion * exposures.dot(numpy.linalg.pinv(exposures).dot(scores))\n",
        "    return scores / scores.std(ddof=0)\n",
        "def _normalize(df):\n",
        "    X = (df.rank(method=\"first\") - 0.5) / len(df)\n",
        "    return scipy.stats.norm.ppf(X)\n",
        "def normalize_and_neutralize(df, columns, by, proportion=1.0):\n",
        "    # Convert the scores to a normal distribution\n",
        "    df[columns] = _normalize(df[columns])\n",
        "    df[columns] = _neutralize(df, columns, by, proportion)\n",
        "    return df[columns]"
      ],
      "execution_count": null,
      "outputs": []
    },
    {
      "cell_type": "code",
      "metadata": {
        "id": "y5BPkj-R_svm",
        "outputId": "29a21755-a2a7-4fd4-a9d6-98436e2420c1"
      },
      "source": [
        "df2[\"preds\"] = xgb_preds\n",
        "df2[\"preds_neutralized\"] = df2.groupby(\"era\").apply(\n",
        "    lambda x: normalize_and_neutralize(x, [\"preds\"], features, 0.5) # neutralize by 50% within each era\n",
        ")\n",
        "scaler = MinMaxScaler()\n",
        "df2[\"preds_neutralized\"] = scaler.fit_transform(df2[[\"preds_neutralized\"]]) # transform back to 0-1"
      ],
      "execution_count": null,
      "outputs": [
        {
          "output_type": "stream",
          "text": [
            "/home/ubuntu/.local/lib/python3.6/site-packages/ipykernel_launcher.py:1: SettingWithCopyWarning: \n",
            "A value is trying to be set on a copy of a slice from a DataFrame.\n",
            "Try using .loc[row_indexer,col_indexer] = value instead\n",
            "\n",
            "See the caveats in the documentation: http://pandas.pydata.org/pandas-docs/stable/user_guide/indexing.html#returning-a-view-versus-a-copy\n",
            "  \"\"\"Entry point for launching an IPython kernel.\n",
            "/home/ubuntu/.local/lib/python3.6/site-packages/ipykernel_launcher.py:3: SettingWithCopyWarning: \n",
            "A value is trying to be set on a copy of a slice from a DataFrame.\n",
            "Try using .loc[row_indexer,col_indexer] = value instead\n",
            "\n",
            "See the caveats in the documentation: http://pandas.pydata.org/pandas-docs/stable/user_guide/indexing.html#returning-a-view-versus-a-copy\n",
            "  This is separate from the ipykernel package so we can avoid doing imports until\n",
            "/home/ubuntu/.local/lib/python3.6/site-packages/ipykernel_launcher.py:6: SettingWithCopyWarning: \n",
            "A value is trying to be set on a copy of a slice from a DataFrame.\n",
            "Try using .loc[row_indexer,col_indexer] = value instead\n",
            "\n",
            "See the caveats in the documentation: http://pandas.pydata.org/pandas-docs/stable/user_guide/indexing.html#returning-a-view-versus-a-copy\n",
            "  \n"
          ],
          "name": "stderr"
        }
      ]
    },
    {
      "cell_type": "markdown",
      "metadata": {
        "id": "XdvTF_qE_svm"
      },
      "source": [
        "### Now our single feature exposures are much smaller"
      ]
    },
    {
      "cell_type": "code",
      "metadata": {
        "id": "zLObidLE_svm"
      },
      "source": [
        "corr_list2 = []\n",
        "for feature in features:\n",
        "    corr_list2.append(numpy.corrcoef(df2[feature], df2[\"preds_neutralized\"])[0,1])\n",
        "corr_series2 = pandas.Series(corr_list2, index=features)"
      ],
      "execution_count": null,
      "outputs": []
    },
    {
      "cell_type": "code",
      "metadata": {
        "id": "lZvYMuhe_svm",
        "outputId": "5117a28c-6d87-4d81-db0c-6bcc20520fa8"
      },
      "source": [
        "corr_series2.describe()"
      ],
      "execution_count": null,
      "outputs": [
        {
          "output_type": "execute_result",
          "data": {
            "text/plain": [
              "count    310.000000\n",
              "mean       0.036216\n",
              "std        0.055772\n",
              "min       -0.174678\n",
              "25%        0.009870\n",
              "50%        0.034649\n",
              "75%        0.073136\n",
              "max        0.150736\n",
              "dtype: float64"
            ]
          },
          "metadata": {
            "tags": []
          },
          "execution_count": 52
        }
      ]
    },
    {
      "cell_type": "markdown",
      "metadata": {
        "id": "6NWK-PIF_svn"
      },
      "source": [
        "### Our overall score goes down, but the scores are more consistent than before. This leads to a higher sharpe"
      ]
    },
    {
      "cell_type": "code",
      "metadata": {
        "id": "0uUGfltZ_svn",
        "outputId": "f070de16-a41d-4199-8c25-b918a353e10a"
      },
      "source": [
        "unbalanced_scores_per_era = df2.groupby(\"era\").apply(lambda d: np.corrcoef(d[\"preds\"], d[target])[0,1])\n",
        "balanced_scores_per_era = df2.groupby(\"era\").apply(lambda d: np.corrcoef(d[\"preds_neutralized\"], d[target])[0,1])\n",
        "\n",
        "print(f\"score for high feature exposure: {unbalanced_scores_per_era.mean()}\")\n",
        "print(f\"score for balanced feature expo: {balanced_scores_per_era.mean()}\")\n",
        "\n",
        "print(f\"std for high feature exposure: {unbalanced_scores_per_era.std(ddof=0)}\")\n",
        "print(f\"std for balanced feature expo: {balanced_scores_per_era.std(ddof=0)}\")\n",
        "\n",
        "print(f\"sharpe for high feature exposure: {unbalanced_scores_per_era.mean()/unbalanced_scores_per_era.std(ddof=0)}\")\n",
        "print(f\"sharpe for balanced feature expo: {balanced_scores_per_era.mean()/balanced_scores_per_era.std(ddof=0)}\")"
      ],
      "execution_count": null,
      "outputs": [
        {
          "output_type": "stream",
          "text": [
            "score for high feature exposure: 0.0413834154777531\n",
            "score for balanced feature expo: 0.03633214642701158\n",
            "std for high feature exposure: 0.04021166505490904\n",
            "std for balanced feature expo: 0.0318307699959389\n",
            "sharpe for high feature exposure: 1.0291395648810868\n",
            "sharpe for balanced feature expo: 1.1414158825453165\n"
          ],
          "name": "stdout"
        }
      ]
    },
    {
      "cell_type": "code",
      "metadata": {
        "id": "lPM7SocC_svn",
        "outputId": "325c6a77-f69e-4bf7-d525-65c91d7134f8"
      },
      "source": [
        "balanced_scores_per_era.describe()"
      ],
      "execution_count": null,
      "outputs": [
        {
          "output_type": "execute_result",
          "data": {
            "text/plain": [
              "count    56.000000\n",
              "mean      0.036332\n",
              "std       0.031831\n",
              "min      -0.051360\n",
              "25%       0.015198\n",
              "50%       0.036021\n",
              "75%       0.058698\n",
              "max       0.101365\n",
              "dtype: float64"
            ]
          },
          "metadata": {
            "tags": []
          },
          "execution_count": 54
        }
      ]
    },
    {
      "cell_type": "code",
      "metadata": {
        "id": "Wi56R8i7_svn",
        "outputId": "d06df328-a17f-45c5-df7c-f2dcebbbc132"
      },
      "source": [
        "unbalanced_scores_per_era.describe()"
      ],
      "execution_count": null,
      "outputs": [
        {
          "output_type": "execute_result",
          "data": {
            "text/plain": [
              "count    56.000000\n",
              "mean      0.041383\n",
              "std       0.040212\n",
              "min      -0.077937\n",
              "25%       0.014694\n",
              "50%       0.044316\n",
              "75%       0.066439\n",
              "max       0.125521\n",
              "dtype: float64"
            ]
          },
          "metadata": {
            "tags": []
          },
          "execution_count": 55
        }
      ]
    },
    {
      "cell_type": "code",
      "metadata": {
        "id": "XbzwQrJU_svo"
      },
      "source": [
        ""
      ],
      "execution_count": null,
      "outputs": []
    }
  ]
}