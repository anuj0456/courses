{
  "nbformat": 4,
  "nbformat_minor": 0,
  "metadata": {
    "colab": {
      "name": "he_holiday_season_ensemble.ipynb",
      "provenance": [],
      "collapsed_sections": [],
      "machine_shape": "hm",
      "include_colab_link": true
    },
    "kernelspec": {
      "display_name": "Python 3",
      "name": "python3"
    },
    "accelerator": "GPU"
  },
  "cells": [
    {
      "cell_type": "markdown",
      "metadata": {
        "id": "view-in-github",
        "colab_type": "text"
      },
      "source": [
        "<a href=\"https://colab.research.google.com/github/anuj0456/courses/blob/master/competitions/he_holiday_season_ensemble.ipynb\" target=\"_parent\"><img src=\"https://colab.research.google.com/assets/colab-badge.svg\" alt=\"Open In Colab\"/></a>"
      ]
    },
    {
      "cell_type": "code",
      "metadata": {
        "id": "8ryqii2UNDEQ"
      },
      "source": [
        "# # !pip install tf-nightly\r\n",
        "# !pip uninstall tensorflow  \r\n",
        "# !pip install tensorflow"
      ],
      "execution_count": 1,
      "outputs": []
    },
    {
      "cell_type": "code",
      "metadata": {
        "id": "l3rNZzsSciem"
      },
      "source": [
        "# from google.colab import drive\n",
        "# drive.mount('/content/drive')"
      ],
      "execution_count": 2,
      "outputs": []
    },
    {
      "cell_type": "code",
      "metadata": {
        "id": "LOi5LuNSEHUk"
      },
      "source": [
        "import os\r\n",
        "import csv\r\n",
        "import sys\r\n",
        "import cv2\r\n",
        "import time\r\n",
        "import keras\r\n",
        "import numpy as np\r\n",
        "import pandas as pd\r\n",
        "from tqdm import tqdm\r\n",
        "import tensorflow as tf\r\n",
        "from tensorflow import keras\r\n",
        "import tensorflow_hub as hub\r\n",
        "import matplotlib.pyplot as plt\r\n",
        "from PIL import Image, ImageOps\r\n",
        "from sklearn import preprocessing\r\n",
        "from keras.models import Sequential\r\n",
        "from tensorflow.keras import layers\r\n",
        "from keras.optimizers import Adam, SGD\r\n",
        "from sklearn.model_selection import KFold\r\n",
        "from tensorflow.keras.optimizers import RMSprop\r\n",
        "from keras.layers import Dense, Dropout, Flatten\r\n",
        "from sklearn.model_selection import train_test_split\r\n",
        "from tensorflow.keras.preprocessing.image import ImageDataGenerator\r\n",
        "from tensorflow.keras.preprocessing.image import ImageDataGenerator\r\n",
        "from keras.callbacks import ModelCheckpoint, EarlyStopping, ReduceLROnPlateau\r\n",
        "from tensorflow.keras.applications import Xception, InceptionResNetV2, EfficientNetB4, ResNet50"
      ],
      "execution_count": 3,
      "outputs": []
    },
    {
      "cell_type": "code",
      "metadata": {
        "id": "2idxqocuGZza"
      },
      "source": [
        "# !unzip test.zip\r\n",
        "# !unzip train.zip"
      ],
      "execution_count": 4,
      "outputs": []
    },
    {
      "cell_type": "code",
      "metadata": {
        "id": "CwTf6OQQLeoP"
      },
      "source": [
        "IMG_SIZE = 256\r\n",
        "batch_size = 32\r\n",
        "epoch = 5\r\n",
        "splits = 5\r\n",
        "TRAIN_PATH = '/content/train/'\r\n",
        "TEST_PATH = '/content/test/'\r\n",
        "csv = '/content/train.csv'"
      ],
      "execution_count": 5,
      "outputs": []
    },
    {
      "cell_type": "code",
      "metadata": {
        "id": "nPvg5UW5Kun7"
      },
      "source": [
        "df = pd.read_csv(csv)"
      ],
      "execution_count": 6,
      "outputs": []
    },
    {
      "cell_type": "code",
      "metadata": {
        "id": "w960DgY4vpaA"
      },
      "source": [
        "kfold = KFold(splits, True)\r\n",
        "# enumerate splits"
      ],
      "execution_count": 7,
      "outputs": []
    },
    {
      "cell_type": "code",
      "metadata": {
        "id": "HzN2Mm_JCzzA",
        "colab": {
          "base_uri": "https://localhost:8080/"
        },
        "outputId": "2a323cdd-51fd-456f-f9db-6a8f73a50855"
      },
      "source": [
        "train_img = []\r\n",
        "x = 0\r\n",
        "for img_name in tqdm(df['Image'].values):\r\n",
        "    img = cv2.imread(TRAIN_PATH + img_name)\r\n",
        "    img = cv2.resize(img, (IMG_SIZE, IMG_SIZE))\r\n",
        "    train_img.append(img)\r\n",
        "    \r\n",
        "x_train = np.array(train_img, np.float32) / 255\r\n",
        "print(x_train.shape)"
      ],
      "execution_count": 8,
      "outputs": [
        {
          "output_type": "stream",
          "text": [
            "100%|██████████| 6469/6469 [00:02<00:00, 2175.81it/s]\n"
          ],
          "name": "stderr"
        },
        {
          "output_type": "stream",
          "text": [
            "(6469, 256, 256, 3)\n"
          ],
          "name": "stdout"
        }
      ]
    },
    {
      "cell_type": "code",
      "metadata": {
        "id": "ChXmBf7RDOlV"
      },
      "source": [
        "label_list = df['Class'].tolist()\r\n",
        "label_numeric = {k: v for v, k in enumerate(set(label_list))}\r\n",
        "y_train = [label_numeric[k] for k in label_list]\r\n",
        "y_train = np.array(y_train)"
      ],
      "execution_count": 9,
      "outputs": []
    },
    {
      "cell_type": "code",
      "metadata": {
        "id": "dFF6JI4YDPZ8",
        "colab": {
          "base_uri": "https://localhost:8080/"
        },
        "outputId": "bd263cd5-f4d4-4471-92f8-a73f165f2c92"
      },
      "source": [
        "from keras.utils import to_categorical\r\n",
        "y_train = to_categorical(y_train)\r\n",
        "print(y_train.shape)"
      ],
      "execution_count": 10,
      "outputs": [
        {
          "output_type": "stream",
          "text": [
            "(6469, 6)\n"
          ],
          "name": "stdout"
        }
      ]
    },
    {
      "cell_type": "code",
      "metadata": {
        "id": "xoZL-cJvLin0"
      },
      "source": [
        "train_gen = ImageDataGenerator(rotation_range=30, \r\n",
        "                                width_shift_range=0.1, \r\n",
        "                                height_shift_range=0.1,\r\n",
        "                                shear_range=0.2,\r\n",
        "                                zoom_range=0.2,\r\n",
        "                                horizontal_flip=True,\r\n",
        "                                )\r\n",
        "train_gen.fit(x_train)"
      ],
      "execution_count": 11,
      "outputs": []
    },
    {
      "cell_type": "code",
      "metadata": {
        "id": "rKYQC6vyErQJ"
      },
      "source": [
        "rms = RMSprop(lr = 0.001, momentum=0.9, clipnorm = 1., clipvalue = 1.)\r\n",
        "adam = Adam(lr = 1e-4)\r\n",
        "sgd = SGD(lr = 1e-4, momentum=0.9)"
      ],
      "execution_count": 12,
      "outputs": []
    },
    {
      "cell_type": "code",
      "metadata": {
        "id": "DBGLch7aL-8g"
      },
      "source": [
        "def get_model1():\r\n",
        "    core = EfficientNetB4(include_top=False, input_tensor=None,weights='imagenet',input_shape=(IMG_SIZE, IMG_SIZE,3))\r\n",
        "    model = Sequential()\r\n",
        "    model.add(core)\r\n",
        "    model.add(Flatten())\r\n",
        "    model.add(Dropout(0.3))\r\n",
        "    model.add(Dense(128, activation='relu'))\r\n",
        "    model.add(Dropout(0.5))\r\n",
        "    model.add(Dense(6, activation='softmax'))\r\n",
        "    \r\n",
        "    return model"
      ],
      "execution_count": 13,
      "outputs": []
    },
    {
      "cell_type": "code",
      "metadata": {
        "id": "a3wmuJ8DLOB_",
        "colab": {
          "base_uri": "https://localhost:8080/"
        },
        "outputId": "eb929d21-5196-4dac-c1d1-1f9c90cd2988"
      },
      "source": [
        "model1 = get_model1()\r\n",
        "model1.compile(optimizer= adam, metrics=['accuracy'], loss='categorical_crossentropy')"
      ],
      "execution_count": 14,
      "outputs": [
        {
          "output_type": "stream",
          "text": [
            "Downloading data from https://storage.googleapis.com/keras-applications/efficientnetb4_notop.h5\n",
            "71688192/71686520 [==============================] - 1s 0us/step\n"
          ],
          "name": "stdout"
        }
      ]
    },
    {
      "cell_type": "code",
      "metadata": {
        "id": "kga03bkpsMgS"
      },
      "source": [
        "model_save1 = ModelCheckpoint(\"/content/model_1\", \r\n",
        "                             save_best_only = True, \r\n",
        "                             save_weights_only = True,\r\n",
        "                             monitor = 'loss', \r\n",
        "                             mode = 'min', verbose = 1)\r\n",
        "early_stop1 = EarlyStopping(monitor = 'loss', min_delta = 0.01, \r\n",
        "                           patience = 2, mode = 'min', verbose = 1,\r\n",
        "                           restore_best_weights = True)\r\n",
        "reduce_lr1 = ReduceLROnPlateau(monitor = 'loss', factor = 0.1, \r\n",
        "                              patience = 2, min_delta = 0.01, \r\n",
        "                              mode = 'min', verbose = 1)"
      ],
      "execution_count": 15,
      "outputs": []
    },
    {
      "cell_type": "code",
      "metadata": {
        "id": "T34w8xyQM4gK",
        "colab": {
          "base_uri": "https://localhost:8080/"
        },
        "outputId": "5a3e1cac-3597-4f8e-c107-43f89681753d"
      },
      "source": [
        "# for train, test in kfold.split(x_train):\r\n",
        "history1 = model1.fit(train_gen.flow(x_train, y_train, batch_size=batch_size), epochs=epoch,callbacks=[model_save1])"
      ],
      "execution_count": 16,
      "outputs": [
        {
          "output_type": "stream",
          "text": [
            "Epoch 1/5\n",
            "203/203 [==============================] - 150s 631ms/step - loss: 1.4022 - accuracy: 0.5380\n",
            "\n",
            "Epoch 00001: loss improved from inf to 1.07544, saving model to /content/model_1\n",
            "Epoch 2/5\n",
            "203/203 [==============================] - 128s 628ms/step - loss: 0.6752 - accuracy: 0.7516\n",
            "\n",
            "Epoch 00002: loss improved from 1.07544 to 0.63396, saving model to /content/model_1\n",
            "Epoch 3/5\n",
            "203/203 [==============================] - 128s 630ms/step - loss: 0.4924 - accuracy: 0.8252\n",
            "\n",
            "Epoch 00003: loss improved from 0.63396 to 0.48630, saving model to /content/model_1\n",
            "Epoch 4/5\n",
            "203/203 [==============================] - 129s 631ms/step - loss: 0.4072 - accuracy: 0.8538\n",
            "\n",
            "Epoch 00004: loss improved from 0.48630 to 0.39540, saving model to /content/model_1\n",
            "Epoch 5/5\n",
            "203/203 [==============================] - 129s 631ms/step - loss: 0.3381 - accuracy: 0.8777\n",
            "\n",
            "Epoch 00005: loss improved from 0.39540 to 0.33690, saving model to /content/model_1\n"
          ],
          "name": "stdout"
        }
      ]
    },
    {
      "cell_type": "code",
      "metadata": {
        "id": "tDGJqYyRKT13"
      },
      "source": [
        "def get_model2():\r\n",
        "    core = InceptionResNetV2(include_top=False, input_tensor=None,weights='imagenet',input_shape=(IMG_SIZE, IMG_SIZE,3))\r\n",
        "    model = Sequential()\r\n",
        "    model.add(core)\r\n",
        "    model.add(Flatten())\r\n",
        "    model.add(Dropout(0.3))\r\n",
        "    model.add(Dense(128, activation='relu'))\r\n",
        "    model.add(Dropout(0.5))\r\n",
        "    model.add(Dense(6, activation='softmax'))\r\n",
        "    \r\n",
        "    return model"
      ],
      "execution_count": 17,
      "outputs": []
    },
    {
      "cell_type": "code",
      "metadata": {
        "id": "EtioWBzNaU5Y",
        "colab": {
          "base_uri": "https://localhost:8080/"
        },
        "outputId": "db134bde-6a86-45c4-a5d7-fd35ff093178"
      },
      "source": [
        "model2 = get_model2()\r\n",
        "model2.compile(optimizer= adam, metrics=['accuracy'], loss='categorical_crossentropy')"
      ],
      "execution_count": 18,
      "outputs": [
        {
          "output_type": "stream",
          "text": [
            "Downloading data from https://storage.googleapis.com/tensorflow/keras-applications/inception_resnet_v2/inception_resnet_v2_weights_tf_dim_ordering_tf_kernels_notop.h5\n",
            "219062272/219055592 [==============================] - 5s 0us/step\n"
          ],
          "name": "stdout"
        }
      ]
    },
    {
      "cell_type": "code",
      "metadata": {
        "id": "7IMpKLmDYh3B"
      },
      "source": [
        "model_save2 = ModelCheckpoint(\"/content/model_2\", \r\n",
        "                             save_best_only = True, \r\n",
        "                             save_weights_only = True,\r\n",
        "                             monitor = 'loss', \r\n",
        "                             mode = 'min', verbose = 1)\r\n",
        "early_stop2 = EarlyStopping(monitor = 'loss', min_delta = 0.01, \r\n",
        "                           patience = 2, mode = 'min', verbose = 1,\r\n",
        "                           restore_best_weights = True)\r\n",
        "reduce_lr2 = ReduceLROnPlateau(monitor = 'loss', factor = 0.1, \r\n",
        "                              patience = 2, min_delta = 0.01, \r\n",
        "                              mode = 'min', verbose = 1)"
      ],
      "execution_count": 19,
      "outputs": []
    },
    {
      "cell_type": "code",
      "metadata": {
        "id": "MFhyKHJVaUwL",
        "colab": {
          "base_uri": "https://localhost:8080/"
        },
        "outputId": "9fcda357-432b-4cc9-c5f8-1e848f87d5d6"
      },
      "source": [
        "history2 = model2.fit(train_gen.flow(x_train, y_train, batch_size=batch_size), epochs=epoch, callbacks=[model_save2])"
      ],
      "execution_count": null,
      "outputs": [
        {
          "output_type": "stream",
          "text": [
            "Epoch 1/5\n",
            "203/203 [==============================] - 109s 439ms/step - loss: 1.6346 - accuracy: 0.4593\n",
            "\n",
            "Epoch 00001: loss improved from inf to 1.26764, saving model to /content/model_2\n",
            "Epoch 2/5\n",
            "197/203 [============================>.] - ETA: 2s - loss: 0.8360 - accuracy: 0.7092"
          ],
          "name": "stdout"
        }
      ]
    },
    {
      "cell_type": "code",
      "metadata": {
        "id": "VAXqesUjKTmT"
      },
      "source": [
        "def get_model3():\r\n",
        "    core = Xception(include_top=False, input_tensor=None,weights='imagenet',input_shape=(IMG_SIZE, IMG_SIZE,3))\r\n",
        "    model = Sequential()\r\n",
        "    model.add(core)\r\n",
        "    model.add(Flatten())\r\n",
        "    model.add(Dropout(0.3))\r\n",
        "    model.add(Dense(128, activation='relu'))\r\n",
        "    model.add(Dropout(0.5))\r\n",
        "    model.add(Dense(6, activation='softmax'))\r\n",
        "    \r\n",
        "    return model"
      ],
      "execution_count": null,
      "outputs": []
    },
    {
      "cell_type": "code",
      "metadata": {
        "id": "2-4lzSh5biBU"
      },
      "source": [
        "model3 = get_model3()\r\n",
        "model3.compile(optimizer= adam, metrics=['accuracy'], loss='categorical_crossentropy')"
      ],
      "execution_count": null,
      "outputs": []
    },
    {
      "cell_type": "code",
      "metadata": {
        "id": "GT9xZBbjginO"
      },
      "source": [
        "model_save3 = ModelCheckpoint(\"/content/model_3\", \r\n",
        "                             save_best_only = True, \r\n",
        "                             save_weights_only = True,\r\n",
        "                             monitor = 'loss', \r\n",
        "                             mode = 'min', verbose = 1)\r\n",
        "early_stop3 = EarlyStopping(monitor = 'val_loss', min_delta = 0.001, \r\n",
        "                           patience = 5, mode = 'min', verbose = 1,\r\n",
        "                           restore_best_weights = True)\r\n",
        "reduce_lr3 = ReduceLROnPlateau(monitor = 'val_accuracy', factor = 0.001, \r\n",
        "                              patience = 2, min_delta = 0.001, \r\n",
        "                              mode = 'min', verbose = 1)"
      ],
      "execution_count": null,
      "outputs": []
    },
    {
      "cell_type": "code",
      "metadata": {
        "id": "yILYstCPblpc"
      },
      "source": [
        "history3 = model3.fit( train_gen.flow(x_train, y_train, batch_size=batch_size), epochs=epoch, callbacks=[model_save3])"
      ],
      "execution_count": null,
      "outputs": []
    },
    {
      "cell_type": "code",
      "metadata": {
        "id": "gcuykas8KTH8"
      },
      "source": [
        "def get_model4():\r\n",
        "    core = ResNet50(include_top=False, input_tensor=None,weights='imagenet',input_shape=(IMG_SIZE, IMG_SIZE,3))\r\n",
        "    model = Sequential()\r\n",
        "    model.add(core)\r\n",
        "    model.add(Flatten())\r\n",
        "    model.add(Dropout(0.3))\r\n",
        "    model.add(Dense(128, activation='relu'))\r\n",
        "    model.add(Dropout(0.5))\r\n",
        "    model.add(Dense(6, activation='softmax'))\r\n",
        "    \r\n",
        "    return model"
      ],
      "execution_count": null,
      "outputs": []
    },
    {
      "cell_type": "code",
      "metadata": {
        "id": "2OzACwpRb3Xb"
      },
      "source": [
        "model4 = get_model4()\r\n",
        "model4.compile(optimizer= adam, metrics=['accuracy'], loss='categorical_crossentropy')"
      ],
      "execution_count": null,
      "outputs": []
    },
    {
      "cell_type": "code",
      "metadata": {
        "id": "sPNWEI_mY3l9"
      },
      "source": [
        "model_save4 = ModelCheckpoint(\"/content/model_4\", \r\n",
        "                             save_best_only = True, \r\n",
        "                             save_weights_only = True,\r\n",
        "                             monitor = 'loss', \r\n",
        "                             mode = 'min', verbose = 1)\r\n",
        "early_stop4 = EarlyStopping(monitor = 'val_loss', min_delta = 0.001, \r\n",
        "                           patience = 5, mode = 'min', verbose = 1,\r\n",
        "                           restore_best_weights = True)\r\n",
        "reduce_lr4 = ReduceLROnPlateau(monitor = 'val_accuracy', factor = 0.001, \r\n",
        "                              patience = 2, min_delta = 0.001, \r\n",
        "                              mode = 'min', verbose = 1)"
      ],
      "execution_count": null,
      "outputs": []
    },
    {
      "cell_type": "code",
      "metadata": {
        "id": "rDsp8mjnb2-3"
      },
      "source": [
        "history4 = model4.fit( train_gen.flow(x_train, y_train, batch_size=batch_size), epochs=epoch, callbacks=[model_save4])"
      ],
      "execution_count": null,
      "outputs": []
    },
    {
      "cell_type": "code",
      "metadata": {
        "id": "NEa2n9zlqJ3i"
      },
      "source": [
        "try:\r\n",
        "  os.remove('/content/submission.csv')\r\n",
        "except Exception as e:\r\n",
        "  print(\"No file exists\")\r\n",
        "with open('/content/submission.csv', 'w', newline='') as file:\r\n",
        "      writer = csv.writer(file, delimiter = ',')\r\n",
        "      writer.writerow([\"Image\", \"Class\"])"
      ],
      "execution_count": null,
      "outputs": []
    },
    {
      "cell_type": "code",
      "metadata": {
        "id": "7RxKIp07cZCP"
      },
      "source": [
        "members = [model1, model2, model3, model4]"
      ],
      "execution_count": null,
      "outputs": []
    },
    {
      "cell_type": "code",
      "metadata": {
        "id": "l8qfwlrCEUgl"
      },
      "source": [
        "def ensemble_predictions(members, testX):\r\n",
        "\t# make predictions\r\n",
        "\tyhats = [model.predict(testX) for model in members]\r\n",
        "\tyhats = np.array(yhats)\r\n",
        "\tsummed = np.sum(yhats, axis=0)\r\n",
        "\treturn summed"
      ],
      "execution_count": null,
      "outputs": []
    },
    {
      "cell_type": "code",
      "metadata": {
        "id": "0MR4BOVQh5Y4"
      },
      "source": [
        "test_images = os.listdir(TEST_PATH)\r\n",
        "test_img = []\r\n",
        "for img_name in tqdm(test_images):\r\n",
        "    img = cv2.imread(TEST_PATH + img_name)\r\n",
        "    img = cv2.resize(img, (IMG_SIZE, IMG_SIZE))\r\n",
        "    test_img.append(img)"
      ],
      "execution_count": null,
      "outputs": []
    },
    {
      "cell_type": "code",
      "metadata": {
        "id": "etfCUjc6EYBa"
      },
      "source": [
        "x_test = np.array(test_img, np.float32) / 255"
      ],
      "execution_count": null,
      "outputs": []
    },
    {
      "cell_type": "code",
      "metadata": {
        "id": "e3zuy-Pqqhyj"
      },
      "source": [
        "predictions = ensemble_predictions(members,x_test)"
      ],
      "execution_count": null,
      "outputs": []
    },
    {
      "cell_type": "code",
      "metadata": {
        "id": "sdWPynWjEcqo"
      },
      "source": [
        "predictions = np.argmax(predictions, axis=1)\r\n",
        "rev_y = {v:k for k,v in label_numeric.items()}\r\n",
        "pred_labels = [rev_y[k] for k in predictions]"
      ],
      "execution_count": null,
      "outputs": []
    },
    {
      "cell_type": "code",
      "metadata": {
        "id": "lyvbI6qDEfeW"
      },
      "source": [
        "sub = pd.DataFrame({'Image': test_images, 'Class': pred_labels})\r\n",
        "sub.to_csv('/content/submission.csv', index = False)"
      ],
      "execution_count": null,
      "outputs": []
    },
    {
      "cell_type": "code",
      "metadata": {
        "id": "DHyIQc-hHJa2"
      },
      "source": [
        "from google.colab import files\r\n",
        "files.download('/content/submission.csv')"
      ],
      "execution_count": null,
      "outputs": []
    },
    {
      "cell_type": "code",
      "metadata": {
        "id": "tfHcPHEIzq6T"
      },
      "source": [
        "import gc \r\n",
        "gc.collect()"
      ],
      "execution_count": null,
      "outputs": []
    },
    {
      "cell_type": "code",
      "metadata": {
        "id": "hx8bwTQT5ln0"
      },
      "source": [
        ""
      ],
      "execution_count": null,
      "outputs": []
    }
  ]
}