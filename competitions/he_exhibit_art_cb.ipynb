{
  "nbformat": 4,
  "nbformat_minor": 0,
  "metadata": {
    "colab": {
      "name": "he_exhibit_art_cb",
      "provenance": [],
      "toc_visible": true,
      "machine_shape": "hm",
      "authorship_tag": "ABX9TyMujn9g+p5jlnUl8ivStrCI",
      "include_colab_link": true
    },
    "kernelspec": {
      "name": "python3",
      "display_name": "Python 3"
    },
    "accelerator": "GPU"
  },
  "cells": [
    {
      "cell_type": "markdown",
      "metadata": {
        "id": "view-in-github",
        "colab_type": "text"
      },
      "source": [
        "<a href=\"https://colab.research.google.com/github/anuj0456/deep_learning_for_coders/blob/master/competitions/he_exhibit_art_cb.ipynb\" target=\"_parent\"><img src=\"https://colab.research.google.com/assets/colab-badge.svg\" alt=\"Open In Colab\"/></a>"
      ]
    },
    {
      "cell_type": "code",
      "metadata": {
        "colab": {
          "base_uri": "https://localhost:8080/"
        },
        "id": "8Kct0pSqkaSr",
        "outputId": "762d3e7c-383e-447b-a4dd-feba6b3b554b"
      },
      "source": [
        "!pip install catboost"
      ],
      "execution_count": 2,
      "outputs": [
        {
          "output_type": "stream",
          "text": [
            "Collecting catboost\n",
            "\u001b[?25l  Downloading https://files.pythonhosted.org/packages/96/3b/bb419654adcf7efff42ed8a3f84e50c8f236424b7ed1cc8ccd290852e003/catboost-0.24.4-cp37-none-manylinux1_x86_64.whl (65.7MB)\n",
            "\u001b[K     |████████████████████████████████| 65.7MB 79kB/s \n",
            "\u001b[?25hRequirement already satisfied: pandas>=0.24.0 in /usr/local/lib/python3.7/dist-packages (from catboost) (1.1.5)\n",
            "Requirement already satisfied: matplotlib in /usr/local/lib/python3.7/dist-packages (from catboost) (3.2.2)\n",
            "Requirement already satisfied: plotly in /usr/local/lib/python3.7/dist-packages (from catboost) (4.4.1)\n",
            "Requirement already satisfied: numpy>=1.16.0 in /usr/local/lib/python3.7/dist-packages (from catboost) (1.19.5)\n",
            "Requirement already satisfied: six in /usr/local/lib/python3.7/dist-packages (from catboost) (1.15.0)\n",
            "Requirement already satisfied: scipy in /usr/local/lib/python3.7/dist-packages (from catboost) (1.4.1)\n",
            "Requirement already satisfied: graphviz in /usr/local/lib/python3.7/dist-packages (from catboost) (0.10.1)\n",
            "Requirement already satisfied: python-dateutil>=2.7.3 in /usr/local/lib/python3.7/dist-packages (from pandas>=0.24.0->catboost) (2.8.1)\n",
            "Requirement already satisfied: pytz>=2017.2 in /usr/local/lib/python3.7/dist-packages (from pandas>=0.24.0->catboost) (2018.9)\n",
            "Requirement already satisfied: pyparsing!=2.0.4,!=2.1.2,!=2.1.6,>=2.0.1 in /usr/local/lib/python3.7/dist-packages (from matplotlib->catboost) (2.4.7)\n",
            "Requirement already satisfied: kiwisolver>=1.0.1 in /usr/local/lib/python3.7/dist-packages (from matplotlib->catboost) (1.3.1)\n",
            "Requirement already satisfied: cycler>=0.10 in /usr/local/lib/python3.7/dist-packages (from matplotlib->catboost) (0.10.0)\n",
            "Requirement already satisfied: retrying>=1.3.3 in /usr/local/lib/python3.7/dist-packages (from plotly->catboost) (1.3.3)\n",
            "Installing collected packages: catboost\n",
            "Successfully installed catboost-0.24.4\n"
          ],
          "name": "stdout"
        }
      ]
    },
    {
      "cell_type": "code",
      "metadata": {
        "id": "Oo2Gohs47EYj"
      },
      "source": [
        "from sklearn.preprocessing import StandardScaler\r\n",
        "from sklearn.metrics import mean_squared_error\r\n",
        "from sklearn.preprocessing import LabelEncoder\r\n",
        "from catboost import CatBoostRegressor, Pool\r\n",
        "from sklearn.model_selection import KFold\r\n",
        "from lightgbm import LGBMRegressor\r\n",
        "import matplotlib.pyplot as plt\r\n",
        "from functools import partial\r\n",
        "import seaborn as sns\r\n",
        "import pandas as pd\r\n",
        "import numpy as np\r\n",
        "import warnings\r\n",
        "\r\n",
        "warnings.filterwarnings('ignore')"
      ],
      "execution_count": 3,
      "outputs": []
    },
    {
      "cell_type": "markdown",
      "metadata": {
        "id": "WOKLL_2_7Whw"
      },
      "source": [
        "# EDA"
      ]
    },
    {
      "cell_type": "code",
      "metadata": {
        "id": "Tw3wyT1I7X-D"
      },
      "source": [
        "pd.set_option('max_columns', 50)\r\n",
        "pd.set_option('max_rows', 6500)\r\n",
        "train = pd.read_csv('train.csv')\r\n",
        "test = pd.read_csv('test.csv')"
      ],
      "execution_count": 4,
      "outputs": []
    },
    {
      "cell_type": "code",
      "metadata": {
        "id": "N5nZb0sGd7_k"
      },
      "source": [
        "X_train = train.drop(['Customer Id', 'Artist Name', 'Scheduled Date', 'Delivery Date', 'Customer Location', 'Cost'], axis=1)\r\n",
        "\r\n",
        "y_train = train['Cost']"
      ],
      "execution_count": 6,
      "outputs": []
    },
    {
      "cell_type": "code",
      "metadata": {
        "id": "vX9LI7kcelFO"
      },
      "source": [
        "X_test = test.drop(['Customer Id', 'Artist Name', 'Scheduled Date', 'Delivery Date', 'Customer Location'], axis=1)"
      ],
      "execution_count": 7,
      "outputs": []
    },
    {
      "cell_type": "code",
      "metadata": {
        "id": "rI5YMlPSqxF-"
      },
      "source": [
        "cat = ['Material','International', 'Express Shipment', 'Installation Included', 'Transport', 'Fragile', 'Customer Information', 'Remote Location']\r\n",
        "for feature in cat:\r\n",
        "  if X_train[feature].isnull().sum() > 0:\r\n",
        "    X_train[feature] = X_train[feature].fillna(X_train[feature].mode()[0])\r\n",
        "  if X_test[feature].isnull().sum() > 0:\r\n",
        "    X_test[feature] = X_test[feature].fillna(X_test[feature].mode()[0])"
      ],
      "execution_count": 8,
      "outputs": []
    },
    {
      "cell_type": "code",
      "metadata": {
        "id": "c7vW-G9LR3ww"
      },
      "source": [
        "cont = ['Artist Reputation', 'Height', 'Width', 'Weight', 'Price Of Sculpture', 'Base Shipping Price']\r\n",
        "for feature in cont:\r\n",
        "  if X_train[feature].isnull().sum() > 0:\r\n",
        "    X_train[feature] = X_train[feature].fillna(X_train[feature].median())\r\n",
        "  if X_test[feature].isnull().sum() > 0:\r\n",
        "    X_test[feature] = X_test[feature].fillna(X_test[feature].median())"
      ],
      "execution_count": 9,
      "outputs": []
    },
    {
      "cell_type": "code",
      "metadata": {
        "id": "4DgkCBuXTSuu"
      },
      "source": [
        "train['Scheduled Date'] = pd.to_datetime(train['Scheduled Date'], errors='coerce')\r\n",
        "train['Delivery Date'] = pd.to_datetime(train['Delivery Date'], errors='coerce')\r\n",
        "X_train['SD_day'] = train['Scheduled Date'].dt.day\r\n",
        "X_train['SD_month'] = train['Scheduled Date'].dt.month\r\n",
        "# X_train['SD_year'] = train['Scheduled Date'].dt.year\r\n",
        "X_train['SD_weekday'] = train['Scheduled Date'].dt.dayofweek\r\n",
        "X_train['DD_day'] = train['Delivery Date'].dt.day\r\n",
        "X_train['DD_month'] = train['Delivery Date'].dt.month\r\n",
        "# X_train['DD_year'] = train['Delivery Date'].dt.year\r\n",
        "X_train['DD_weekday'] = train['Delivery Date'].dt.dayofweek\r\n",
        "X_train['Time GAP'] = (train['Scheduled Date'] - train['Delivery Date']).dt.days"
      ],
      "execution_count": 10,
      "outputs": []
    },
    {
      "cell_type": "code",
      "metadata": {
        "id": "ZsNFPQTFQgcH"
      },
      "source": [
        "test['Scheduled Date'] = pd.to_datetime(test['Scheduled Date'], errors='coerce')\r\n",
        "test['Delivery Date'] = pd.to_datetime(test['Delivery Date'], errors='coerce')\r\n",
        "X_test['SD_day'] = test['Scheduled Date'].dt.day\r\n",
        "X_test['SD_month'] = test['Scheduled Date'].dt.month\r\n",
        "# X_test['SD_year'] = test['Scheduled Date'].dt.year\r\n",
        "X_test['SD_weekday'] = test['Scheduled Date'].dt.dayofweek\r\n",
        "X_test['DD_day'] = test['Delivery Date'].dt.day\r\n",
        "X_test['DD_month'] = test['Delivery Date'].dt.month\r\n",
        "# X_test['DD_year'] = test['Delivery Date'].dt.year\r\n",
        "X_test['DD_weekday'] = test['Delivery Date'].dt.dayofweek\r\n",
        "X_test['Time GAP'] = (test['Scheduled Date'] - test['Delivery Date']).dt.days"
      ],
      "execution_count": 11,
      "outputs": []
    },
    {
      "cell_type": "code",
      "metadata": {
        "id": "YsTSeM28zP0h"
      },
      "source": [
        "# df[['City','Pin Code']] = df['Customer Location'].apply( lambda x: pd.Series(str(x).split(\",\"))) "
      ],
      "execution_count": 12,
      "outputs": []
    },
    {
      "cell_type": "code",
      "metadata": {
        "id": "FUtQrCFOxU6C"
      },
      "source": [
        "# from pandas.api.types import is_object_dtype\r\n",
        "# print(df.shape)\r\n",
        "# for i, col in enumerate(df.columns):\r\n",
        "#   if is_object_dtype(df[col]):\r\n",
        "#     df[col] = df[col].astype(str)\r\n",
        "#   if i == 0 or i == 1 or i == 2 or i == 5 or i == 5 or i == 6:\r\n",
        "#     print(f\"Col Name: {col}, Unique: {df[col].nunique()}, Mean: {df[col].mean():.2f}, Std: {df[col].std():.2f}, Nan: {df[col].isnull().sum()}, Type: {df[col].dtypes}\")\r\n",
        "#   else:\r\n",
        "#     print(f\"Col Name: {col}, Unique: {df[col].nunique()}, Nan: {df[col].isnull().sum()}, Type: {df[col].dtypes}\")"
      ],
      "execution_count": 13,
      "outputs": []
    },
    {
      "cell_type": "code",
      "metadata": {
        "colab": {
          "base_uri": "https://localhost:8080/"
        },
        "id": "Y2gboaTDxosT",
        "outputId": "6e9f6767-10f0-479c-d470-d05109c8932f"
      },
      "source": [
        "le = LabelEncoder()\r\n",
        "for feature in cat:\r\n",
        "  print(feature)\r\n",
        "  le.fit(X_train[feature])\r\n",
        "  X_train[feature] = le.transform(X_train[feature])\r\n",
        "  X_test[feature] = le.transform(X_test[feature])"
      ],
      "execution_count": 14,
      "outputs": [
        {
          "output_type": "stream",
          "text": [
            "Material\n",
            "International\n",
            "Express Shipment\n",
            "Installation Included\n",
            "Transport\n",
            "Fragile\n",
            "Customer Information\n",
            "Remote Location\n"
          ],
          "name": "stdout"
        }
      ]
    },
    {
      "cell_type": "code",
      "metadata": {
        "id": "ir20zj3PGgs3"
      },
      "source": [
        "sc1 = StandardScaler()\r\n",
        "X_train[[\"Weight\",\"Price Of Sculpture\"]] = sc1.fit_transform(X_train[[\"Weight\",\"Price Of Sculpture\"]])\r\n",
        "X_test[[\"Weight\",\"Price Of Sculpture\"]] = sc1.transform(X_test[[\"Weight\",\"Price Of Sculpture\"]])"
      ],
      "execution_count": 15,
      "outputs": []
    },
    {
      "cell_type": "code",
      "metadata": {
        "id": "jSYxohCoBsvr"
      },
      "source": [
        "def log1p(vec):\r\n",
        "    return np.log1p(abs(vec))"
      ],
      "execution_count": 22,
      "outputs": []
    },
    {
      "cell_type": "code",
      "metadata": {
        "id": "nfYNZlYHBtWt"
      },
      "source": [
        "y_train = log1p(y_train)"
      ],
      "execution_count": 23,
      "outputs": []
    },
    {
      "cell_type": "code",
      "metadata": {
        "id": "jYMp54yzpu_t"
      },
      "source": [
        "cat_names=['Material','International', 'Express Shipment', 'Installation Included', 'Transport', 'Fragile', 'Customer Information', 'Remote Location']\r\n",
        "cont_names=['Artist Reputation', 'Height', 'Width', 'Weight', 'Price Of Sculpture', 'Base Shipping Price']\r\n",
        "cat_features=[4,7,8,9,10,11,12,13,14,15,16,17,18,19,20]"
      ],
      "execution_count": 24,
      "outputs": []
    },
    {
      "cell_type": "code",
      "metadata": {
        "colab": {
          "base_uri": "https://localhost:8080/",
          "height": 249
        },
        "id": "DO8QA9SBRmUc",
        "outputId": "662504dc-ed34-4f58-de07-bcbaf93e177f"
      },
      "source": [
        "X_train.head()"
      ],
      "execution_count": 26,
      "outputs": [
        {
          "output_type": "execute_result",
          "data": {
            "text/html": [
              "<div>\n",
              "<style scoped>\n",
              "    .dataframe tbody tr th:only-of-type {\n",
              "        vertical-align: middle;\n",
              "    }\n",
              "\n",
              "    .dataframe tbody tr th {\n",
              "        vertical-align: top;\n",
              "    }\n",
              "\n",
              "    .dataframe thead th {\n",
              "        text-align: right;\n",
              "    }\n",
              "</style>\n",
              "<table border=\"1\" class=\"dataframe\">\n",
              "  <thead>\n",
              "    <tr style=\"text-align: right;\">\n",
              "      <th></th>\n",
              "      <th>Artist Reputation</th>\n",
              "      <th>Height</th>\n",
              "      <th>Width</th>\n",
              "      <th>Weight</th>\n",
              "      <th>Material</th>\n",
              "      <th>Price Of Sculpture</th>\n",
              "      <th>Base Shipping Price</th>\n",
              "      <th>International</th>\n",
              "      <th>Express Shipment</th>\n",
              "      <th>Installation Included</th>\n",
              "      <th>Transport</th>\n",
              "      <th>Fragile</th>\n",
              "      <th>Customer Information</th>\n",
              "      <th>Remote Location</th>\n",
              "      <th>SD_day</th>\n",
              "      <th>SD_month</th>\n",
              "      <th>SD_weekday</th>\n",
              "      <th>DD_day</th>\n",
              "      <th>DD_month</th>\n",
              "      <th>DD_weekday</th>\n",
              "      <th>Time GAP</th>\n",
              "    </tr>\n",
              "  </thead>\n",
              "  <tbody>\n",
              "    <tr>\n",
              "      <th>0</th>\n",
              "      <td>0.26</td>\n",
              "      <td>17.0</td>\n",
              "      <td>6.0</td>\n",
              "      <td>-0.141070</td>\n",
              "      <td>1</td>\n",
              "      <td>-0.133634</td>\n",
              "      <td>16.27</td>\n",
              "      <td>1</td>\n",
              "      <td>1</td>\n",
              "      <td>0</td>\n",
              "      <td>0</td>\n",
              "      <td>0</td>\n",
              "      <td>1</td>\n",
              "      <td>0</td>\n",
              "      <td>7</td>\n",
              "      <td>6</td>\n",
              "      <td>6</td>\n",
              "      <td>3</td>\n",
              "      <td>6</td>\n",
              "      <td>2</td>\n",
              "      <td>4</td>\n",
              "    </tr>\n",
              "    <tr>\n",
              "      <th>1</th>\n",
              "      <td>0.28</td>\n",
              "      <td>3.0</td>\n",
              "      <td>3.0</td>\n",
              "      <td>-0.142660</td>\n",
              "      <td>1</td>\n",
              "      <td>-0.134437</td>\n",
              "      <td>15.00</td>\n",
              "      <td>0</td>\n",
              "      <td>0</td>\n",
              "      <td>0</td>\n",
              "      <td>1</td>\n",
              "      <td>0</td>\n",
              "      <td>1</td>\n",
              "      <td>0</td>\n",
              "      <td>6</td>\n",
              "      <td>3</td>\n",
              "      <td>0</td>\n",
              "      <td>5</td>\n",
              "      <td>3</td>\n",
              "      <td>6</td>\n",
              "      <td>1</td>\n",
              "    </tr>\n",
              "    <tr>\n",
              "      <th>2</th>\n",
              "      <td>0.07</td>\n",
              "      <td>8.0</td>\n",
              "      <td>5.0</td>\n",
              "      <td>-0.142591</td>\n",
              "      <td>3</td>\n",
              "      <td>-0.134649</td>\n",
              "      <td>21.18</td>\n",
              "      <td>0</td>\n",
              "      <td>0</td>\n",
              "      <td>0</td>\n",
              "      <td>1</td>\n",
              "      <td>1</td>\n",
              "      <td>1</td>\n",
              "      <td>1</td>\n",
              "      <td>9</td>\n",
              "      <td>3</td>\n",
              "      <td>0</td>\n",
              "      <td>8</td>\n",
              "      <td>3</td>\n",
              "      <td>6</td>\n",
              "      <td>1</td>\n",
              "    </tr>\n",
              "    <tr>\n",
              "      <th>3</th>\n",
              "      <td>0.12</td>\n",
              "      <td>9.0</td>\n",
              "      <td>8.0</td>\n",
              "      <td>-0.141471</td>\n",
              "      <td>0</td>\n",
              "      <td>-0.134552</td>\n",
              "      <td>16.31</td>\n",
              "      <td>0</td>\n",
              "      <td>0</td>\n",
              "      <td>0</td>\n",
              "      <td>1</td>\n",
              "      <td>0</td>\n",
              "      <td>0</td>\n",
              "      <td>1</td>\n",
              "      <td>24</td>\n",
              "      <td>5</td>\n",
              "      <td>6</td>\n",
              "      <td>20</td>\n",
              "      <td>5</td>\n",
              "      <td>2</td>\n",
              "      <td>4</td>\n",
              "    </tr>\n",
              "    <tr>\n",
              "      <th>4</th>\n",
              "      <td>0.15</td>\n",
              "      <td>17.0</td>\n",
              "      <td>6.0</td>\n",
              "      <td>-0.142557</td>\n",
              "      <td>0</td>\n",
              "      <td>-0.134851</td>\n",
              "      <td>11.94</td>\n",
              "      <td>1</td>\n",
              "      <td>1</td>\n",
              "      <td>1</td>\n",
              "      <td>0</td>\n",
              "      <td>0</td>\n",
              "      <td>1</td>\n",
              "      <td>0</td>\n",
              "      <td>18</td>\n",
              "      <td>12</td>\n",
              "      <td>6</td>\n",
              "      <td>14</td>\n",
              "      <td>12</td>\n",
              "      <td>2</td>\n",
              "      <td>4</td>\n",
              "    </tr>\n",
              "  </tbody>\n",
              "</table>\n",
              "</div>"
            ],
            "text/plain": [
              "   Artist Reputation  Height  Width    Weight  Material  Price Of Sculpture  \\\n",
              "0               0.26    17.0    6.0 -0.141070         1           -0.133634   \n",
              "1               0.28     3.0    3.0 -0.142660         1           -0.134437   \n",
              "2               0.07     8.0    5.0 -0.142591         3           -0.134649   \n",
              "3               0.12     9.0    8.0 -0.141471         0           -0.134552   \n",
              "4               0.15    17.0    6.0 -0.142557         0           -0.134851   \n",
              "\n",
              "   Base Shipping Price  International  Express Shipment  \\\n",
              "0                16.27              1                 1   \n",
              "1                15.00              0                 0   \n",
              "2                21.18              0                 0   \n",
              "3                16.31              0                 0   \n",
              "4                11.94              1                 1   \n",
              "\n",
              "   Installation Included  Transport  Fragile  Customer Information  \\\n",
              "0                      0          0        0                     1   \n",
              "1                      0          1        0                     1   \n",
              "2                      0          1        1                     1   \n",
              "3                      0          1        0                     0   \n",
              "4                      1          0        0                     1   \n",
              "\n",
              "   Remote Location  SD_day  SD_month  SD_weekday  DD_day  DD_month  \\\n",
              "0                0       7         6           6       3         6   \n",
              "1                0       6         3           0       5         3   \n",
              "2                1       9         3           0       8         3   \n",
              "3                1      24         5           6      20         5   \n",
              "4                0      18        12           6      14        12   \n",
              "\n",
              "   DD_weekday  Time GAP  \n",
              "0           2         4  \n",
              "1           6         1  \n",
              "2           6         1  \n",
              "3           2         4  \n",
              "4           2         4  "
            ]
          },
          "metadata": {
            "tags": []
          },
          "execution_count": 26
        }
      ]
    },
    {
      "cell_type": "code",
      "metadata": {
        "id": "G6bi4GtwdtbG"
      },
      "source": [
        "seed = 0\r\n",
        "n_splits = 10\r\n",
        "shuffle=True\r\n",
        "iterations = 50000\r\n",
        "early_stopping_rounds = 400\r\n",
        "verbose_eval = 0\r\n",
        "baseline_rounds = 10\r\n",
        "cb_learning_rate = 0.06"
      ],
      "execution_count": 27,
      "outputs": []
    },
    {
      "cell_type": "code",
      "metadata": {
        "id": "koiKtJGTgcxX"
      },
      "source": [
        "split = KFold(n_splits=n_splits, shuffle=shuffle, random_state=seed)"
      ],
      "execution_count": 28,
      "outputs": []
    },
    {
      "cell_type": "code",
      "metadata": {
        "id": "Hf9BKrZwgiMW"
      },
      "source": [
        "cb_params = {'iterations':iterations,\r\n",
        "             'learning_rate':cb_learning_rate,\r\n",
        "             'depth':10,\r\n",
        "             'bootstrap_type':'Poisson',\r\n",
        "             'random_strength':1,\r\n",
        "             'min_data_in_leaf':10,\r\n",
        "             'l2_leaf_reg':3,\r\n",
        "             'loss_function':'RMSE', \r\n",
        "             'eval_metric':'RMSE',\r\n",
        "             'random_seed':seed,\r\n",
        "             'grow_policy':'Depthwise',\r\n",
        "             'max_bin':1024, \r\n",
        "             'model_size_reg': 0,\r\n",
        "             'task_type': 'GPU',\r\n",
        "             'od_type':'IncToDec',\r\n",
        "             'od_wait':100,\r\n",
        "             'metric_period':500,\r\n",
        "             'verbose':verbose_eval,\r\n",
        "             'subsample':0.6,\r\n",
        "             'od_pval':1e-10,\r\n",
        "             'max_ctr_complexity': 8,\r\n",
        "             'has_time': False,\r\n",
        "             'simple_ctr' : 'FeatureFreq',\r\n",
        "             'combinations_ctr': 'FeatureFreq'\r\n",
        "            }\r\n"
      ],
      "execution_count": 40,
      "outputs": []
    },
    {
      "cell_type": "code",
      "metadata": {
        "id": "H7QRwHp6gt38"
      },
      "source": [
        "preds_list_cb = []\r\n",
        "oof_cb = np.zeros((len(train)))\r\n",
        "oof_cbx = np.zeros((len(train)))\r\n",
        "\r\n",
        "for fold, (train_idx, val_idx) in enumerate(split.split(X_train)):\r\n",
        "    print(f'Fold {fold+1}')\r\n",
        "    X_tr = X_train.iloc[train_idx]\r\n",
        "    X_val = X_train.iloc[val_idx]\r\n",
        "    y_tr = y_train.iloc[train_idx]\r\n",
        "    y_val = y_train.iloc[val_idx]\r\n",
        "   \r\n",
        "    ######CATBOOST#######\r\n",
        "    ptrain = Pool(data=X_tr, label=y_tr, cat_features=cat_features)\r\n",
        "    pvalid = Pool(data=X_val, label=y_val, cat_features=cat_features)\r\n",
        "    ptest = Pool(data=X_test, cat_features=cat_features)\r\n",
        "    CModel = CatBoostRegressor(**cb_params)\r\n",
        "    CModel.fit(ptrain, eval_set=pvalid, use_best_model=True,early_stopping_rounds=early_stopping_rounds)\r\n",
        "    temp_fold_preds = CModel.predict(pvalid)\r\n",
        "    oof_cb[val_idx] = temp_fold_preds\r\n",
        "    first_cb_rmse = mean_squared_error(y_val, temp_fold_preds, squared=False)\r\n",
        "    print(f'RMSE of CB model is {first_cb_rmse}')\r\n",
        "    baseline_preds_tr_cb = CModel.predict(ptrain)\r\n",
        "    baseline_preds_vl_cb = CModel.predict(pvalid)\r\n",
        "    test_preds_cb = CModel.predict(ptest)   \r\n",
        "\r\n",
        "    \r\n",
        "    for baseline in range(baseline_rounds):\r\n",
        "        print(f'Using prediction of each model as a baseline for the next model round {baseline+1}')\r\n",
        "        ptrain = Pool(data=X_tr, label=y_tr, cat_features=cat_features, baseline=baseline_train)\r\n",
        "        pvalid = Pool(data=X_val, label=y_val, cat_features=cat_features, baseline=baseline_valid)\r\n",
        "        ptest = Pool(data=X_test, cat_features=cat_features, baseline=baseline_test)\r\n",
        "        cb_params_ = cb_params.copy()\r\n",
        "        cb_params_.update({'learning_rate': cb_learning_rate*(1/(baseline+1))})\r\n",
        "        CModel = CatBoostRegressor(**cb_params_)\r\n",
        "        CModel.fit(ptrain, eval_set=pvalid, use_best_model=True, early_stopping_rounds=early_stopping_rounds)\r\n",
        "        temp_fold_preds = CModel.predict(pvalid)\r\n",
        "        oof_cbx[val_idx] = temp_fold_preds\r\n",
        "        second_cb_rmse = mean_squared_error(y_val, temp_fold_preds, squared=False)\r\n",
        "        print(f'RMSE of CB model with baseline round {baseline+1} {second_cb_rmse}')   \r\n",
        "        baseline_train = CModel.predict(ptrain)\r\n",
        "        baseline_valid = CModel.predict(pvalid)\r\n",
        "        baseline_test = CModel.predict(ptest)\r\n",
        "\r\n",
        "       \r\n",
        "    print('-' * 100)\r\n",
        "    print('',end='\\n')\r\n",
        "    preds_list_cb.append(CModel.predict(ptest))"
      ],
      "execution_count": null,
      "outputs": []
    },
    {
      "cell_type": "code",
      "metadata": {
        "id": "W0S6HnXGi45u"
      },
      "source": [
        "first_cb_rmse = mean_squared_error(y_train, oof_cb, squared=False)\r\n",
        "second_cb_rmse = mean_squared_error(y_train, oof_cbx, squared=False)\r\n",
        "print(f'RMSE for CB model is {first_cb_rmse}')\r\n",
        "print(f'RMSE for CB model with XGB baseline is {second_cb_rmse}')\r\n",
        "print(f'RMSE for CB and XGB blend is {mean_squared_error(y_train, (oof_cbx+oof_xgbx)/2, squared=False)}')"
      ],
      "execution_count": null,
      "outputs": []
    },
    {
      "cell_type": "code",
      "metadata": {
        "id": "MfR3wVJYEI6b"
      },
      "source": [
        "def expm1(x):\r\n",
        "    return np.expm1(x)"
      ],
      "execution_count": 45,
      "outputs": []
    },
    {
      "cell_type": "code",
      "metadata": {
        "id": "0CHVWfd7C9En"
      },
      "source": [
        "def clipExp(vec):\r\n",
        "    return np.clip(expm1(vec), 0, None)"
      ],
      "execution_count": 46,
      "outputs": []
    },
    {
      "cell_type": "code",
      "metadata": {
        "colab": {
          "base_uri": "https://localhost:8080/",
          "height": 195
        },
        "id": "GBpLq3Ubi6Cg",
        "outputId": "21e933fe-4774-4368-972a-70e67eef15c9"
      },
      "source": [
        "preds1 = np.mean(preds_list_cb, axis=0)\r\n",
        "preds1 = clipExp(preds1)\r\n",
        "submission_cb = pd.DataFrame({'Customer Id':test['Customer Id'],'Cost':preds1})\r\n",
        "submission_cb.to_csv('submission_cb.csv', index=False)\r\n",
        "submission_cb.head()"
      ],
      "execution_count": 47,
      "outputs": [
        {
          "output_type": "execute_result",
          "data": {
            "text/html": [
              "<div>\n",
              "<style scoped>\n",
              "    .dataframe tbody tr th:only-of-type {\n",
              "        vertical-align: middle;\n",
              "    }\n",
              "\n",
              "    .dataframe tbody tr th {\n",
              "        vertical-align: top;\n",
              "    }\n",
              "\n",
              "    .dataframe thead th {\n",
              "        text-align: right;\n",
              "    }\n",
              "</style>\n",
              "<table border=\"1\" class=\"dataframe\">\n",
              "  <thead>\n",
              "    <tr style=\"text-align: right;\">\n",
              "      <th></th>\n",
              "      <th>Customer Id</th>\n",
              "      <th>Cost</th>\n",
              "    </tr>\n",
              "  </thead>\n",
              "  <tbody>\n",
              "    <tr>\n",
              "      <th>0</th>\n",
              "      <td>fffe3400310033003300</td>\n",
              "      <td>247.922378</td>\n",
              "    </tr>\n",
              "    <tr>\n",
              "      <th>1</th>\n",
              "      <td>fffe3600350035003400</td>\n",
              "      <td>259.818089</td>\n",
              "    </tr>\n",
              "    <tr>\n",
              "      <th>2</th>\n",
              "      <td>fffe3700360030003500</td>\n",
              "      <td>186.015421</td>\n",
              "    </tr>\n",
              "    <tr>\n",
              "      <th>3</th>\n",
              "      <td>fffe350038003600</td>\n",
              "      <td>208.129817</td>\n",
              "    </tr>\n",
              "    <tr>\n",
              "      <th>4</th>\n",
              "      <td>fffe3500390032003500</td>\n",
              "      <td>339.461715</td>\n",
              "    </tr>\n",
              "  </tbody>\n",
              "</table>\n",
              "</div>"
            ],
            "text/plain": [
              "            Customer Id        Cost\n",
              "0  fffe3400310033003300  247.922378\n",
              "1  fffe3600350035003400  259.818089\n",
              "2  fffe3700360030003500  186.015421\n",
              "3      fffe350038003600  208.129817\n",
              "4  fffe3500390032003500  339.461715"
            ]
          },
          "metadata": {
            "tags": []
          },
          "execution_count": 47
        }
      ]
    },
    {
      "cell_type": "code",
      "metadata": {
        "id": "ykW5PhgOkCp6"
      },
      "source": [
        ""
      ],
      "execution_count": null,
      "outputs": []
    }
  ]
}