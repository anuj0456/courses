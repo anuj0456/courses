{
  "nbformat": 4,
  "nbformat_minor": 0,
  "metadata": {
    "colab": {
      "name": "he_holiday_season_ensemble_1.ipynb",
      "provenance": [],
      "collapsed_sections": [],
      "include_colab_link": true
    },
    "kernelspec": {
      "display_name": "Python 3",
      "name": "python3"
    }
  },
  "cells": [
    {
      "cell_type": "markdown",
      "metadata": {
        "id": "view-in-github",
        "colab_type": "text"
      },
      "source": [
        "<a href=\"https://colab.research.google.com/github/anuj0456/courses/blob/master/competations/he_holiday_season_ensemble_1.ipynb\" target=\"_parent\"><img src=\"https://colab.research.google.com/assets/colab-badge.svg\" alt=\"Open In Colab\"/></a>"
      ]
    },
    {
      "cell_type": "code",
      "metadata": {
        "id": "8ryqii2UNDEQ"
      },
      "source": [
        "# # !pip install tf-nightly\r\n",
        "# !pip uninstall tensorflow  \r\n",
        "# !pip install tensorflow"
      ],
      "execution_count": 1,
      "outputs": []
    },
    {
      "cell_type": "code",
      "metadata": {
        "id": "l3rNZzsSciem"
      },
      "source": [
        "# from google.colab import drive\n",
        "# drive.mount('/content/drive')"
      ],
      "execution_count": 2,
      "outputs": []
    },
    {
      "cell_type": "code",
      "metadata": {
        "id": "LOi5LuNSEHUk"
      },
      "source": [
        "import os\r\n",
        "import csv\r\n",
        "import sys\r\n",
        "import cv2\r\n",
        "import time\r\n",
        "import keras\r\n",
        "import numpy as np\r\n",
        "import pandas as pd\r\n",
        "from tqdm import tqdm\r\n",
        "import tensorflow as tf\r\n",
        "from tensorflow import keras\r\n",
        "import tensorflow_hub as hub\r\n",
        "import matplotlib.pyplot as plt\r\n",
        "from PIL import Image, ImageOps\r\n",
        "from sklearn import preprocessing\r\n",
        "from keras.models import Sequential\r\n",
        "from tensorflow.keras import layers\r\n",
        "from keras.optimizers import Adam, SGD\r\n",
        "from sklearn.model_selection import KFold\r\n",
        "from tensorflow.keras.optimizers import RMSprop\r\n",
        "from keras.layers import Dense, Dropout, Flatten\r\n",
        "from sklearn.model_selection import train_test_split\r\n",
        "from tensorflow.keras.preprocessing.image import ImageDataGenerator\r\n",
        "from tensorflow.keras.preprocessing.image import ImageDataGenerator\r\n",
        "from keras.callbacks import ModelCheckpoint, EarlyStopping, ReduceLROnPlateau\r\n",
        "from tensorflow.keras.applications import Xception, InceptionResNetV2, EfficientNetB4, ResNet50, EfficientNetB2, EfficientNetB3"
      ],
      "execution_count": 3,
      "outputs": []
    },
    {
      "cell_type": "code",
      "metadata": {
        "id": "2idxqocuGZza"
      },
      "source": [
        "# !unzip test.zip\r\n",
        "# !unzip train.zip"
      ],
      "execution_count": 4,
      "outputs": []
    },
    {
      "cell_type": "code",
      "metadata": {
        "id": "CwTf6OQQLeoP"
      },
      "source": [
        "IMG_SIZE = 224\r\n",
        "batch_size = 32\r\n",
        "epoch = 10\r\n",
        "splits = 5\r\n",
        "TRAIN_PATH = '/content/train/'\r\n",
        "TEST_PATH = '/content/test/'\r\n",
        "csv_path = '/content/train.csv'"
      ],
      "execution_count": 5,
      "outputs": []
    },
    {
      "cell_type": "code",
      "metadata": {
        "id": "nPvg5UW5Kun7"
      },
      "source": [
        "df = pd.read_csv(csv_path)"
      ],
      "execution_count": 6,
      "outputs": []
    },
    {
      "cell_type": "code",
      "metadata": {
        "id": "w960DgY4vpaA"
      },
      "source": [
        "kfold = KFold(splits, True)\r\n",
        "# enumerate splits"
      ],
      "execution_count": 7,
      "outputs": []
    },
    {
      "cell_type": "code",
      "metadata": {
        "id": "HzN2Mm_JCzzA",
        "colab": {
          "base_uri": "https://localhost:8080/"
        },
        "outputId": "cc75ab45-701a-4467-80f1-2562436c4289"
      },
      "source": [
        "train_img = []\r\n",
        "x = 0\r\n",
        "for img_name in tqdm(df['Image'].values):\r\n",
        "    img = cv2.imread(TRAIN_PATH + img_name)\r\n",
        "    img = cv2.resize(img, (IMG_SIZE, IMG_SIZE))\r\n",
        "    train_img.append(img)\r\n",
        "    \r\n",
        "x_train = np.array(train_img, np.float32) / 255\r\n",
        "print(x_train.shape)"
      ],
      "execution_count": 8,
      "outputs": [
        {
          "output_type": "stream",
          "text": [
            "100%|██████████| 6469/6469 [00:02<00:00, 2401.15it/s]\n"
          ],
          "name": "stderr"
        },
        {
          "output_type": "stream",
          "text": [
            "(6469, 224, 224, 3)\n"
          ],
          "name": "stdout"
        }
      ]
    },
    {
      "cell_type": "code",
      "metadata": {
        "id": "ChXmBf7RDOlV"
      },
      "source": [
        "label_list = df['Class'].tolist()\r\n",
        "label_numeric = {k: v for v, k in enumerate(set(label_list))}\r\n",
        "y_train = [label_numeric[k] for k in label_list]\r\n",
        "y_train = np.array(y_train)"
      ],
      "execution_count": 9,
      "outputs": []
    },
    {
      "cell_type": "code",
      "metadata": {
        "id": "dFF6JI4YDPZ8",
        "colab": {
          "base_uri": "https://localhost:8080/"
        },
        "outputId": "f6efec3e-16b6-4c68-82a0-97296e8fa172"
      },
      "source": [
        "from keras.utils import to_categorical\r\n",
        "y_train = to_categorical(y_train)\r\n",
        "print(y_train.shape)"
      ],
      "execution_count": 10,
      "outputs": [
        {
          "output_type": "stream",
          "text": [
            "(6469, 6)\n"
          ],
          "name": "stdout"
        }
      ]
    },
    {
      "cell_type": "code",
      "metadata": {
        "id": "xoZL-cJvLin0"
      },
      "source": [
        "train_gen = ImageDataGenerator(rotation_range=30, \r\n",
        "                                width_shift_range=0.1, \r\n",
        "                                height_shift_range=0.1,\r\n",
        "                                shear_range=0.2,\r\n",
        "                                zoom_range=0.2,\r\n",
        "                                horizontal_flip=True,\r\n",
        "                                )\r\n",
        "train_gen.fit(x_train)"
      ],
      "execution_count": 11,
      "outputs": []
    },
    {
      "cell_type": "code",
      "metadata": {
        "id": "rKYQC6vyErQJ"
      },
      "source": [
        "rms = RMSprop(lr = 0.001, momentum=0.9, clipnorm = 1., clipvalue = 1.)\r\n",
        "adam = Adam(lr = 1e-4)\r\n",
        "sgd = SGD(lr = 1e-4, momentum=0.9)"
      ],
      "execution_count": 12,
      "outputs": []
    },
    {
      "cell_type": "code",
      "metadata": {
        "id": "DBGLch7aL-8g"
      },
      "source": [
        "def get_model1():\r\n",
        "    core = EfficientNetB4(include_top=False, input_tensor=None,weights='imagenet',input_shape=(IMG_SIZE, IMG_SIZE,3))\r\n",
        "    model = Sequential()\r\n",
        "    model.add(core)\r\n",
        "    model.add(Flatten())\r\n",
        "    model.add(Dropout(0.3))\r\n",
        "    model.add(Dense(128, activation='relu'))\r\n",
        "    model.add(Dropout(0.5))\r\n",
        "    model.add(Dense(6, activation='softmax'))\r\n",
        "    \r\n",
        "    return model"
      ],
      "execution_count": 13,
      "outputs": []
    },
    {
      "cell_type": "code",
      "metadata": {
        "id": "a3wmuJ8DLOB_"
      },
      "source": [
        "model1 = get_model1()\r\n",
        "model1.compile(optimizer= adam, metrics=['accuracy'], loss='categorical_crossentropy')"
      ],
      "execution_count": 14,
      "outputs": []
    },
    {
      "cell_type": "code",
      "metadata": {
        "id": "kga03bkpsMgS"
      },
      "source": [
        "model_save1 = ModelCheckpoint(\"/content/model_1\", \r\n",
        "                             save_best_only = True, \r\n",
        "                             save_weights_only = True,\r\n",
        "                             monitor = 'loss', \r\n",
        "                             mode = 'min', verbose = 1)\r\n",
        "early_stop1 = EarlyStopping(monitor = 'loss', min_delta = 0.01, \r\n",
        "                           patience = 2, mode = 'min', verbose = 1,\r\n",
        "                           restore_best_weights = True)\r\n",
        "reduce_lr1 = ReduceLROnPlateau(monitor = 'loss', factor = 0.1, \r\n",
        "                              patience = 2, min_delta = 0.01, \r\n",
        "                              mode = 'min', verbose = 1)"
      ],
      "execution_count": 15,
      "outputs": []
    },
    {
      "cell_type": "code",
      "metadata": {
        "id": "T34w8xyQM4gK",
        "colab": {
          "base_uri": "https://localhost:8080/"
        },
        "outputId": "56767bf3-7260-41db-ca40-d58ce0bcbbfc"
      },
      "source": [
        "# for train, test in kfold.split(x_train):\r\n",
        "history1 = model1.fit(train_gen.flow(x_train, y_train, batch_size=batch_size), epochs=epoch,callbacks=[model_save1])"
      ],
      "execution_count": 16,
      "outputs": [
        {
          "output_type": "stream",
          "text": [
            "Epoch 1/10\n",
            "203/203 [==============================] - 121s 498ms/step - loss: 1.4348 - accuracy: 0.5136\n",
            "\n",
            "Epoch 00001: loss improved from inf to 1.09392, saving model to /content/model_1\n",
            "Epoch 2/10\n",
            "203/203 [==============================] - 101s 498ms/step - loss: 0.6808 - accuracy: 0.7497\n",
            "\n",
            "Epoch 00002: loss improved from 1.09392 to 0.65293, saving model to /content/model_1\n",
            "Epoch 3/10\n",
            "203/203 [==============================] - 101s 494ms/step - loss: 0.5288 - accuracy: 0.8169\n",
            "\n",
            "Epoch 00003: loss improved from 0.65293 to 0.51319, saving model to /content/model_1\n",
            "Epoch 4/10\n",
            "203/203 [==============================] - 101s 497ms/step - loss: 0.4132 - accuracy: 0.8528\n",
            "\n",
            "Epoch 00004: loss improved from 0.51319 to 0.40796, saving model to /content/model_1\n",
            "Epoch 5/10\n",
            "203/203 [==============================] - 101s 498ms/step - loss: 0.3372 - accuracy: 0.8844\n",
            "\n",
            "Epoch 00005: loss improved from 0.40796 to 0.35452, saving model to /content/model_1\n",
            "Epoch 6/10\n",
            "203/203 [==============================] - 101s 498ms/step - loss: 0.3096 - accuracy: 0.8969\n",
            "\n",
            "Epoch 00006: loss improved from 0.35452 to 0.30232, saving model to /content/model_1\n",
            "Epoch 7/10\n",
            "203/203 [==============================] - 102s 501ms/step - loss: 0.2480 - accuracy: 0.9163\n",
            "\n",
            "Epoch 00007: loss improved from 0.30232 to 0.24194, saving model to /content/model_1\n",
            "Epoch 8/10\n",
            "203/203 [==============================] - 102s 500ms/step - loss: 0.2029 - accuracy: 0.9346\n",
            "\n",
            "Epoch 00008: loss improved from 0.24194 to 0.21603, saving model to /content/model_1\n",
            "Epoch 9/10\n",
            "203/203 [==============================] - 102s 499ms/step - loss: 0.1946 - accuracy: 0.9309\n",
            "\n",
            "Epoch 00009: loss improved from 0.21603 to 0.20220, saving model to /content/model_1\n",
            "Epoch 10/10\n",
            "203/203 [==============================] - 102s 499ms/step - loss: 0.1820 - accuracy: 0.9377\n",
            "\n",
            "Epoch 00010: loss improved from 0.20220 to 0.17854, saving model to /content/model_1\n"
          ],
          "name": "stdout"
        }
      ]
    },
    {
      "cell_type": "code",
      "metadata": {
        "id": "tDGJqYyRKT13"
      },
      "source": [
        "def get_model2():\r\n",
        "    core = InceptionResNetV2(include_top=False, input_tensor=None,weights='imagenet',input_shape=(IMG_SIZE, IMG_SIZE,3))\r\n",
        "    model = Sequential()\r\n",
        "    model.add(core)\r\n",
        "    model.add(Flatten())\r\n",
        "    model.add(Dropout(0.3))\r\n",
        "    model.add(Dense(128, activation='relu'))\r\n",
        "    model.add(Dropout(0.5))\r\n",
        "    model.add(Dense(6, activation='softmax'))\r\n",
        "    \r\n",
        "    return model"
      ],
      "execution_count": 17,
      "outputs": []
    },
    {
      "cell_type": "code",
      "metadata": {
        "id": "EtioWBzNaU5Y"
      },
      "source": [
        "model2 = get_model2()\r\n",
        "model2.compile(optimizer= adam, metrics=['accuracy'], loss='categorical_crossentropy')"
      ],
      "execution_count": 18,
      "outputs": []
    },
    {
      "cell_type": "code",
      "metadata": {
        "id": "7IMpKLmDYh3B"
      },
      "source": [
        "model_save2 = ModelCheckpoint(\"/content/model_2\", \r\n",
        "                             save_best_only = True, \r\n",
        "                             save_weights_only = True,\r\n",
        "                             monitor = 'loss', \r\n",
        "                             mode = 'min', verbose = 1)\r\n",
        "early_stop2 = EarlyStopping(monitor = 'loss', min_delta = 0.01, \r\n",
        "                           patience = 2, mode = 'min', verbose = 1,\r\n",
        "                           restore_best_weights = True)\r\n",
        "reduce_lr2 = ReduceLROnPlateau(monitor = 'loss', factor = 0.1, \r\n",
        "                              patience = 2, min_delta = 0.01, \r\n",
        "                              mode = 'min', verbose = 1)"
      ],
      "execution_count": 19,
      "outputs": []
    },
    {
      "cell_type": "code",
      "metadata": {
        "id": "MFhyKHJVaUwL",
        "colab": {
          "base_uri": "https://localhost:8080/"
        },
        "outputId": "6d26741c-c9ad-495f-9196-d68c1f696187"
      },
      "source": [
        "history2 = model2.fit(train_gen.flow(x_train, y_train, batch_size=batch_size), epochs=epoch, callbacks=[model_save2])"
      ],
      "execution_count": 20,
      "outputs": [
        {
          "output_type": "stream",
          "text": [
            "Epoch 1/10\n",
            "203/203 [==============================] - 94s 360ms/step - loss: 1.4512 - accuracy: 0.5267\n",
            "\n",
            "Epoch 00001: loss improved from inf to 1.07473, saving model to /content/model_2\n",
            "Epoch 2/10\n",
            "203/203 [==============================] - 74s 361ms/step - loss: 0.6327 - accuracy: 0.7885\n",
            "\n",
            "Epoch 00002: loss improved from 1.07473 to 0.60552, saving model to /content/model_2\n",
            "Epoch 3/10\n",
            "203/203 [==============================] - 74s 361ms/step - loss: 0.4651 - accuracy: 0.8423\n",
            "\n",
            "Epoch 00003: loss improved from 0.60552 to 0.47636, saving model to /content/model_2\n",
            "Epoch 4/10\n",
            "203/203 [==============================] - 73s 360ms/step - loss: 0.3808 - accuracy: 0.8737\n",
            "\n",
            "Epoch 00004: loss improved from 0.47636 to 0.38969, saving model to /content/model_2\n",
            "Epoch 5/10\n",
            "203/203 [==============================] - 74s 362ms/step - loss: 0.2994 - accuracy: 0.9008\n",
            "\n",
            "Epoch 00005: loss improved from 0.38969 to 0.31673, saving model to /content/model_2\n",
            "Epoch 6/10\n",
            "203/203 [==============================] - 74s 362ms/step - loss: 0.2414 - accuracy: 0.9191\n",
            "\n",
            "Epoch 00006: loss improved from 0.31673 to 0.24845, saving model to /content/model_2\n",
            "Epoch 7/10\n",
            "203/203 [==============================] - 74s 362ms/step - loss: 0.2104 - accuracy: 0.9279\n",
            "\n",
            "Epoch 00007: loss improved from 0.24845 to 0.22676, saving model to /content/model_2\n",
            "Epoch 8/10\n",
            "203/203 [==============================] - 74s 362ms/step - loss: 0.2249 - accuracy: 0.9315\n",
            "\n",
            "Epoch 00008: loss improved from 0.22676 to 0.21317, saving model to /content/model_2\n",
            "Epoch 9/10\n",
            "203/203 [==============================] - 74s 362ms/step - loss: 0.1863 - accuracy: 0.9435\n",
            "\n",
            "Epoch 00009: loss improved from 0.21317 to 0.19369, saving model to /content/model_2\n",
            "Epoch 10/10\n",
            "203/203 [==============================] - 74s 363ms/step - loss: 0.1707 - accuracy: 0.9453\n",
            "\n",
            "Epoch 00010: loss improved from 0.19369 to 0.16677, saving model to /content/model_2\n"
          ],
          "name": "stdout"
        }
      ]
    },
    {
      "cell_type": "code",
      "metadata": {
        "id": "VAXqesUjKTmT"
      },
      "source": [
        "def get_model3():\r\n",
        "    core = EfficientNetB2(include_top=False, input_tensor=None,weights='imagenet',input_shape=(IMG_SIZE, IMG_SIZE,3))\r\n",
        "    model = Sequential()\r\n",
        "    model.add(core)\r\n",
        "    model.add(Flatten())\r\n",
        "    model.add(Dropout(0.3))\r\n",
        "    model.add(Dense(128, activation='relu'))\r\n",
        "    model.add(Dropout(0.5))\r\n",
        "    model.add(Dense(6, activation='softmax'))\r\n",
        "    \r\n",
        "    return model"
      ],
      "execution_count": 21,
      "outputs": []
    },
    {
      "cell_type": "code",
      "metadata": {
        "id": "2-4lzSh5biBU",
        "colab": {
          "base_uri": "https://localhost:8080/"
        },
        "outputId": "39bb3f0e-864c-4e95-ad30-895428e5232a"
      },
      "source": [
        "model3 = get_model3()\r\n",
        "model3.compile(optimizer= adam, metrics=['accuracy'], loss='categorical_crossentropy')"
      ],
      "execution_count": 22,
      "outputs": [
        {
          "output_type": "stream",
          "text": [
            "Downloading data from https://storage.googleapis.com/keras-applications/efficientnetb2_notop.h5\n",
            "31793152/31790344 [==============================] - 1s 0us/step\n"
          ],
          "name": "stdout"
        }
      ]
    },
    {
      "cell_type": "code",
      "metadata": {
        "id": "GT9xZBbjginO"
      },
      "source": [
        "model_save3 = ModelCheckpoint(\"/content/model_3\", \r\n",
        "                             save_best_only = True, \r\n",
        "                             save_weights_only = True,\r\n",
        "                             monitor = 'loss', \r\n",
        "                             mode = 'min', verbose = 1)\r\n",
        "early_stop3 = EarlyStopping(monitor = 'val_loss', min_delta = 0.001, \r\n",
        "                           patience = 5, mode = 'min', verbose = 1,\r\n",
        "                           restore_best_weights = True)\r\n",
        "reduce_lr3 = ReduceLROnPlateau(monitor = 'val_accuracy', factor = 0.001, \r\n",
        "                              patience = 2, min_delta = 0.001, \r\n",
        "                              mode = 'min', verbose = 1)"
      ],
      "execution_count": 23,
      "outputs": []
    },
    {
      "cell_type": "code",
      "metadata": {
        "id": "yILYstCPblpc",
        "colab": {
          "base_uri": "https://localhost:8080/"
        },
        "outputId": "1d661b72-6253-4385-848a-291c7d3b1cb4"
      },
      "source": [
        "history3 = model3.fit( train_gen.flow(x_train, y_train, batch_size=batch_size), epochs=epoch, callbacks=[model_save3])"
      ],
      "execution_count": 24,
      "outputs": [
        {
          "output_type": "stream",
          "text": [
            "Epoch 1/10\n",
            "203/203 [==============================] - 86s 356ms/step - loss: 1.3942 - accuracy: 0.5748\n",
            "\n",
            "Epoch 00001: loss improved from inf to 1.02699, saving model to /content/model_3\n",
            "Epoch 2/10\n",
            "203/203 [==============================] - 73s 356ms/step - loss: 0.5972 - accuracy: 0.7919\n",
            "\n",
            "Epoch 00002: loss improved from 1.02699 to 0.58809, saving model to /content/model_3\n",
            "Epoch 3/10\n",
            "203/203 [==============================] - 72s 354ms/step - loss: 0.4583 - accuracy: 0.8330\n",
            "\n",
            "Epoch 00003: loss improved from 0.58809 to 0.44288, saving model to /content/model_3\n",
            "Epoch 4/10\n",
            "203/203 [==============================] - 72s 355ms/step - loss: 0.3830 - accuracy: 0.8703\n",
            "\n",
            "Epoch 00004: loss improved from 0.44288 to 0.36518, saving model to /content/model_3\n",
            "Epoch 5/10\n",
            "203/203 [==============================] - 73s 357ms/step - loss: 0.3010 - accuracy: 0.8936\n",
            "\n",
            "Epoch 00005: loss improved from 0.36518 to 0.32096, saving model to /content/model_3\n",
            "Epoch 6/10\n",
            "203/203 [==============================] - 73s 358ms/step - loss: 0.2666 - accuracy: 0.9052\n",
            "\n",
            "Epoch 00006: loss improved from 0.32096 to 0.26960, saving model to /content/model_3\n",
            "Epoch 7/10\n",
            "203/203 [==============================] - 72s 355ms/step - loss: 0.2418 - accuracy: 0.9170\n",
            "\n",
            "Epoch 00007: loss improved from 0.26960 to 0.24425, saving model to /content/model_3\n",
            "Epoch 8/10\n",
            "203/203 [==============================] - 73s 356ms/step - loss: 0.2113 - accuracy: 0.9275\n",
            "\n",
            "Epoch 00008: loss improved from 0.24425 to 0.22320, saving model to /content/model_3\n",
            "Epoch 9/10\n",
            "203/203 [==============================] - 72s 355ms/step - loss: 0.1746 - accuracy: 0.9400\n",
            "\n",
            "Epoch 00009: loss improved from 0.22320 to 0.17984, saving model to /content/model_3\n",
            "Epoch 10/10\n",
            "203/203 [==============================] - 72s 354ms/step - loss: 0.1665 - accuracy: 0.9463\n",
            "\n",
            "Epoch 00010: loss improved from 0.17984 to 0.17612, saving model to /content/model_3\n"
          ],
          "name": "stdout"
        }
      ]
    },
    {
      "cell_type": "code",
      "metadata": {
        "id": "gcuykas8KTH8"
      },
      "source": [
        "def get_model4():\r\n",
        "    core = EfficientNetB3(include_top=False, input_tensor=None,weights='imagenet',input_shape=(IMG_SIZE, IMG_SIZE,3))\r\n",
        "    model = Sequential()\r\n",
        "    model.add(core)\r\n",
        "    model.add(Flatten())\r\n",
        "    model.add(Dropout(0.3))\r\n",
        "    model.add(Dense(128, activation='relu'))\r\n",
        "    model.add(Dropout(0.5))\r\n",
        "    model.add(Dense(6, activation='softmax'))\r\n",
        "    \r\n",
        "    return model"
      ],
      "execution_count": 25,
      "outputs": []
    },
    {
      "cell_type": "code",
      "metadata": {
        "id": "2OzACwpRb3Xb",
        "colab": {
          "base_uri": "https://localhost:8080/"
        },
        "outputId": "a7561fa5-af6f-4e73-cf9a-d3da938c060d"
      },
      "source": [
        "model4 = get_model4()\r\n",
        "model4.compile(optimizer= adam, metrics=['accuracy'], loss='categorical_crossentropy')"
      ],
      "execution_count": 26,
      "outputs": [
        {
          "output_type": "stream",
          "text": [
            "Downloading data from https://storage.googleapis.com/keras-applications/efficientnetb3_notop.h5\n",
            "43941888/43941136 [==============================] - 2s 0us/step\n"
          ],
          "name": "stdout"
        }
      ]
    },
    {
      "cell_type": "code",
      "metadata": {
        "id": "sPNWEI_mY3l9"
      },
      "source": [
        "model_save4 = ModelCheckpoint(\"/content/model_4\", \r\n",
        "                             save_best_only = True, \r\n",
        "                             save_weights_only = True,\r\n",
        "                             monitor = 'loss', \r\n",
        "                             mode = 'min', verbose = 1)\r\n",
        "early_stop4 = EarlyStopping(monitor = 'val_loss', min_delta = 0.001, \r\n",
        "                           patience = 5, mode = 'min', verbose = 1,\r\n",
        "                           restore_best_weights = True)\r\n",
        "reduce_lr4 = ReduceLROnPlateau(monitor = 'val_accuracy', factor = 0.001, \r\n",
        "                              patience = 2, min_delta = 0.001, \r\n",
        "                              mode = 'min', verbose = 1)"
      ],
      "execution_count": 27,
      "outputs": []
    },
    {
      "cell_type": "code",
      "metadata": {
        "id": "rDsp8mjnb2-3",
        "colab": {
          "base_uri": "https://localhost:8080/"
        },
        "outputId": "2f996890-0e44-4e81-a9d4-8e6e68d3ed55"
      },
      "source": [
        "history4 = model4.fit( train_gen.flow(x_train, y_train, batch_size=batch_size), epochs=epoch, callbacks=[model_save4])"
      ],
      "execution_count": 28,
      "outputs": [
        {
          "output_type": "stream",
          "text": [
            "Epoch 1/10\n",
            "203/203 [==============================] - 97s 398ms/step - loss: 1.4459 - accuracy: 0.5826\n",
            "\n",
            "Epoch 00001: loss improved from inf to 0.99991, saving model to /content/model_4\n",
            "Epoch 2/10\n",
            "203/203 [==============================] - 81s 397ms/step - loss: 0.5885 - accuracy: 0.8021\n",
            "\n",
            "Epoch 00002: loss improved from 0.99991 to 0.57157, saving model to /content/model_4\n",
            "Epoch 3/10\n",
            "203/203 [==============================] - 81s 397ms/step - loss: 0.4020 - accuracy: 0.8610\n",
            "\n",
            "Epoch 00003: loss improved from 0.57157 to 0.40824, saving model to /content/model_4\n",
            "Epoch 4/10\n",
            "203/203 [==============================] - 82s 400ms/step - loss: 0.3185 - accuracy: 0.8913\n",
            "\n",
            "Epoch 00004: loss improved from 0.40824 to 0.31699, saving model to /content/model_4\n",
            "Epoch 5/10\n",
            "203/203 [==============================] - 81s 398ms/step - loss: 0.2520 - accuracy: 0.9130\n",
            "\n",
            "Epoch 00005: loss improved from 0.31699 to 0.25465, saving model to /content/model_4\n",
            "Epoch 6/10\n",
            "203/203 [==============================] - 81s 398ms/step - loss: 0.2077 - accuracy: 0.9339\n",
            "\n",
            "Epoch 00006: loss improved from 0.25465 to 0.21857, saving model to /content/model_4\n",
            "Epoch 7/10\n",
            "203/203 [==============================] - 81s 395ms/step - loss: 0.2142 - accuracy: 0.9280\n",
            "\n",
            "Epoch 00007: loss did not improve from 0.21857\n",
            "Epoch 8/10\n",
            "203/203 [==============================] - 81s 398ms/step - loss: 0.1938 - accuracy: 0.9414\n",
            "\n",
            "Epoch 00008: loss improved from 0.21857 to 0.18435, saving model to /content/model_4\n",
            "Epoch 9/10\n",
            "203/203 [==============================] - 81s 397ms/step - loss: 0.1596 - accuracy: 0.9496\n",
            "\n",
            "Epoch 00009: loss improved from 0.18435 to 0.14723, saving model to /content/model_4\n",
            "Epoch 10/10\n",
            "203/203 [==============================] - 81s 397ms/step - loss: 0.1270 - accuracy: 0.9587\n",
            "\n",
            "Epoch 00010: loss did not improve from 0.14723\n"
          ],
          "name": "stdout"
        }
      ]
    },
    {
      "cell_type": "code",
      "metadata": {
        "id": "NEa2n9zlqJ3i"
      },
      "source": [
        "try:\r\n",
        "  os.remove('/content/submission.csv')\r\n",
        "except Exception as e:\r\n",
        "  print(\"No file exists\")\r\n",
        "with open('/content/submission.csv', 'w', newline='') as file:\r\n",
        "      writer = csv.writer(file, delimiter = ',')\r\n",
        "      writer.writerow([\"Image\", \"Class\"])"
      ],
      "execution_count": 29,
      "outputs": []
    },
    {
      "cell_type": "code",
      "metadata": {
        "id": "7RxKIp07cZCP"
      },
      "source": [
        "members = [model1, model2, model3, model4]"
      ],
      "execution_count": 30,
      "outputs": []
    },
    {
      "cell_type": "code",
      "metadata": {
        "id": "l8qfwlrCEUgl"
      },
      "source": [
        "def ensemble_predictions(members, testX):\r\n",
        "\t# make predictions\r\n",
        "\tyhats = [model.predict(testX) for model in members]\r\n",
        "\tyhats = np.array(yhats)\r\n",
        "\tsummed = np.sum(yhats, axis=0)\r\n",
        "\treturn summed"
      ],
      "execution_count": 31,
      "outputs": []
    },
    {
      "cell_type": "code",
      "metadata": {
        "id": "0MR4BOVQh5Y4",
        "colab": {
          "base_uri": "https://localhost:8080/"
        },
        "outputId": "0d1dd9ec-752f-46fe-a67b-12cf1f79464b"
      },
      "source": [
        "test_images = os.listdir(TEST_PATH)\r\n",
        "test_img = []\r\n",
        "for img_name in tqdm(test_images):\r\n",
        "    img = cv2.imread(TEST_PATH + img_name)\r\n",
        "    img = cv2.resize(img, (IMG_SIZE, IMG_SIZE))\r\n",
        "    test_img.append(img)"
      ],
      "execution_count": 32,
      "outputs": [
        {
          "output_type": "stream",
          "text": [
            "100%|██████████| 3489/3489 [00:01<00:00, 2761.04it/s]\n"
          ],
          "name": "stderr"
        }
      ]
    },
    {
      "cell_type": "code",
      "metadata": {
        "id": "etfCUjc6EYBa"
      },
      "source": [
        "x_test = np.array(test_img, np.float32) / 255"
      ],
      "execution_count": 33,
      "outputs": []
    },
    {
      "cell_type": "code",
      "metadata": {
        "id": "e3zuy-Pqqhyj"
      },
      "source": [
        "predictions = ensemble_predictions(members,x_test)"
      ],
      "execution_count": 34,
      "outputs": []
    },
    {
      "cell_type": "code",
      "metadata": {
        "id": "sdWPynWjEcqo"
      },
      "source": [
        "predictions = np.argmax(predictions, axis=1)\r\n",
        "rev_y = {v:k for k,v in label_numeric.items()}\r\n",
        "pred_labels = [rev_y[k] for k in predictions]"
      ],
      "execution_count": 35,
      "outputs": []
    },
    {
      "cell_type": "code",
      "metadata": {
        "id": "lyvbI6qDEfeW"
      },
      "source": [
        "sub = pd.DataFrame({'Image': test_images, 'Class': pred_labels})\r\n",
        "sub.to_csv('/content/submission.csv', index = False)"
      ],
      "execution_count": 36,
      "outputs": []
    },
    {
      "cell_type": "code",
      "metadata": {
        "id": "DHyIQc-hHJa2",
        "colab": {
          "base_uri": "https://localhost:8080/",
          "height": 17
        },
        "outputId": "f862cabe-75d8-4c36-d4d6-3029f5d8c586"
      },
      "source": [
        "from google.colab import files\r\n",
        "files.download('/content/submission.csv')"
      ],
      "execution_count": 37,
      "outputs": [
        {
          "output_type": "display_data",
          "data": {
            "application/javascript": [
              "\n",
              "    async function download(id, filename, size) {\n",
              "      if (!google.colab.kernel.accessAllowed) {\n",
              "        return;\n",
              "      }\n",
              "      const div = document.createElement('div');\n",
              "      const label = document.createElement('label');\n",
              "      label.textContent = `Downloading \"${filename}\": `;\n",
              "      div.appendChild(label);\n",
              "      const progress = document.createElement('progress');\n",
              "      progress.max = size;\n",
              "      div.appendChild(progress);\n",
              "      document.body.appendChild(div);\n",
              "\n",
              "      const buffers = [];\n",
              "      let downloaded = 0;\n",
              "\n",
              "      const channel = await google.colab.kernel.comms.open(id);\n",
              "      // Send a message to notify the kernel that we're ready.\n",
              "      channel.send({})\n",
              "\n",
              "      for await (const message of channel.messages) {\n",
              "        // Send a message to notify the kernel that we're ready.\n",
              "        channel.send({})\n",
              "        if (message.buffers) {\n",
              "          for (const buffer of message.buffers) {\n",
              "            buffers.push(buffer);\n",
              "            downloaded += buffer.byteLength;\n",
              "            progress.value = downloaded;\n",
              "          }\n",
              "        }\n",
              "      }\n",
              "      const blob = new Blob(buffers, {type: 'application/binary'});\n",
              "      const a = document.createElement('a');\n",
              "      a.href = window.URL.createObjectURL(blob);\n",
              "      a.download = filename;\n",
              "      div.appendChild(a);\n",
              "      a.click();\n",
              "      div.remove();\n",
              "    }\n",
              "  "
            ],
            "text/plain": [
              "<IPython.core.display.Javascript object>"
            ]
          },
          "metadata": {
            "tags": []
          }
        },
        {
          "output_type": "display_data",
          "data": {
            "application/javascript": [
              "download(\"download_3ea8fa16-3d76-4166-a862-14c293a99746\", \"submission.csv\", 93278)"
            ],
            "text/plain": [
              "<IPython.core.display.Javascript object>"
            ]
          },
          "metadata": {
            "tags": []
          }
        }
      ]
    },
    {
      "cell_type": "code",
      "metadata": {
        "id": "tfHcPHEIzq6T",
        "colab": {
          "base_uri": "https://localhost:8080/"
        },
        "outputId": "5103ffe1-3614-4147-8e55-e688e5d9f014"
      },
      "source": [
        "import gc \r\n",
        "gc.collect()"
      ],
      "execution_count": 38,
      "outputs": [
        {
          "output_type": "execute_result",
          "data": {
            "text/plain": [
              "2804"
            ]
          },
          "metadata": {
            "tags": []
          },
          "execution_count": 38
        }
      ]
    },
    {
      "cell_type": "code",
      "metadata": {
        "id": "hx8bwTQT5ln0"
      },
      "source": [
        ""
      ],
      "execution_count": 38,
      "outputs": []
    }
  ]
}